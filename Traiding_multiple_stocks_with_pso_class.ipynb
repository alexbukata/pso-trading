{
 "cells": [
  {
   "cell_type": "code",
   "execution_count": 111,
   "metadata": {
    "colab": {},
    "colab_type": "code",
    "id": "wuyWT2Xladgj"
   },
   "outputs": [],
   "source": [
    "import datetime as dtm\n",
    "import requests\n",
    "import pandas as pd\n",
    "import time\n",
    "import os\n",
    "import numpy as np\n",
    "import scipy as sp\n",
    "import pickle\n",
    "from xgboost import XGBRegressor, XGBClassifier\n",
    "from xgboost import plot_importance\n",
    "import matplotlib.pyplot as plt\n",
    "import random\n",
    "import src.data_retriever as intrinio\n",
    "import src.pso as pso\n",
    "from sklearn.model_selection import GridSearchCV, RandomizedSearchCV\n",
    "%matplotlib inline"
   ]
  },
  {
   "cell_type": "code",
   "execution_count": 112,
   "metadata": {
    "colab": {},
    "colab_type": "code",
    "id": "77i2DtOsadg4"
   },
   "outputs": [],
   "source": [
    "seed = int(dtm.datetime.now().timestamp())\n",
    "random.seed(seed)\n",
    "datefrom = dtm.datetime(2010, 1, 1)\n",
    "dateto = dtm.datetime(2019, 3, 1)"
   ]
  },
  {
   "cell_type": "code",
   "execution_count": 113,
   "metadata": {
    "colab": {},
    "colab_type": "code",
    "id": "B0-dz9GOadhI"
   },
   "outputs": [],
   "source": [
    "#DOW 30\n",
    "stock_names = ['AAPL', 'CSCO', 'WMT', 'MCD', 'GS', 'AXP', 'BA', 'KO', 'V', 'WMT', 'UNH']\n",
    "# stock_names = ['AAPL']"
   ]
  },
  {
   "cell_type": "code",
   "execution_count": 114,
   "metadata": {
    "colab": {},
    "colab_type": "code",
    "id": "pAwUEYYvadhb"
   },
   "outputs": [],
   "source": [
    "stocks_filename = 'stocks_dow30_full.csv'\n",
    "if os.path.isfile(stocks_filename):\n",
    "    stocks = pd.read_csv(stocks_filename)\n",
    "    stocks['date'] = pd.to_datetime(stocks['date'], format=\"%Y-%m-%d\")\n",
    "else:\n",
    "    stocks = intrinio.get_stocks_data(stock_names, datefrom, dateto)\n",
    "    stocks.to_csv(stocks_filename, index_label='id', columns=stocks.columns)"
   ]
  },
  {
   "cell_type": "markdown",
   "metadata": {
    "colab_type": "text",
    "id": "lwmRx8dSadiS"
   },
   "source": [
    "### Подготовка к обучению"
   ]
  },
  {
   "cell_type": "code",
   "execution_count": 115,
   "metadata": {
    "colab": {},
    "colab_type": "code",
    "id": "LVrkhzN1adiW"
   },
   "outputs": [],
   "source": [
    "train_datefrom = dtm.datetime(2010, 1, 1)\n",
    "train_dateto = dtm.datetime(2017, 1, 1)\n",
    "\n",
    "valid_datefrom = train_dateto\n",
    "valid_dateto = dtm.datetime(2018, 1, 1)"
   ]
  },
  {
   "cell_type": "code",
   "execution_count": 116,
   "metadata": {
    "colab": {},
    "colab_type": "code",
    "id": "ZwPmGqH4adin"
   },
   "outputs": [],
   "source": [
    "data = stocks.drop(0).reset_index(drop=True).drop('id', axis=1)\n",
    "data['date'] = data['date'].map(lambda x: x.timestamp())"
   ]
  },
  {
   "cell_type": "code",
   "execution_count": 117,
   "metadata": {
    "colab": {
     "base_uri": "https://localhost:8080/",
     "height": 139
    },
    "colab_type": "code",
    "id": "DcL7Q_-Fadi2",
    "outputId": "c68a9e1c-1284-4638-fa7c-284f718f541f"
   },
   "outputs": [
    {
     "name": "stderr",
     "output_type": "stream",
     "text": [
      "C:\\ProgramData\\Anaconda3\\lib\\site-packages\\ipykernel_launcher.py:7: FutureWarning: Method .as_matrix will be removed in a future version. Use .values instead.\n",
      "  import sys\n",
      "C:\\ProgramData\\Anaconda3\\lib\\site-packages\\sklearn\\preprocessing\\label.py:235: DataConversionWarning: A column-vector y was passed when a 1d array was expected. Please change the shape of y to (n_samples, ), for example using ravel().\n",
      "  y = column_or_1d(y, warn=True)\n"
     ]
    }
   ],
   "source": [
    "from sklearn.preprocessing import MinMaxScaler, LabelEncoder\n",
    "\n",
    "#to_normalize = ['volume_prev1', 'ebitda']\n",
    "#data['date_norm'] = MinMaxScaler().fit_transform(data['date'].as_matrix().reshape(-1, 1))\n",
    "#data['volume_prev1'] = MinMaxScaler().fit_transform(data['volume_prev1'].as_matrix().reshape(-1, 1))\n",
    "#data['ebitda'] = MinMaxScaler().fit_transform(data['ebitda'].as_matrix().reshape(-1, 1))\n",
    "data['stock_name'] = LabelEncoder().fit_transform(data['stock_name'].as_matrix().reshape(-1, 1))"
   ]
  },
  {
   "cell_type": "code",
   "execution_count": 118,
   "metadata": {
    "colab": {
     "base_uri": "https://localhost:8080/",
     "height": 34
    },
    "colab_type": "code",
    "id": "UDkwqeaeadjH",
    "outputId": "a93573cb-c6a9-427d-82a8-8bdb8ec4519e"
   },
   "outputs": [
    {
     "name": "stdout",
     "output_type": "stream",
     "text": [
      "49336\n"
     ]
    }
   ],
   "source": [
    "train_data = data[data['date'] <= train_dateto.timestamp()]\n",
    "X_train = train_data.drop(['date','close','adj_close', 'volume'],axis=1)\n",
    "print(len(X_train))\n",
    "Y_train_regr = train_data['close']\n",
    "Y_train_classify = train_data['close'] > train_data['open']"
   ]
  },
  {
   "cell_type": "code",
   "execution_count": 119,
   "metadata": {
    "colab": {
     "base_uri": "https://localhost:8080/",
     "height": 34
    },
    "colab_type": "code",
    "id": "N2umHbBuadjT",
    "outputId": "833fb4a4-558e-4f73-d7a6-26c8f67a461b"
   },
   "outputs": [
    {
     "name": "stdout",
     "output_type": "stream",
     "text": [
      "7028\n"
     ]
    }
   ],
   "source": [
    "valid_data = data[data['date'] > valid_datefrom.timestamp()]\n",
    "valid_data = valid_data[valid_data['date'] < valid_dateto.timestamp()]\n",
    "# valid_data = valid_data.query('(stock_name == 0)')\n",
    "X_valid = valid_data.drop(['date','close','adj_close', 'volume'],axis=1)\n",
    "print(len(X_valid))\n",
    "Y_valid_classify = valid_data['close'] > valid_data['open']"
   ]
  },
  {
   "cell_type": "code",
   "execution_count": 120,
   "metadata": {
    "colab": {
     "base_uri": "https://localhost:8080/",
     "height": 799
    },
    "colab_type": "code",
    "id": "lbsbqs1radjo",
    "outputId": "a2358970-942e-4c8c-9fa9-d8608364e330"
   },
   "outputs": [
    {
     "name": "stdout",
     "output_type": "stream",
     "text": [
      "[0]\tvalidation_0-auc:0.615554\tvalidation_1-auc:0.599843\n",
      "Multiple eval metrics have been passed: 'validation_1-auc' will be used for early stopping.\n",
      "\n",
      "Will train until validation_1-auc hasn't improved in 10 rounds.\n",
      "[1]\tvalidation_0-auc:0.629031\tvalidation_1-auc:0.612461\n",
      "[2]\tvalidation_0-auc:0.643176\tvalidation_1-auc:0.626252\n",
      "[3]\tvalidation_0-auc:0.6628\tvalidation_1-auc:0.639905\n",
      "[4]\tvalidation_0-auc:0.665915\tvalidation_1-auc:0.644574\n",
      "[5]\tvalidation_0-auc:0.670284\tvalidation_1-auc:0.651574\n",
      "[6]\tvalidation_0-auc:0.677803\tvalidation_1-auc:0.658704\n",
      "[7]\tvalidation_0-auc:0.679087\tvalidation_1-auc:0.660165\n",
      "[8]\tvalidation_0-auc:0.68301\tvalidation_1-auc:0.665407\n",
      "[9]\tvalidation_0-auc:0.688727\tvalidation_1-auc:0.670294\n",
      "[10]\tvalidation_0-auc:0.694339\tvalidation_1-auc:0.674975\n",
      "[11]\tvalidation_0-auc:0.695836\tvalidation_1-auc:0.677657\n",
      "[12]\tvalidation_0-auc:0.697036\tvalidation_1-auc:0.679909\n",
      "[13]\tvalidation_0-auc:0.698267\tvalidation_1-auc:0.681985\n",
      "[14]\tvalidation_0-auc:0.700608\tvalidation_1-auc:0.683348\n",
      "[15]\tvalidation_0-auc:0.702458\tvalidation_1-auc:0.684953\n",
      "[16]\tvalidation_0-auc:0.7033\tvalidation_1-auc:0.686775\n",
      "[17]\tvalidation_0-auc:0.703946\tvalidation_1-auc:0.687465\n",
      "[18]\tvalidation_0-auc:0.706701\tvalidation_1-auc:0.690348\n",
      "[19]\tvalidation_0-auc:0.708537\tvalidation_1-auc:0.691004\n",
      "[20]\tvalidation_0-auc:0.709737\tvalidation_1-auc:0.692524\n",
      "[21]\tvalidation_0-auc:0.71107\tvalidation_1-auc:0.69384\n",
      "[22]\tvalidation_0-auc:0.711368\tvalidation_1-auc:0.694256\n",
      "[23]\tvalidation_0-auc:0.713652\tvalidation_1-auc:0.69638\n",
      "[24]\tvalidation_0-auc:0.715064\tvalidation_1-auc:0.697796\n",
      "[25]\tvalidation_0-auc:0.716911\tvalidation_1-auc:0.699899\n",
      "[26]\tvalidation_0-auc:0.71874\tvalidation_1-auc:0.700036\n",
      "[27]\tvalidation_0-auc:0.719166\tvalidation_1-auc:0.700047\n",
      "[28]\tvalidation_0-auc:0.719377\tvalidation_1-auc:0.700599\n",
      "[29]\tvalidation_0-auc:0.72051\tvalidation_1-auc:0.700953\n",
      "[30]\tvalidation_0-auc:0.721413\tvalidation_1-auc:0.701545\n",
      "[31]\tvalidation_0-auc:0.723992\tvalidation_1-auc:0.7043\n",
      "[32]\tvalidation_0-auc:0.724466\tvalidation_1-auc:0.704405\n",
      "[33]\tvalidation_0-auc:0.726217\tvalidation_1-auc:0.704335\n",
      "[34]\tvalidation_0-auc:0.726697\tvalidation_1-auc:0.705013\n",
      "[35]\tvalidation_0-auc:0.728924\tvalidation_1-auc:0.707571\n",
      "[36]\tvalidation_0-auc:0.729738\tvalidation_1-auc:0.707411\n",
      "[37]\tvalidation_0-auc:0.731458\tvalidation_1-auc:0.709345\n",
      "[38]\tvalidation_0-auc:0.732283\tvalidation_1-auc:0.710008\n",
      "[39]\tvalidation_0-auc:0.733644\tvalidation_1-auc:0.710642\n",
      "[40]\tvalidation_0-auc:0.734858\tvalidation_1-auc:0.712036\n",
      "[41]\tvalidation_0-auc:0.734886\tvalidation_1-auc:0.712123\n",
      "[42]\tvalidation_0-auc:0.735819\tvalidation_1-auc:0.71309\n",
      "[43]\tvalidation_0-auc:0.736118\tvalidation_1-auc:0.713555\n",
      "[44]\tvalidation_0-auc:0.737029\tvalidation_1-auc:0.714843\n",
      "[45]\tvalidation_0-auc:0.738079\tvalidation_1-auc:0.715558\n",
      "[46]\tvalidation_0-auc:0.738906\tvalidation_1-auc:0.715697\n",
      "[47]\tvalidation_0-auc:0.739711\tvalidation_1-auc:0.716663\n",
      "[48]\tvalidation_0-auc:0.740363\tvalidation_1-auc:0.716709\n",
      "[49]\tvalidation_0-auc:0.741246\tvalidation_1-auc:0.717701\n",
      "[50]\tvalidation_0-auc:0.742212\tvalidation_1-auc:0.718146\n",
      "[51]\tvalidation_0-auc:0.743166\tvalidation_1-auc:0.718335\n",
      "[52]\tvalidation_0-auc:0.743459\tvalidation_1-auc:0.718189\n",
      "[53]\tvalidation_0-auc:0.744626\tvalidation_1-auc:0.719627\n",
      "[54]\tvalidation_0-auc:0.745196\tvalidation_1-auc:0.720196\n",
      "[55]\tvalidation_0-auc:0.746245\tvalidation_1-auc:0.721175\n",
      "[56]\tvalidation_0-auc:0.746941\tvalidation_1-auc:0.722008\n",
      "[57]\tvalidation_0-auc:0.747538\tvalidation_1-auc:0.722292\n",
      "[58]\tvalidation_0-auc:0.747458\tvalidation_1-auc:0.722334\n",
      "[59]\tvalidation_0-auc:0.747707\tvalidation_1-auc:0.722894\n",
      "[60]\tvalidation_0-auc:0.748147\tvalidation_1-auc:0.723079\n",
      "[61]\tvalidation_0-auc:0.749211\tvalidation_1-auc:0.724262\n",
      "[62]\tvalidation_0-auc:0.749648\tvalidation_1-auc:0.724778\n",
      "[63]\tvalidation_0-auc:0.75035\tvalidation_1-auc:0.724457\n",
      "[64]\tvalidation_0-auc:0.750521\tvalidation_1-auc:0.723875\n",
      "[65]\tvalidation_0-auc:0.751029\tvalidation_1-auc:0.72446\n",
      "[66]\tvalidation_0-auc:0.751415\tvalidation_1-auc:0.725145\n",
      "[67]\tvalidation_0-auc:0.751749\tvalidation_1-auc:0.725587\n",
      "[68]\tvalidation_0-auc:0.752811\tvalidation_1-auc:0.725634\n",
      "[69]\tvalidation_0-auc:0.753225\tvalidation_1-auc:0.725821\n",
      "[70]\tvalidation_0-auc:0.753499\tvalidation_1-auc:0.726317\n",
      "[71]\tvalidation_0-auc:0.75374\tvalidation_1-auc:0.72625\n",
      "[72]\tvalidation_0-auc:0.754282\tvalidation_1-auc:0.726386\n",
      "[73]\tvalidation_0-auc:0.754485\tvalidation_1-auc:0.72696\n",
      "[74]\tvalidation_0-auc:0.755027\tvalidation_1-auc:0.727355\n",
      "[75]\tvalidation_0-auc:0.755484\tvalidation_1-auc:0.727712\n",
      "[76]\tvalidation_0-auc:0.756151\tvalidation_1-auc:0.728357\n",
      "[77]\tvalidation_0-auc:0.75641\tvalidation_1-auc:0.7287\n",
      "[78]\tvalidation_0-auc:0.757179\tvalidation_1-auc:0.7287\n",
      "[79]\tvalidation_0-auc:0.757426\tvalidation_1-auc:0.728639\n",
      "[80]\tvalidation_0-auc:0.758189\tvalidation_1-auc:0.729223\n",
      "[81]\tvalidation_0-auc:0.758656\tvalidation_1-auc:0.730232\n",
      "[82]\tvalidation_0-auc:0.758739\tvalidation_1-auc:0.729835\n",
      "[83]\tvalidation_0-auc:0.758913\tvalidation_1-auc:0.730105\n",
      "[84]\tvalidation_0-auc:0.759983\tvalidation_1-auc:0.730361\n",
      "[85]\tvalidation_0-auc:0.76047\tvalidation_1-auc:0.730697\n",
      "[86]\tvalidation_0-auc:0.760981\tvalidation_1-auc:0.731257\n",
      "[87]\tvalidation_0-auc:0.761231\tvalidation_1-auc:0.731179\n",
      "[88]\tvalidation_0-auc:0.761643\tvalidation_1-auc:0.731447\n",
      "[89]\tvalidation_0-auc:0.761866\tvalidation_1-auc:0.731747\n",
      "[90]\tvalidation_0-auc:0.762124\tvalidation_1-auc:0.731954\n",
      "[91]\tvalidation_0-auc:0.762858\tvalidation_1-auc:0.731858\n",
      "[92]\tvalidation_0-auc:0.762966\tvalidation_1-auc:0.732077\n",
      "[93]\tvalidation_0-auc:0.763735\tvalidation_1-auc:0.732445\n",
      "[94]\tvalidation_0-auc:0.763939\tvalidation_1-auc:0.732529\n",
      "[95]\tvalidation_0-auc:0.764133\tvalidation_1-auc:0.73255\n",
      "[96]\tvalidation_0-auc:0.764408\tvalidation_1-auc:0.732726\n",
      "[97]\tvalidation_0-auc:0.764691\tvalidation_1-auc:0.733098\n",
      "[98]\tvalidation_0-auc:0.764896\tvalidation_1-auc:0.732921\n",
      "[99]\tvalidation_0-auc:0.765268\tvalidation_1-auc:0.733417\n"
     ]
    },
    {
     "data": {
      "text/plain": [
       "32.947492837905884"
      ]
     },
     "execution_count": 120,
     "metadata": {},
     "output_type": "execute_result"
    }
   ],
   "source": [
    "ts = time.time()\n",
    "\n",
    "default_model_class = XGBClassifier(seed=seed)\n",
    "\n",
    "default_model_class.fit(\n",
    "        X_train, \n",
    "        Y_train_classify, \n",
    "        eval_set=[(X_train, Y_train_classify), (X_valid, Y_valid_classify)], \n",
    "        verbose=True,         \n",
    "        eval_metric='auc',\n",
    "        early_stopping_rounds = 10)\n",
    "    \n",
    "time.time() - ts"
   ]
  },
  {
   "cell_type": "code",
   "execution_count": 143,
   "metadata": {
    "colab": {
     "base_uri": "https://localhost:8080/",
     "height": 802
    },
    "colab_type": "code",
    "id": "mgucmoxkadj6",
    "outputId": "9ae1b830-0f2d-4d17-8ec2-65c5508cc04a",
    "scrolled": true
   },
   "outputs": [
    {
     "data": {
      "text/plain": [
       "<matplotlib.axes._subplots.AxesSubplot at 0x1a322d05128>"
      ]
     },
     "execution_count": 143,
     "metadata": {},
     "output_type": "execute_result"
    },
    {
     "data": {
      "image/png": "[encoded data removed]",
      "text/plain": [
       "<Figure size 576x576 with 1 Axes>"
      ]
     },
     "metadata": {
      "needs_background": "light"
     },
     "output_type": "display_data"
    }
   ],
   "source": [
    "fig, ax = plt.subplots(1, 1, figsize=(8,8))\n",
    "plot_importance(booster=default_model_class, ax=ax,title='Default model feature importance', max_num_features=15)"
   ]
  },
  {
   "cell_type": "code",
   "execution_count": 122,
   "metadata": {
    "colab": {},
    "colab_type": "code",
    "id": "iJcB6ANyadkF"
   },
   "outputs": [],
   "source": [
    "def fitness_class(params):\n",
    "    params['seed'] = seed\n",
    "    params['n_jobs'] = 4\n",
    "    model_class = XGBClassifier(**params)  \n",
    "\n",
    "    model_class.fit(\n",
    "        X_train, \n",
    "        Y_train_classify, \n",
    "        eval_set=[(X_train, Y_train_classify), (X_valid, Y_valid_classify)],   \n",
    "        verbose=False,\n",
    "        eval_metric='auc',\n",
    "        early_stopping_rounds = 10)\n",
    "    return -model_class.best_score\n",
    "\n",
    "patterns = [\n",
    "    (\"max_depth\", int, 1, 50),\n",
    "    (\"n_estimators\", int, 10, 10000),\n",
    "    (\"min_child_weight\", int, 10, 5000),\n",
    "    (\"colsample_bytree\", float, 0.0, 1.0),\n",
    "    (\"subsample\", float, 0.1, 1.0),\n",
    "    (\"eta\", float, 0.0, 1.0),\n",
    "]"
   ]
  },
  {
   "cell_type": "code",
   "execution_count": 123,
   "metadata": {
    "colab": {
     "base_uri": "https://localhost:8080/",
     "height": 119
    },
    "colab_type": "code",
    "id": "o0541PCcadkj",
    "outputId": "d1c46e98-8bec-4470-9b54-e79d6e930259"
   },
   "outputs": [
    {
     "data": {
      "text/plain": [
       "0.0"
      ]
     },
     "execution_count": 123,
     "metadata": {},
     "output_type": "execute_result"
    }
   ],
   "source": [
    "random.seed(seed)\n",
    "ts = time.time()\n",
    "#opt_class, fitness_class_res = pso.optimize(patterns, fitness_class)\n",
    "time.time() - ts"
   ]
  },
  {
   "cell_type": "code",
   "execution_count": 124,
   "metadata": {
    "colab": {},
    "colab_type": "code",
    "id": "MkuZhwApadkt"
   },
   "outputs": [],
   "source": [
    "# opt_class['seed'] = seed\n",
    "# opt_class, fitness_class_res"
   ]
  },
  {
   "cell_type": "code",
   "execution_count": 125,
   "metadata": {
    "colab": {},
    "colab_type": "code",
    "id": "ebRcw_Iycrz7"
   },
   "outputs": [
    {
     "name": "stdout",
     "output_type": "stream",
     "text": [
      "[0]\tvalidation_0-auc:0.655642\tvalidation_1-auc:0.633536\n",
      "Multiple eval metrics have been passed: 'validation_1-auc' will be used for early stopping.\n",
      "\n",
      "Will train until validation_1-auc hasn't improved in 20 rounds.\n",
      "[1]\tvalidation_0-auc:0.680274\tvalidation_1-auc:0.657326\n",
      "[2]\tvalidation_0-auc:0.690956\tvalidation_1-auc:0.667994\n",
      "[3]\tvalidation_0-auc:0.697778\tvalidation_1-auc:0.674228\n",
      "[4]\tvalidation_0-auc:0.699549\tvalidation_1-auc:0.677291\n",
      "[5]\tvalidation_0-auc:0.702911\tvalidation_1-auc:0.679955\n",
      "[6]\tvalidation_0-auc:0.712187\tvalidation_1-auc:0.688229\n",
      "[7]\tvalidation_0-auc:0.712073\tvalidation_1-auc:0.685189\n",
      "[8]\tvalidation_0-auc:0.711635\tvalidation_1-auc:0.68304\n",
      "[9]\tvalidation_0-auc:0.715305\tvalidation_1-auc:0.68642\n",
      "[10]\tvalidation_0-auc:0.715769\tvalidation_1-auc:0.685232\n",
      "[11]\tvalidation_0-auc:0.714442\tvalidation_1-auc:0.684337\n",
      "[12]\tvalidation_0-auc:0.719272\tvalidation_1-auc:0.689907\n",
      "[13]\tvalidation_0-auc:0.71962\tvalidation_1-auc:0.68792\n",
      "[14]\tvalidation_0-auc:0.723087\tvalidation_1-auc:0.693553\n",
      "[15]\tvalidation_0-auc:0.724889\tvalidation_1-auc:0.695227\n",
      "[16]\tvalidation_0-auc:0.728034\tvalidation_1-auc:0.696953\n",
      "[17]\tvalidation_0-auc:0.73241\tvalidation_1-auc:0.701618\n",
      "[18]\tvalidation_0-auc:0.735968\tvalidation_1-auc:0.705381\n",
      "[19]\tvalidation_0-auc:0.737888\tvalidation_1-auc:0.707618\n",
      "[20]\tvalidation_0-auc:0.741178\tvalidation_1-auc:0.712227\n",
      "[21]\tvalidation_0-auc:0.744997\tvalidation_1-auc:0.717331\n",
      "[22]\tvalidation_0-auc:0.745717\tvalidation_1-auc:0.718952\n",
      "[23]\tvalidation_0-auc:0.747293\tvalidation_1-auc:0.720257\n",
      "[24]\tvalidation_0-auc:0.749035\tvalidation_1-auc:0.722795\n",
      "[25]\tvalidation_0-auc:0.750747\tvalidation_1-auc:0.722951\n",
      "[26]\tvalidation_0-auc:0.752103\tvalidation_1-auc:0.724722\n",
      "[27]\tvalidation_0-auc:0.753064\tvalidation_1-auc:0.725001\n",
      "[28]\tvalidation_0-auc:0.755537\tvalidation_1-auc:0.727572\n",
      "[29]\tvalidation_0-auc:0.756376\tvalidation_1-auc:0.727987\n",
      "[30]\tvalidation_0-auc:0.757285\tvalidation_1-auc:0.730179\n",
      "[31]\tvalidation_0-auc:0.758044\tvalidation_1-auc:0.731492\n",
      "[32]\tvalidation_0-auc:0.758976\tvalidation_1-auc:0.732687\n",
      "[33]\tvalidation_0-auc:0.759592\tvalidation_1-auc:0.733342\n",
      "[34]\tvalidation_0-auc:0.760521\tvalidation_1-auc:0.73432\n",
      "[35]\tvalidation_0-auc:0.761237\tvalidation_1-auc:0.734884\n",
      "[36]\tvalidation_0-auc:0.761768\tvalidation_1-auc:0.735011\n",
      "[37]\tvalidation_0-auc:0.76294\tvalidation_1-auc:0.735849\n",
      "[38]\tvalidation_0-auc:0.763656\tvalidation_1-auc:0.735931\n",
      "[39]\tvalidation_0-auc:0.764662\tvalidation_1-auc:0.736271\n",
      "[40]\tvalidation_0-auc:0.765256\tvalidation_1-auc:0.736759\n",
      "[41]\tvalidation_0-auc:0.765567\tvalidation_1-auc:0.737013\n",
      "[42]\tvalidation_0-auc:0.765771\tvalidation_1-auc:0.737818\n",
      "[43]\tvalidation_0-auc:0.766478\tvalidation_1-auc:0.737642\n",
      "[44]\tvalidation_0-auc:0.767762\tvalidation_1-auc:0.73725\n",
      "[45]\tvalidation_0-auc:0.768141\tvalidation_1-auc:0.737308\n",
      "[46]\tvalidation_0-auc:0.768908\tvalidation_1-auc:0.7374\n",
      "[47]\tvalidation_0-auc:0.769612\tvalidation_1-auc:0.737315\n",
      "[48]\tvalidation_0-auc:0.770487\tvalidation_1-auc:0.737385\n",
      "[49]\tvalidation_0-auc:0.771026\tvalidation_1-auc:0.737552\n",
      "[50]\tvalidation_0-auc:0.771902\tvalidation_1-auc:0.737209\n",
      "[51]\tvalidation_0-auc:0.772493\tvalidation_1-auc:0.7374\n",
      "[52]\tvalidation_0-auc:0.773425\tvalidation_1-auc:0.737545\n",
      "[53]\tvalidation_0-auc:0.773892\tvalidation_1-auc:0.737457\n",
      "[54]\tvalidation_0-auc:0.774532\tvalidation_1-auc:0.737498\n",
      "[55]\tvalidation_0-auc:0.774793\tvalidation_1-auc:0.737588\n",
      "[56]\tvalidation_0-auc:0.775325\tvalidation_1-auc:0.738061\n",
      "[57]\tvalidation_0-auc:0.775821\tvalidation_1-auc:0.738417\n",
      "[58]\tvalidation_0-auc:0.775967\tvalidation_1-auc:0.738773\n",
      "[59]\tvalidation_0-auc:0.776364\tvalidation_1-auc:0.738644\n",
      "[60]\tvalidation_0-auc:0.77719\tvalidation_1-auc:0.739073\n",
      "[61]\tvalidation_0-auc:0.777694\tvalidation_1-auc:0.739301\n",
      "[62]\tvalidation_0-auc:0.778316\tvalidation_1-auc:0.739661\n",
      "[63]\tvalidation_0-auc:0.77862\tvalidation_1-auc:0.739741\n",
      "[64]\tvalidation_0-auc:0.779363\tvalidation_1-auc:0.739671\n",
      "[65]\tvalidation_0-auc:0.779896\tvalidation_1-auc:0.740011\n",
      "[66]\tvalidation_0-auc:0.780125\tvalidation_1-auc:0.74025\n",
      "[67]\tvalidation_0-auc:0.780576\tvalidation_1-auc:0.740342\n",
      "[68]\tvalidation_0-auc:0.780994\tvalidation_1-auc:0.740621\n",
      "[69]\tvalidation_0-auc:0.781373\tvalidation_1-auc:0.740728\n",
      "[70]\tvalidation_0-auc:0.781911\tvalidation_1-auc:0.740579\n",
      "[71]\tvalidation_0-auc:0.782054\tvalidation_1-auc:0.740913\n",
      "[72]\tvalidation_0-auc:0.782471\tvalidation_1-auc:0.740935\n",
      "[73]\tvalidation_0-auc:0.783227\tvalidation_1-auc:0.741108\n",
      "[74]\tvalidation_0-auc:0.783665\tvalidation_1-auc:0.741174\n",
      "[75]\tvalidation_0-auc:0.783912\tvalidation_1-auc:0.74112\n",
      "[76]\tvalidation_0-auc:0.78429\tvalidation_1-auc:0.74094\n",
      "[77]\tvalidation_0-auc:0.784679\tvalidation_1-auc:0.741068\n",
      "[78]\tvalidation_0-auc:0.785222\tvalidation_1-auc:0.7413\n",
      "[79]\tvalidation_0-auc:0.78557\tvalidation_1-auc:0.741712\n",
      "[80]\tvalidation_0-auc:0.785938\tvalidation_1-auc:0.742415\n",
      "[81]\tvalidation_0-auc:0.786147\tvalidation_1-auc:0.742395\n",
      "[82]\tvalidation_0-auc:0.786832\tvalidation_1-auc:0.742687\n",
      "[83]\tvalidation_0-auc:0.787225\tvalidation_1-auc:0.74275\n",
      "[84]\tvalidation_0-auc:0.787595\tvalidation_1-auc:0.7428\n",
      "[85]\tvalidation_0-auc:0.788093\tvalidation_1-auc:0.743042\n",
      "[86]\tvalidation_0-auc:0.788466\tvalidation_1-auc:0.742932\n",
      "[87]\tvalidation_0-auc:0.788856\tvalidation_1-auc:0.742795\n",
      "[88]\tvalidation_0-auc:0.789317\tvalidation_1-auc:0.742806\n",
      "[89]\tvalidation_0-auc:0.78961\tvalidation_1-auc:0.742977\n",
      "[90]\tvalidation_0-auc:0.789931\tvalidation_1-auc:0.742868\n",
      "[91]\tvalidation_0-auc:0.790338\tvalidation_1-auc:0.74309\n",
      "[92]\tvalidation_0-auc:0.790661\tvalidation_1-auc:0.74325\n",
      "[93]\tvalidation_0-auc:0.791105\tvalidation_1-auc:0.742959\n",
      "[94]\tvalidation_0-auc:0.791599\tvalidation_1-auc:0.743028\n",
      "[95]\tvalidation_0-auc:0.792147\tvalidation_1-auc:0.74348\n",
      "[96]\tvalidation_0-auc:0.792463\tvalidation_1-auc:0.743443\n",
      "[97]\tvalidation_0-auc:0.793037\tvalidation_1-auc:0.743456\n",
      "[98]\tvalidation_0-auc:0.793057\tvalidation_1-auc:0.74368\n",
      "[99]\tvalidation_0-auc:0.79349\tvalidation_1-auc:0.74384\n",
      "[100]\tvalidation_0-auc:0.793738\tvalidation_1-auc:0.743628\n",
      "[101]\tvalidation_0-auc:0.793954\tvalidation_1-auc:0.743889\n",
      "[102]\tvalidation_0-auc:0.794398\tvalidation_1-auc:0.743836\n",
      "[103]\tvalidation_0-auc:0.794882\tvalidation_1-auc:0.744014\n",
      "[104]\tvalidation_0-auc:0.795378\tvalidation_1-auc:0.744197\n",
      "[105]\tvalidation_0-auc:0.795659\tvalidation_1-auc:0.744141\n",
      "[106]\tvalidation_0-auc:0.795952\tvalidation_1-auc:0.744097\n",
      "[107]\tvalidation_0-auc:0.796296\tvalidation_1-auc:0.744258\n",
      "[108]\tvalidation_0-auc:0.796376\tvalidation_1-auc:0.744367\n",
      "[109]\tvalidation_0-auc:0.796797\tvalidation_1-auc:0.744276\n",
      "[110]\tvalidation_0-auc:0.797037\tvalidation_1-auc:0.744219\n",
      "[111]\tvalidation_0-auc:0.797508\tvalidation_1-auc:0.744219\n",
      "[112]\tvalidation_0-auc:0.797812\tvalidation_1-auc:0.74458\n",
      "[113]\tvalidation_0-auc:0.798101\tvalidation_1-auc:0.744589\n",
      "[114]\tvalidation_0-auc:0.798259\tvalidation_1-auc:0.744556\n",
      "[115]\tvalidation_0-auc:0.798481\tvalidation_1-auc:0.744569\n",
      "[116]\tvalidation_0-auc:0.798947\tvalidation_1-auc:0.744611\n",
      "[117]\tvalidation_0-auc:0.799494\tvalidation_1-auc:0.744333\n",
      "[118]\tvalidation_0-auc:0.799953\tvalidation_1-auc:0.744445\n",
      "[119]\tvalidation_0-auc:0.800134\tvalidation_1-auc:0.744374\n",
      "[120]\tvalidation_0-auc:0.800617\tvalidation_1-auc:0.744307\n",
      "[121]\tvalidation_0-auc:0.80109\tvalidation_1-auc:0.744087\n",
      "[122]\tvalidation_0-auc:0.801227\tvalidation_1-auc:0.744185\n",
      "[123]\tvalidation_0-auc:0.801575\tvalidation_1-auc:0.744005\n",
      "[124]\tvalidation_0-auc:0.801674\tvalidation_1-auc:0.744091\n",
      "[125]\tvalidation_0-auc:0.801984\tvalidation_1-auc:0.744402\n",
      "[126]\tvalidation_0-auc:0.802383\tvalidation_1-auc:0.744265\n",
      "[127]\tvalidation_0-auc:0.802606\tvalidation_1-auc:0.744225\n",
      "[128]\tvalidation_0-auc:0.802856\tvalidation_1-auc:0.744209\n",
      "[129]\tvalidation_0-auc:0.803049\tvalidation_1-auc:0.7443\n",
      "[130]\tvalidation_0-auc:0.803401\tvalidation_1-auc:0.74432\n",
      "[131]\tvalidation_0-auc:0.803784\tvalidation_1-auc:0.744206\n",
      "[132]\tvalidation_0-auc:0.803958\tvalidation_1-auc:0.744184\n",
      "[133]\tvalidation_0-auc:0.804269\tvalidation_1-auc:0.744349\n",
      "[134]\tvalidation_0-auc:0.804571\tvalidation_1-auc:0.744306\n",
      "[135]\tvalidation_0-auc:0.804883\tvalidation_1-auc:0.744306\n",
      "[136]\tvalidation_0-auc:0.805251\tvalidation_1-auc:0.744067\n",
      "Stopping. Best iteration:\n",
      "[116]\tvalidation_0-auc:0.798947\tvalidation_1-auc:0.744611\n",
      "\n"
     ]
    },
    {
     "data": {
      "text/plain": [
       "XGBClassifier(base_score=0.5, booster='gbtree', colsample_bylevel=1,\n",
       "       colsample_bytree=0.3835295385104849, eta=0.8885150603875441,\n",
       "       gamma=0, learning_rate=0.1, max_delta_step=0, max_depth=14,\n",
       "       min_child_weight=308, missing=None, n_estimators=631, n_jobs=1,\n",
       "       nthread=None, objective='binary:logistic', random_state=0,\n",
       "       reg_alpha=0, reg_lambda=1, scale_pos_weight=1, seed=1558269237,\n",
       "       silent=True, subsample=0.8779845029326574)"
      ]
     },
     "execution_count": 125,
     "metadata": {},
     "output_type": "execute_result"
    }
   ],
   "source": [
    " params_pso_class = {'max_depth': 14,\n",
    "  'n_estimators': 631,\n",
    "  'min_child_weight': 308,\n",
    "  'colsample_bytree': 0.3835295385104849,\n",
    "  'subsample': 0.8779845029326574,\n",
    "  'eta': 0.8885150603875441,\n",
    "  'seed': seed}\n",
    "# params_pso_class = opt_class\n",
    "model_pso_class_opt = XGBClassifier(**params_pso_class)\n",
    "model_pso_class_opt.fit(\n",
    "        X_train, \n",
    "        Y_train_classify, \n",
    "        eval_set=[(X_train, Y_train_classify), (X_valid, Y_valid_classify)],   \n",
    "        verbose=True,\n",
    "        eval_metric='auc',\n",
    "        early_stopping_rounds = 20)"
   ]
  },
  {
   "cell_type": "code",
   "execution_count": 145,
   "metadata": {
    "colab": {},
    "colab_type": "code",
    "id": "ZPi2TnZvhF6W"
   },
   "outputs": [
    {
     "data": {
      "text/plain": [
       "<matplotlib.axes._subplots.AxesSubplot at 0x1a322d47668>"
      ]
     },
     "execution_count": 145,
     "metadata": {},
     "output_type": "execute_result"
    },
    {
     "data": {
      "image/png": "[encoded data removed]",
      "text/plain": [
       "<Figure size 720x720 with 1 Axes>"
      ]
     },
     "metadata": {
      "needs_background": "light"
     },
     "output_type": "display_data"
    }
   ],
   "source": [
    "fig, ax = plt.subplots(1, 1, figsize=(10,10))\n",
    "plot_importance(booster=model_pso_class_opt, ax=ax, max_num_features=20, title='PSO feature importance')"
   ]
  },
  {
   "cell_type": "code",
   "execution_count": 127,
   "metadata": {
    "colab": {},
    "colab_type": "code",
    "id": "rQDi8o9Eadk_",
    "scrolled": true
   },
   "outputs": [
    {
     "data": {
      "text/plain": [
       "0.0009980201721191406"
      ]
     },
     "execution_count": 127,
     "metadata": {},
     "output_type": "execute_result"
    }
   ],
   "source": [
    "random.seed(seed)\n",
    "param_dist = {\"max_depth\": sp.stats.randint(1, 50),\n",
    "              \"n_estimators\": sp.stats.randint(10, 10000),\n",
    "              \"min_child_weight\": sp.stats.randint(10, 10000),\n",
    "              \"subsample\": sp.stats.uniform(0, 1),\n",
    "              \"colsample_bytree\": sp.stats.uniform(0, 1),\n",
    "              \"eta\":sp.stats.uniform(0, 1)}\n",
    "ts = time.time()\n",
    "# search_classif=RandomizedSearchCV(XGBClassifier(), param_distributions=param_dist, scoring=\"roc_auc\", n_jobs=3, verbose=10)\n",
    "# search_classif.fit(X_train, Y_train_classify)\n",
    "time.time() - ts"
   ]
  },
  {
   "cell_type": "code",
   "execution_count": 128,
   "metadata": {
    "colab": {},
    "colab_type": "code",
    "id": "TJXnm2EzadlL"
   },
   "outputs": [],
   "source": [
    "# search_classif.cv_results_"
   ]
  },
  {
   "cell_type": "code",
   "execution_count": 129,
   "metadata": {},
   "outputs": [],
   "source": [
    "rscv_opt_class = {\n",
    "  'colsample_bytree': 0.660990766743628,\n",
    "  'max_depth': 42,\n",
    "  'min_child_weight': 791,\n",
    "  'n_estimators': 5890,\n",
    "  'seed': seed,\n",
    "  'subsample': 0.8348475397192338,\n",
    "  'eta': 0.5027783968770865}"
   ]
  },
  {
   "cell_type": "code",
   "execution_count": 130,
   "metadata": {
    "colab": {},
    "colab_type": "code",
    "id": "cR7F8mTEhKi6"
   },
   "outputs": [],
   "source": [
    "# rscv_opt_class = search_classif.best_estimator_.get_params()\n",
    "# rscv_opt_class['seed']=seed\n",
    "# rscv_opt_class, search_classif.best_score_"
   ]
  },
  {
   "cell_type": "code",
   "execution_count": 131,
   "metadata": {
    "colab": {},
    "colab_type": "code",
    "id": "NlVnppxQadlZ"
   },
   "outputs": [
    {
     "name": "stdout",
     "output_type": "stream",
     "text": [
      "[0]\tvalidation_0-auc:0.631145\tvalidation_1-auc:0.615996\n",
      "Multiple eval metrics have been passed: 'validation_1-auc' will be used for early stopping.\n",
      "\n",
      "Will train until validation_1-auc hasn't improved in 10 rounds.\n",
      "[1]\tvalidation_0-auc:0.652714\tvalidation_1-auc:0.636225\n",
      "[2]\tvalidation_0-auc:0.656313\tvalidation_1-auc:0.639443\n",
      "[3]\tvalidation_0-auc:0.666403\tvalidation_1-auc:0.652448\n",
      "[4]\tvalidation_0-auc:0.676671\tvalidation_1-auc:0.659386\n",
      "[5]\tvalidation_0-auc:0.685824\tvalidation_1-auc:0.670088\n",
      "[6]\tvalidation_0-auc:0.686671\tvalidation_1-auc:0.671983\n",
      "[7]\tvalidation_0-auc:0.693026\tvalidation_1-auc:0.676259\n",
      "[8]\tvalidation_0-auc:0.695182\tvalidation_1-auc:0.67813\n",
      "[9]\tvalidation_0-auc:0.696995\tvalidation_1-auc:0.680941\n",
      "[10]\tvalidation_0-auc:0.698389\tvalidation_1-auc:0.680489\n",
      "[11]\tvalidation_0-auc:0.699762\tvalidation_1-auc:0.683121\n",
      "[12]\tvalidation_0-auc:0.705517\tvalidation_1-auc:0.688818\n",
      "[13]\tvalidation_0-auc:0.707837\tvalidation_1-auc:0.690837\n",
      "[14]\tvalidation_0-auc:0.709097\tvalidation_1-auc:0.692543\n",
      "[15]\tvalidation_0-auc:0.708939\tvalidation_1-auc:0.692431\n",
      "[16]\tvalidation_0-auc:0.71242\tvalidation_1-auc:0.69556\n",
      "[17]\tvalidation_0-auc:0.714446\tvalidation_1-auc:0.697835\n",
      "[18]\tvalidation_0-auc:0.714666\tvalidation_1-auc:0.698492\n",
      "[19]\tvalidation_0-auc:0.716366\tvalidation_1-auc:0.700856\n",
      "[20]\tvalidation_0-auc:0.717505\tvalidation_1-auc:0.702134\n",
      "[21]\tvalidation_0-auc:0.718953\tvalidation_1-auc:0.702756\n",
      "[22]\tvalidation_0-auc:0.720298\tvalidation_1-auc:0.704964\n",
      "[23]\tvalidation_0-auc:0.722485\tvalidation_1-auc:0.707308\n",
      "[24]\tvalidation_0-auc:0.724384\tvalidation_1-auc:0.709847\n",
      "[25]\tvalidation_0-auc:0.724918\tvalidation_1-auc:0.710175\n",
      "[26]\tvalidation_0-auc:0.726162\tvalidation_1-auc:0.7111\n",
      "[27]\tvalidation_0-auc:0.727282\tvalidation_1-auc:0.712263\n",
      "[28]\tvalidation_0-auc:0.727796\tvalidation_1-auc:0.712583\n",
      "[29]\tvalidation_0-auc:0.728418\tvalidation_1-auc:0.713238\n",
      "[30]\tvalidation_0-auc:0.7288\tvalidation_1-auc:0.714125\n",
      "[31]\tvalidation_0-auc:0.729755\tvalidation_1-auc:0.71415\n",
      "[32]\tvalidation_0-auc:0.730735\tvalidation_1-auc:0.715096\n",
      "[33]\tvalidation_0-auc:0.731837\tvalidation_1-auc:0.715096\n",
      "[34]\tvalidation_0-auc:0.73217\tvalidation_1-auc:0.715565\n",
      "[35]\tvalidation_0-auc:0.733774\tvalidation_1-auc:0.716707\n",
      "[36]\tvalidation_0-auc:0.73424\tvalidation_1-auc:0.717617\n",
      "[37]\tvalidation_0-auc:0.734794\tvalidation_1-auc:0.717665\n",
      "[38]\tvalidation_0-auc:0.735681\tvalidation_1-auc:0.718187\n",
      "[39]\tvalidation_0-auc:0.735872\tvalidation_1-auc:0.718585\n",
      "[40]\tvalidation_0-auc:0.737041\tvalidation_1-auc:0.719766\n",
      "[41]\tvalidation_0-auc:0.737886\tvalidation_1-auc:0.719766\n",
      "[42]\tvalidation_0-auc:0.738716\tvalidation_1-auc:0.721033\n",
      "[43]\tvalidation_0-auc:0.739306\tvalidation_1-auc:0.722118\n",
      "[44]\tvalidation_0-auc:0.739547\tvalidation_1-auc:0.722319\n",
      "[45]\tvalidation_0-auc:0.740229\tvalidation_1-auc:0.722914\n",
      "[46]\tvalidation_0-auc:0.74086\tvalidation_1-auc:0.723119\n",
      "[47]\tvalidation_0-auc:0.741175\tvalidation_1-auc:0.722919\n",
      "[48]\tvalidation_0-auc:0.741728\tvalidation_1-auc:0.723643\n",
      "[49]\tvalidation_0-auc:0.742056\tvalidation_1-auc:0.723928\n",
      "[50]\tvalidation_0-auc:0.742696\tvalidation_1-auc:0.724456\n",
      "[51]\tvalidation_0-auc:0.743217\tvalidation_1-auc:0.724498\n",
      "[52]\tvalidation_0-auc:0.743922\tvalidation_1-auc:0.724524\n",
      "[53]\tvalidation_0-auc:0.744679\tvalidation_1-auc:0.72535\n",
      "[54]\tvalidation_0-auc:0.745182\tvalidation_1-auc:0.725672\n",
      "[55]\tvalidation_0-auc:0.745899\tvalidation_1-auc:0.726084\n",
      "[56]\tvalidation_0-auc:0.746327\tvalidation_1-auc:0.726865\n",
      "[57]\tvalidation_0-auc:0.746642\tvalidation_1-auc:0.726982\n",
      "[58]\tvalidation_0-auc:0.746821\tvalidation_1-auc:0.727377\n",
      "[59]\tvalidation_0-auc:0.747435\tvalidation_1-auc:0.727529\n",
      "[60]\tvalidation_0-auc:0.747752\tvalidation_1-auc:0.727406\n",
      "[61]\tvalidation_0-auc:0.748452\tvalidation_1-auc:0.727406\n",
      "[62]\tvalidation_0-auc:0.748777\tvalidation_1-auc:0.727927\n",
      "[63]\tvalidation_0-auc:0.749209\tvalidation_1-auc:0.728554\n",
      "[64]\tvalidation_0-auc:0.749757\tvalidation_1-auc:0.729337\n",
      "[65]\tvalidation_0-auc:0.750108\tvalidation_1-auc:0.729394\n",
      "[66]\tvalidation_0-auc:0.750348\tvalidation_1-auc:0.729653\n",
      "[67]\tvalidation_0-auc:0.750691\tvalidation_1-auc:0.729505\n",
      "[68]\tvalidation_0-auc:0.750751\tvalidation_1-auc:0.729378\n",
      "[69]\tvalidation_0-auc:0.751121\tvalidation_1-auc:0.729642\n",
      "[70]\tvalidation_0-auc:0.751799\tvalidation_1-auc:0.729551\n",
      "[71]\tvalidation_0-auc:0.751864\tvalidation_1-auc:0.72985\n",
      "[72]\tvalidation_0-auc:0.752248\tvalidation_1-auc:0.730347\n",
      "[73]\tvalidation_0-auc:0.752682\tvalidation_1-auc:0.730347\n",
      "[74]\tvalidation_0-auc:0.753218\tvalidation_1-auc:0.73032\n",
      "[75]\tvalidation_0-auc:0.75362\tvalidation_1-auc:0.73114\n",
      "[76]\tvalidation_0-auc:0.753894\tvalidation_1-auc:0.7316\n",
      "[77]\tvalidation_0-auc:0.754152\tvalidation_1-auc:0.731574\n",
      "[78]\tvalidation_0-auc:0.754375\tvalidation_1-auc:0.731448\n",
      "[79]\tvalidation_0-auc:0.75462\tvalidation_1-auc:0.731864\n",
      "[80]\tvalidation_0-auc:0.754947\tvalidation_1-auc:0.731924\n",
      "[81]\tvalidation_0-auc:0.755179\tvalidation_1-auc:0.731869\n",
      "[82]\tvalidation_0-auc:0.755461\tvalidation_1-auc:0.732038\n",
      "[83]\tvalidation_0-auc:0.755835\tvalidation_1-auc:0.732289\n",
      "[84]\tvalidation_0-auc:0.755981\tvalidation_1-auc:0.732269\n",
      "[85]\tvalidation_0-auc:0.756176\tvalidation_1-auc:0.732425\n",
      "[86]\tvalidation_0-auc:0.75647\tvalidation_1-auc:0.73236\n",
      "[87]\tvalidation_0-auc:0.756675\tvalidation_1-auc:0.732534\n",
      "[88]\tvalidation_0-auc:0.756889\tvalidation_1-auc:0.732793\n",
      "[89]\tvalidation_0-auc:0.757083\tvalidation_1-auc:0.733167\n",
      "[90]\tvalidation_0-auc:0.757255\tvalidation_1-auc:0.733246\n",
      "[91]\tvalidation_0-auc:0.75756\tvalidation_1-auc:0.733403\n",
      "[92]\tvalidation_0-auc:0.757793\tvalidation_1-auc:0.733799\n",
      "[93]\tvalidation_0-auc:0.758095\tvalidation_1-auc:0.733861\n",
      "[94]\tvalidation_0-auc:0.758491\tvalidation_1-auc:0.733861\n",
      "[95]\tvalidation_0-auc:0.758745\tvalidation_1-auc:0.734205\n",
      "[96]\tvalidation_0-auc:0.759047\tvalidation_1-auc:0.734092\n",
      "[97]\tvalidation_0-auc:0.759208\tvalidation_1-auc:0.734249\n",
      "[98]\tvalidation_0-auc:0.759411\tvalidation_1-auc:0.73424\n",
      "[99]\tvalidation_0-auc:0.759465\tvalidation_1-auc:0.734117\n",
      "[100]\tvalidation_0-auc:0.75965\tvalidation_1-auc:0.734412\n",
      "[101]\tvalidation_0-auc:0.759884\tvalidation_1-auc:0.734236\n",
      "[102]\tvalidation_0-auc:0.760147\tvalidation_1-auc:0.734037\n",
      "[103]\tvalidation_0-auc:0.76038\tvalidation_1-auc:0.734283\n",
      "[104]\tvalidation_0-auc:0.760446\tvalidation_1-auc:0.734239\n",
      "[105]\tvalidation_0-auc:0.760533\tvalidation_1-auc:0.734167\n",
      "[106]\tvalidation_0-auc:0.760879\tvalidation_1-auc:0.734167\n",
      "[107]\tvalidation_0-auc:0.761024\tvalidation_1-auc:0.734254\n",
      "[108]\tvalidation_0-auc:0.761119\tvalidation_1-auc:0.734242\n",
      "[109]\tvalidation_0-auc:0.761388\tvalidation_1-auc:0.734217\n",
      "[110]\tvalidation_0-auc:0.761656\tvalidation_1-auc:0.734461\n",
      "[111]\tvalidation_0-auc:0.761988\tvalidation_1-auc:0.734868\n",
      "[112]\tvalidation_0-auc:0.76196\tvalidation_1-auc:0.73482\n",
      "[113]\tvalidation_0-auc:0.762058\tvalidation_1-auc:0.734956\n",
      "[114]\tvalidation_0-auc:0.762097\tvalidation_1-auc:0.73514\n",
      "[115]\tvalidation_0-auc:0.762316\tvalidation_1-auc:0.73513\n",
      "[116]\tvalidation_0-auc:0.762401\tvalidation_1-auc:0.735191\n",
      "[117]\tvalidation_0-auc:0.762504\tvalidation_1-auc:0.735384\n",
      "[118]\tvalidation_0-auc:0.762586\tvalidation_1-auc:0.73544\n",
      "[119]\tvalidation_0-auc:0.762895\tvalidation_1-auc:0.735581\n",
      "[120]\tvalidation_0-auc:0.762992\tvalidation_1-auc:0.735635\n",
      "[121]\tvalidation_0-auc:0.763071\tvalidation_1-auc:0.735862\n",
      "[122]\tvalidation_0-auc:0.763217\tvalidation_1-auc:0.736205\n",
      "[123]\tvalidation_0-auc:0.763577\tvalidation_1-auc:0.736318\n",
      "[124]\tvalidation_0-auc:0.763764\tvalidation_1-auc:0.736263\n",
      "[125]\tvalidation_0-auc:0.763901\tvalidation_1-auc:0.736367\n",
      "[126]\tvalidation_0-auc:0.764209\tvalidation_1-auc:0.736498\n",
      "[127]\tvalidation_0-auc:0.764465\tvalidation_1-auc:0.736395\n",
      "[128]\tvalidation_0-auc:0.764537\tvalidation_1-auc:0.736537\n",
      "[129]\tvalidation_0-auc:0.764833\tvalidation_1-auc:0.736355\n",
      "[130]\tvalidation_0-auc:0.765057\tvalidation_1-auc:0.736562\n",
      "[131]\tvalidation_0-auc:0.765242\tvalidation_1-auc:0.736702\n",
      "[132]\tvalidation_0-auc:0.765332\tvalidation_1-auc:0.736694\n",
      "[133]\tvalidation_0-auc:0.76558\tvalidation_1-auc:0.736869\n",
      "[134]\tvalidation_0-auc:0.76572\tvalidation_1-auc:0.73695\n",
      "[135]\tvalidation_0-auc:0.766046\tvalidation_1-auc:0.736954\n",
      "[136]\tvalidation_0-auc:0.766266\tvalidation_1-auc:0.736671\n",
      "[137]\tvalidation_0-auc:0.766378\tvalidation_1-auc:0.736735\n",
      "[138]\tvalidation_0-auc:0.766525\tvalidation_1-auc:0.736932\n",
      "[139]\tvalidation_0-auc:0.766683\tvalidation_1-auc:0.73692\n",
      "[140]\tvalidation_0-auc:0.766788\tvalidation_1-auc:0.736942\n",
      "[141]\tvalidation_0-auc:0.76706\tvalidation_1-auc:0.737074\n"
     ]
    },
    {
     "name": "stdout",
     "output_type": "stream",
     "text": [
      "[142]\tvalidation_0-auc:0.767176\tvalidation_1-auc:0.736821\n",
      "[143]\tvalidation_0-auc:0.767261\tvalidation_1-auc:0.736935\n",
      "[144]\tvalidation_0-auc:0.767409\tvalidation_1-auc:0.736837\n",
      "[145]\tvalidation_0-auc:0.767562\tvalidation_1-auc:0.736795\n",
      "[146]\tvalidation_0-auc:0.767712\tvalidation_1-auc:0.73695\n",
      "[147]\tvalidation_0-auc:0.767833\tvalidation_1-auc:0.737038\n",
      "[148]\tvalidation_0-auc:0.767939\tvalidation_1-auc:0.737207\n",
      "[149]\tvalidation_0-auc:0.768082\tvalidation_1-auc:0.737188\n",
      "[150]\tvalidation_0-auc:0.768282\tvalidation_1-auc:0.737331\n",
      "[151]\tvalidation_0-auc:0.768427\tvalidation_1-auc:0.737274\n",
      "[152]\tvalidation_0-auc:0.768384\tvalidation_1-auc:0.737105\n",
      "[153]\tvalidation_0-auc:0.768563\tvalidation_1-auc:0.737175\n",
      "[154]\tvalidation_0-auc:0.768696\tvalidation_1-auc:0.737352\n",
      "[155]\tvalidation_0-auc:0.768742\tvalidation_1-auc:0.73769\n",
      "[156]\tvalidation_0-auc:0.768883\tvalidation_1-auc:0.737692\n",
      "[157]\tvalidation_0-auc:0.76894\tvalidation_1-auc:0.737678\n",
      "[158]\tvalidation_0-auc:0.769199\tvalidation_1-auc:0.73766\n",
      "[159]\tvalidation_0-auc:0.769237\tvalidation_1-auc:0.737748\n",
      "[160]\tvalidation_0-auc:0.769356\tvalidation_1-auc:0.737821\n",
      "[161]\tvalidation_0-auc:0.769474\tvalidation_1-auc:0.737912\n",
      "[162]\tvalidation_0-auc:0.769533\tvalidation_1-auc:0.737884\n",
      "[163]\tvalidation_0-auc:0.769629\tvalidation_1-auc:0.737947\n",
      "[164]\tvalidation_0-auc:0.76972\tvalidation_1-auc:0.737868\n",
      "[165]\tvalidation_0-auc:0.769856\tvalidation_1-auc:0.737978\n",
      "[166]\tvalidation_0-auc:0.770025\tvalidation_1-auc:0.738009\n",
      "[167]\tvalidation_0-auc:0.770241\tvalidation_1-auc:0.738288\n",
      "[168]\tvalidation_0-auc:0.770518\tvalidation_1-auc:0.738526\n",
      "[169]\tvalidation_0-auc:0.770571\tvalidation_1-auc:0.738734\n",
      "[170]\tvalidation_0-auc:0.770684\tvalidation_1-auc:0.739049\n",
      "[171]\tvalidation_0-auc:0.770875\tvalidation_1-auc:0.739138\n",
      "[172]\tvalidation_0-auc:0.770996\tvalidation_1-auc:0.739152\n",
      "[173]\tvalidation_0-auc:0.771144\tvalidation_1-auc:0.739191\n",
      "[174]\tvalidation_0-auc:0.771208\tvalidation_1-auc:0.73932\n",
      "[175]\tvalidation_0-auc:0.771398\tvalidation_1-auc:0.739605\n",
      "[176]\tvalidation_0-auc:0.7715\tvalidation_1-auc:0.739754\n",
      "[177]\tvalidation_0-auc:0.771718\tvalidation_1-auc:0.739659\n",
      "[178]\tvalidation_0-auc:0.771888\tvalidation_1-auc:0.739679\n",
      "[179]\tvalidation_0-auc:0.772053\tvalidation_1-auc:0.739731\n",
      "[180]\tvalidation_0-auc:0.772129\tvalidation_1-auc:0.739742\n",
      "[181]\tvalidation_0-auc:0.772325\tvalidation_1-auc:0.739498\n",
      "[182]\tvalidation_0-auc:0.772366\tvalidation_1-auc:0.739499\n",
      "[183]\tvalidation_0-auc:0.772557\tvalidation_1-auc:0.739709\n",
      "[184]\tvalidation_0-auc:0.772753\tvalidation_1-auc:0.739661\n",
      "[185]\tvalidation_0-auc:0.772885\tvalidation_1-auc:0.739774\n",
      "[186]\tvalidation_0-auc:0.772995\tvalidation_1-auc:0.739619\n",
      "[187]\tvalidation_0-auc:0.773148\tvalidation_1-auc:0.739619\n",
      "[188]\tvalidation_0-auc:0.773305\tvalidation_1-auc:0.739647\n",
      "[189]\tvalidation_0-auc:0.773374\tvalidation_1-auc:0.739584\n",
      "[190]\tvalidation_0-auc:0.773576\tvalidation_1-auc:0.739498\n",
      "[191]\tvalidation_0-auc:0.773663\tvalidation_1-auc:0.739504\n",
      "[192]\tvalidation_0-auc:0.773811\tvalidation_1-auc:0.739466\n",
      "[193]\tvalidation_0-auc:0.77387\tvalidation_1-auc:0.739528\n",
      "[194]\tvalidation_0-auc:0.774004\tvalidation_1-auc:0.739553\n",
      "[195]\tvalidation_0-auc:0.774208\tvalidation_1-auc:0.739842\n",
      "[196]\tvalidation_0-auc:0.774365\tvalidation_1-auc:0.74017\n",
      "[197]\tvalidation_0-auc:0.774521\tvalidation_1-auc:0.740142\n",
      "[198]\tvalidation_0-auc:0.774588\tvalidation_1-auc:0.740174\n",
      "[199]\tvalidation_0-auc:0.774685\tvalidation_1-auc:0.740023\n",
      "[200]\tvalidation_0-auc:0.774778\tvalidation_1-auc:0.739961\n",
      "[201]\tvalidation_0-auc:0.774925\tvalidation_1-auc:0.739744\n",
      "[202]\tvalidation_0-auc:0.775045\tvalidation_1-auc:0.739866\n",
      "[203]\tvalidation_0-auc:0.775158\tvalidation_1-auc:0.739721\n",
      "[204]\tvalidation_0-auc:0.775223\tvalidation_1-auc:0.739864\n",
      "[205]\tvalidation_0-auc:0.7753\tvalidation_1-auc:0.739786\n",
      "[206]\tvalidation_0-auc:0.775403\tvalidation_1-auc:0.739802\n",
      "[207]\tvalidation_0-auc:0.775535\tvalidation_1-auc:0.739764\n",
      "[208]\tvalidation_0-auc:0.775595\tvalidation_1-auc:0.739694\n",
      "Stopping. Best iteration:\n",
      "[198]\tvalidation_0-auc:0.774588\tvalidation_1-auc:0.740174\n",
      "\n"
     ]
    },
    {
     "data": {
      "text/plain": [
       "77.70423483848572"
      ]
     },
     "execution_count": 131,
     "metadata": {},
     "output_type": "execute_result"
    }
   ],
   "source": [
    "ts = time.time()\n",
    "model_rscv_class = XGBClassifier(**rscv_opt_class)\n",
    "\n",
    "model_rscv_class.fit(\n",
    "        X_train, \n",
    "        Y_train_classify, \n",
    "        eval_set=[(X_train, Y_train_classify), (X_valid, Y_valid_classify)], \n",
    "        verbose=True,         \n",
    "        eval_metric='auc',\n",
    "        early_stopping_rounds = 10)\n",
    "    \n",
    "time.time() - ts"
   ]
  },
  {
   "cell_type": "code",
   "execution_count": 144,
   "metadata": {},
   "outputs": [
    {
     "data": {
      "text/plain": [
       "<matplotlib.axes._subplots.AxesSubplot at 0x1a31d656860>"
      ]
     },
     "execution_count": 144,
     "metadata": {},
     "output_type": "execute_result"
    },
    {
     "data": {
      "image/png": "[encoded data removed]",
      "text/plain": [
       "<Figure size 720x720 with 1 Axes>"
      ]
     },
     "metadata": {
      "needs_background": "light"
     },
     "output_type": "display_data"
    }
   ],
   "source": [
    "fig, ax = plt.subplots(1, 1, figsize=(10,10))\n",
    "plot_importance(booster=model_rscv_class, ax=ax, max_num_features=20, title='Random search feature importance')"
   ]
  },
  {
   "cell_type": "code",
   "execution_count": 133,
   "metadata": {},
   "outputs": [
    {
     "data": {
      "text/plain": [
       "0.0"
      ]
     },
     "execution_count": 133,
     "metadata": {},
     "output_type": "execute_result"
    }
   ],
   "source": [
    "random.seed(seed)\n",
    "param_dist = {\"max_depth\": [10, 35],\n",
    "              \"n_estimators\": [1000, 5500],\n",
    "              \"min_child_weight\": [1000, 5500],\n",
    "              \"subsample\": [0.2, 0.7],\n",
    "              \"colsample_bytree\": [0.5],\n",
    "              \"eta\": [0.3]}\n",
    "ts = time.time()\n",
    "#grid_search_classif=GridSearchCV(XGBClassifier(), param_grid=param_dist, scoring=\"roc_auc\", n_jobs=3, verbose=10)\n",
    "#grid_search_classif.fit(X_train, Y_train_classify)\n",
    "time.time() - ts"
   ]
  },
  {
   "cell_type": "code",
   "execution_count": 134,
   "metadata": {},
   "outputs": [],
   "source": [
    "#grid_search_classif.best_estimator_"
   ]
  },
  {
   "cell_type": "code",
   "execution_count": 135,
   "metadata": {},
   "outputs": [],
   "source": [
    "grid_opt_class = {\n",
    "  'colsample_bytree': 0.5,\n",
    "  'max_depth': 10,\n",
    "  'min_child_weight': 1000,\n",
    "  'n_estimators': 1000,\n",
    "  'seed': seed,\n",
    "  'subsample': 0.7,\n",
    "  'eta': 0.3}"
   ]
  },
  {
   "cell_type": "code",
   "execution_count": 136,
   "metadata": {},
   "outputs": [],
   "source": [
    "# grid_opt_class = grid_search_classif.best_estimator_.get_params()\n",
    "# grid_opt_class['seed']=seed\n",
    "# grid_opt_class, grid_search_classif.best_score_"
   ]
  },
  {
   "cell_type": "code",
   "execution_count": 137,
   "metadata": {
    "scrolled": true
   },
   "outputs": [
    {
     "name": "stdout",
     "output_type": "stream",
     "text": [
      "[0]\tvalidation_0-aucpr:0.611106\tvalidation_1-aucpr:0.592882\n",
      "Multiple eval metrics have been passed: 'validation_1-aucpr' will be used for early stopping.\n",
      "\n",
      "Will train until validation_1-aucpr hasn't improved in 10 rounds.\n",
      "[1]\tvalidation_0-aucpr:0.641458\tvalidation_1-aucpr:0.620643\n",
      "[2]\tvalidation_0-aucpr:0.6458\tvalidation_1-aucpr:0.623724\n",
      "[3]\tvalidation_0-aucpr:0.655894\tvalidation_1-aucpr:0.635536\n",
      "[4]\tvalidation_0-aucpr:0.672447\tvalidation_1-aucpr:0.651578\n",
      "[5]\tvalidation_0-aucpr:0.677375\tvalidation_1-aucpr:0.663384\n",
      "[6]\tvalidation_0-aucpr:0.684123\tvalidation_1-aucpr:0.668147\n",
      "[7]\tvalidation_0-aucpr:0.686333\tvalidation_1-aucpr:0.673852\n",
      "[8]\tvalidation_0-aucpr:0.684287\tvalidation_1-aucpr:0.669878\n",
      "[9]\tvalidation_0-aucpr:0.688189\tvalidation_1-aucpr:0.669611\n",
      "[10]\tvalidation_0-aucpr:0.690407\tvalidation_1-aucpr:0.673026\n",
      "[11]\tvalidation_0-aucpr:0.691296\tvalidation_1-aucpr:0.672749\n",
      "[12]\tvalidation_0-aucpr:0.693271\tvalidation_1-aucpr:0.674719\n",
      "[13]\tvalidation_0-aucpr:0.693947\tvalidation_1-aucpr:0.677497\n",
      "[14]\tvalidation_0-aucpr:0.695988\tvalidation_1-aucpr:0.678425\n",
      "[15]\tvalidation_0-aucpr:0.698962\tvalidation_1-aucpr:0.681516\n",
      "[16]\tvalidation_0-aucpr:0.698949\tvalidation_1-aucpr:0.681354\n",
      "[17]\tvalidation_0-aucpr:0.702933\tvalidation_1-aucpr:0.686362\n",
      "[18]\tvalidation_0-aucpr:0.705201\tvalidation_1-aucpr:0.689304\n",
      "[19]\tvalidation_0-aucpr:0.706487\tvalidation_1-aucpr:0.68972\n",
      "[20]\tvalidation_0-aucpr:0.707633\tvalidation_1-aucpr:0.6907\n",
      "[21]\tvalidation_0-aucpr:0.708619\tvalidation_1-aucpr:0.692798\n",
      "[22]\tvalidation_0-aucpr:0.709015\tvalidation_1-aucpr:0.693548\n",
      "[23]\tvalidation_0-aucpr:0.710836\tvalidation_1-aucpr:0.69533\n",
      "[24]\tvalidation_0-aucpr:0.711772\tvalidation_1-aucpr:0.695905\n",
      "[25]\tvalidation_0-aucpr:0.711285\tvalidation_1-aucpr:0.695459\n",
      "[26]\tvalidation_0-aucpr:0.71269\tvalidation_1-aucpr:0.696494\n",
      "[27]\tvalidation_0-aucpr:0.71447\tvalidation_1-aucpr:0.697449\n",
      "[28]\tvalidation_0-aucpr:0.715076\tvalidation_1-aucpr:0.698686\n",
      "[29]\tvalidation_0-aucpr:0.716542\tvalidation_1-aucpr:0.699869\n",
      "[30]\tvalidation_0-aucpr:0.717215\tvalidation_1-aucpr:0.700267\n",
      "[31]\tvalidation_0-aucpr:0.717774\tvalidation_1-aucpr:0.700592\n",
      "[32]\tvalidation_0-aucpr:0.718367\tvalidation_1-aucpr:0.702288\n",
      "[33]\tvalidation_0-aucpr:0.718879\tvalidation_1-aucpr:0.702616\n",
      "[34]\tvalidation_0-aucpr:0.719182\tvalidation_1-aucpr:0.702934\n",
      "[35]\tvalidation_0-aucpr:0.719663\tvalidation_1-aucpr:0.703651\n",
      "[36]\tvalidation_0-aucpr:0.719235\tvalidation_1-aucpr:0.702787\n",
      "[37]\tvalidation_0-aucpr:0.721092\tvalidation_1-aucpr:0.704462\n",
      "[38]\tvalidation_0-aucpr:0.721543\tvalidation_1-aucpr:0.704723\n",
      "[39]\tvalidation_0-aucpr:0.722948\tvalidation_1-aucpr:0.706712\n",
      "[40]\tvalidation_0-aucpr:0.724977\tvalidation_1-aucpr:0.707843\n",
      "[41]\tvalidation_0-aucpr:0.725708\tvalidation_1-aucpr:0.707942\n",
      "[42]\tvalidation_0-aucpr:0.726529\tvalidation_1-aucpr:0.70836\n",
      "[43]\tvalidation_0-aucpr:0.727204\tvalidation_1-aucpr:0.708808\n",
      "[44]\tvalidation_0-aucpr:0.727064\tvalidation_1-aucpr:0.708769\n",
      "[45]\tvalidation_0-aucpr:0.727918\tvalidation_1-aucpr:0.709866\n",
      "[46]\tvalidation_0-aucpr:0.728553\tvalidation_1-aucpr:0.709839\n",
      "[47]\tvalidation_0-aucpr:0.728895\tvalidation_1-aucpr:0.709107\n",
      "[48]\tvalidation_0-aucpr:0.729845\tvalidation_1-aucpr:0.709107\n",
      "[49]\tvalidation_0-aucpr:0.730499\tvalidation_1-aucpr:0.709841\n",
      "[50]\tvalidation_0-aucpr:0.730751\tvalidation_1-aucpr:0.709687\n",
      "[51]\tvalidation_0-aucpr:0.731153\tvalidation_1-aucpr:0.710095\n",
      "[52]\tvalidation_0-aucpr:0.732594\tvalidation_1-aucpr:0.711598\n",
      "[53]\tvalidation_0-aucpr:0.732635\tvalidation_1-aucpr:0.711324\n",
      "[54]\tvalidation_0-aucpr:0.732479\tvalidation_1-aucpr:0.711223\n",
      "[55]\tvalidation_0-aucpr:0.733171\tvalidation_1-aucpr:0.712143\n",
      "[56]\tvalidation_0-aucpr:0.734074\tvalidation_1-aucpr:0.713564\n",
      "[57]\tvalidation_0-aucpr:0.734559\tvalidation_1-aucpr:0.713577\n",
      "[58]\tvalidation_0-aucpr:0.734649\tvalidation_1-aucpr:0.713773\n",
      "[59]\tvalidation_0-aucpr:0.735201\tvalidation_1-aucpr:0.714468\n",
      "[60]\tvalidation_0-aucpr:0.735803\tvalidation_1-aucpr:0.71534\n",
      "[61]\tvalidation_0-aucpr:0.736187\tvalidation_1-aucpr:0.715793\n",
      "[62]\tvalidation_0-aucpr:0.736454\tvalidation_1-aucpr:0.716152\n",
      "[63]\tvalidation_0-aucpr:0.73696\tvalidation_1-aucpr:0.716152\n",
      "[64]\tvalidation_0-aucpr:0.737281\tvalidation_1-aucpr:0.715736\n",
      "[65]\tvalidation_0-aucpr:0.737734\tvalidation_1-aucpr:0.715873\n",
      "[66]\tvalidation_0-aucpr:0.737899\tvalidation_1-aucpr:0.715962\n",
      "[67]\tvalidation_0-aucpr:0.73831\tvalidation_1-aucpr:0.716658\n",
      "[68]\tvalidation_0-aucpr:0.738516\tvalidation_1-aucpr:0.717095\n",
      "[69]\tvalidation_0-aucpr:0.738812\tvalidation_1-aucpr:0.717857\n",
      "[70]\tvalidation_0-aucpr:0.739454\tvalidation_1-aucpr:0.718651\n",
      "[71]\tvalidation_0-aucpr:0.739473\tvalidation_1-aucpr:0.719015\n",
      "[72]\tvalidation_0-aucpr:0.739755\tvalidation_1-aucpr:0.719167\n",
      "[73]\tvalidation_0-aucpr:0.739748\tvalidation_1-aucpr:0.718816\n",
      "[74]\tvalidation_0-aucpr:0.739959\tvalidation_1-aucpr:0.718984\n",
      "[75]\tvalidation_0-aucpr:0.740708\tvalidation_1-aucpr:0.720285\n",
      "[76]\tvalidation_0-aucpr:0.740938\tvalidation_1-aucpr:0.720511\n",
      "[77]\tvalidation_0-aucpr:0.741298\tvalidation_1-aucpr:0.721131\n",
      "[78]\tvalidation_0-aucpr:0.741468\tvalidation_1-aucpr:0.720559\n",
      "[79]\tvalidation_0-aucpr:0.741837\tvalidation_1-aucpr:0.7209\n",
      "[80]\tvalidation_0-aucpr:0.741997\tvalidation_1-aucpr:0.721196\n",
      "[81]\tvalidation_0-aucpr:0.74204\tvalidation_1-aucpr:0.720799\n",
      "[82]\tvalidation_0-aucpr:0.742414\tvalidation_1-aucpr:0.720721\n",
      "[83]\tvalidation_0-aucpr:0.742823\tvalidation_1-aucpr:0.721586\n",
      "[84]\tvalidation_0-aucpr:0.7431\tvalidation_1-aucpr:0.721416\n",
      "[85]\tvalidation_0-aucpr:0.743041\tvalidation_1-aucpr:0.721348\n",
      "[86]\tvalidation_0-aucpr:0.743531\tvalidation_1-aucpr:0.721722\n",
      "[87]\tvalidation_0-aucpr:0.743914\tvalidation_1-aucpr:0.722487\n",
      "[88]\tvalidation_0-aucpr:0.744305\tvalidation_1-aucpr:0.722613\n",
      "[89]\tvalidation_0-aucpr:0.744512\tvalidation_1-aucpr:0.722871\n",
      "[90]\tvalidation_0-aucpr:0.744671\tvalidation_1-aucpr:0.723035\n",
      "[91]\tvalidation_0-aucpr:0.744762\tvalidation_1-aucpr:0.722762\n",
      "[92]\tvalidation_0-aucpr:0.745014\tvalidation_1-aucpr:0.722636\n",
      "[93]\tvalidation_0-aucpr:0.745449\tvalidation_1-aucpr:0.723231\n",
      "[94]\tvalidation_0-aucpr:0.745584\tvalidation_1-aucpr:0.723296\n",
      "[95]\tvalidation_0-aucpr:0.745842\tvalidation_1-aucpr:0.723296\n",
      "[96]\tvalidation_0-aucpr:0.745838\tvalidation_1-aucpr:0.723366\n",
      "[97]\tvalidation_0-aucpr:0.745937\tvalidation_1-aucpr:0.723377\n",
      "[98]\tvalidation_0-aucpr:0.745971\tvalidation_1-aucpr:0.723735\n",
      "[99]\tvalidation_0-aucpr:0.746379\tvalidation_1-aucpr:0.723889\n",
      "[100]\tvalidation_0-aucpr:0.746569\tvalidation_1-aucpr:0.723835\n",
      "[101]\tvalidation_0-aucpr:0.746686\tvalidation_1-aucpr:0.724256\n",
      "[102]\tvalidation_0-aucpr:0.747073\tvalidation_1-aucpr:0.724007\n",
      "[103]\tvalidation_0-aucpr:0.74732\tvalidation_1-aucpr:0.724278\n",
      "[104]\tvalidation_0-aucpr:0.74756\tvalidation_1-aucpr:0.724337\n",
      "[105]\tvalidation_0-aucpr:0.747862\tvalidation_1-aucpr:0.724375\n",
      "[106]\tvalidation_0-aucpr:0.748316\tvalidation_1-aucpr:0.724375\n",
      "[107]\tvalidation_0-aucpr:0.748574\tvalidation_1-aucpr:0.725039\n",
      "[108]\tvalidation_0-aucpr:0.748683\tvalidation_1-aucpr:0.725092\n",
      "[109]\tvalidation_0-aucpr:0.748814\tvalidation_1-aucpr:0.725255\n",
      "[110]\tvalidation_0-aucpr:0.749131\tvalidation_1-aucpr:0.725204\n",
      "[111]\tvalidation_0-aucpr:0.749348\tvalidation_1-aucpr:0.725482\n",
      "[112]\tvalidation_0-aucpr:0.749353\tvalidation_1-aucpr:0.725474\n",
      "[113]\tvalidation_0-aucpr:0.749341\tvalidation_1-aucpr:0.725608\n",
      "[114]\tvalidation_0-aucpr:0.749489\tvalidation_1-aucpr:0.72584\n",
      "[115]\tvalidation_0-aucpr:0.749551\tvalidation_1-aucpr:0.725845\n",
      "[116]\tvalidation_0-aucpr:0.749686\tvalidation_1-aucpr:0.725967\n",
      "[117]\tvalidation_0-aucpr:0.750007\tvalidation_1-aucpr:0.725967\n",
      "[118]\tvalidation_0-aucpr:0.75001\tvalidation_1-aucpr:0.72574\n",
      "[119]\tvalidation_0-aucpr:0.750128\tvalidation_1-aucpr:0.725916\n",
      "[120]\tvalidation_0-aucpr:0.750344\tvalidation_1-aucpr:0.725877\n",
      "[121]\tvalidation_0-aucpr:0.750512\tvalidation_1-aucpr:0.726322\n",
      "[122]\tvalidation_0-aucpr:0.750696\tvalidation_1-aucpr:0.72654\n",
      "[123]\tvalidation_0-aucpr:0.750882\tvalidation_1-aucpr:0.726627\n",
      "[124]\tvalidation_0-aucpr:0.751062\tvalidation_1-aucpr:0.726298\n",
      "[125]\tvalidation_0-aucpr:0.751464\tvalidation_1-aucpr:0.726303\n",
      "[126]\tvalidation_0-aucpr:0.751668\tvalidation_1-aucpr:0.726519\n",
      "[127]\tvalidation_0-aucpr:0.751733\tvalidation_1-aucpr:0.726422\n",
      "[128]\tvalidation_0-aucpr:0.751868\tvalidation_1-aucpr:0.726773\n",
      "[129]\tvalidation_0-aucpr:0.75201\tvalidation_1-aucpr:0.726769\n",
      "[130]\tvalidation_0-aucpr:0.752158\tvalidation_1-aucpr:0.727038\n",
      "[131]\tvalidation_0-aucpr:0.752272\tvalidation_1-aucpr:0.727276\n"
     ]
    },
    {
     "name": "stdout",
     "output_type": "stream",
     "text": [
      "[132]\tvalidation_0-aucpr:0.752415\tvalidation_1-aucpr:0.727412\n",
      "[133]\tvalidation_0-aucpr:0.752672\tvalidation_1-aucpr:0.727455\n",
      "[134]\tvalidation_0-aucpr:0.752746\tvalidation_1-aucpr:0.727523\n",
      "[135]\tvalidation_0-aucpr:0.752909\tvalidation_1-aucpr:0.727456\n",
      "[136]\tvalidation_0-aucpr:0.752987\tvalidation_1-aucpr:0.727283\n",
      "[137]\tvalidation_0-aucpr:0.753184\tvalidation_1-aucpr:0.727731\n",
      "[138]\tvalidation_0-aucpr:0.75337\tvalidation_1-aucpr:0.727886\n",
      "[139]\tvalidation_0-aucpr:0.75346\tvalidation_1-aucpr:0.728098\n",
      "[140]\tvalidation_0-aucpr:0.753645\tvalidation_1-aucpr:0.728217\n",
      "[141]\tvalidation_0-aucpr:0.753793\tvalidation_1-aucpr:0.728357\n",
      "[142]\tvalidation_0-aucpr:0.754025\tvalidation_1-aucpr:0.728517\n",
      "[143]\tvalidation_0-aucpr:0.754206\tvalidation_1-aucpr:0.728545\n",
      "[144]\tvalidation_0-aucpr:0.754444\tvalidation_1-aucpr:0.728674\n",
      "[145]\tvalidation_0-aucpr:0.754685\tvalidation_1-aucpr:0.72886\n",
      "[146]\tvalidation_0-aucpr:0.754769\tvalidation_1-aucpr:0.728634\n",
      "[147]\tvalidation_0-aucpr:0.754821\tvalidation_1-aucpr:0.728765\n",
      "[148]\tvalidation_0-aucpr:0.754971\tvalidation_1-aucpr:0.72866\n",
      "[149]\tvalidation_0-aucpr:0.754924\tvalidation_1-aucpr:0.728794\n",
      "[150]\tvalidation_0-aucpr:0.75506\tvalidation_1-aucpr:0.728794\n",
      "[151]\tvalidation_0-aucpr:0.755107\tvalidation_1-aucpr:0.72882\n",
      "[152]\tvalidation_0-aucpr:0.755183\tvalidation_1-aucpr:0.728782\n",
      "[153]\tvalidation_0-aucpr:0.755323\tvalidation_1-aucpr:0.728992\n",
      "[154]\tvalidation_0-aucpr:0.755444\tvalidation_1-aucpr:0.728599\n",
      "[155]\tvalidation_0-aucpr:0.755628\tvalidation_1-aucpr:0.72912\n",
      "[156]\tvalidation_0-aucpr:0.755848\tvalidation_1-aucpr:0.729051\n",
      "[157]\tvalidation_0-aucpr:0.755895\tvalidation_1-aucpr:0.729236\n",
      "[158]\tvalidation_0-aucpr:0.755976\tvalidation_1-aucpr:0.729265\n",
      "[159]\tvalidation_0-aucpr:0.755996\tvalidation_1-aucpr:0.729397\n",
      "[160]\tvalidation_0-aucpr:0.756081\tvalidation_1-aucpr:0.729496\n",
      "[161]\tvalidation_0-aucpr:0.756249\tvalidation_1-aucpr:0.729418\n",
      "[162]\tvalidation_0-aucpr:0.756429\tvalidation_1-aucpr:0.729418\n",
      "[163]\tvalidation_0-aucpr:0.756503\tvalidation_1-aucpr:0.729275\n",
      "[164]\tvalidation_0-aucpr:0.756555\tvalidation_1-aucpr:0.729314\n",
      "[165]\tvalidation_0-aucpr:0.756741\tvalidation_1-aucpr:0.729525\n",
      "[166]\tvalidation_0-aucpr:0.756924\tvalidation_1-aucpr:0.729338\n",
      "[167]\tvalidation_0-aucpr:0.756938\tvalidation_1-aucpr:0.729313\n",
      "[168]\tvalidation_0-aucpr:0.756994\tvalidation_1-aucpr:0.729432\n",
      "[169]\tvalidation_0-aucpr:0.757112\tvalidation_1-aucpr:0.729522\n",
      "[170]\tvalidation_0-aucpr:0.757198\tvalidation_1-aucpr:0.729989\n",
      "[171]\tvalidation_0-aucpr:0.757333\tvalidation_1-aucpr:0.729897\n",
      "[172]\tvalidation_0-aucpr:0.757435\tvalidation_1-aucpr:0.729589\n",
      "[173]\tvalidation_0-aucpr:0.757594\tvalidation_1-aucpr:0.729635\n",
      "[174]\tvalidation_0-aucpr:0.757747\tvalidation_1-aucpr:0.729891\n",
      "[175]\tvalidation_0-aucpr:0.75786\tvalidation_1-aucpr:0.72994\n",
      "[176]\tvalidation_0-aucpr:0.757881\tvalidation_1-aucpr:0.729694\n",
      "[177]\tvalidation_0-aucpr:0.758033\tvalidation_1-aucpr:0.729694\n",
      "[178]\tvalidation_0-aucpr:0.758047\tvalidation_1-aucpr:0.729718\n",
      "[179]\tvalidation_0-aucpr:0.758222\tvalidation_1-aucpr:0.72968\n",
      "[180]\tvalidation_0-aucpr:0.758286\tvalidation_1-aucpr:0.729935\n",
      "Stopping. Best iteration:\n",
      "[170]\tvalidation_0-aucpr:0.757198\tvalidation_1-aucpr:0.729989\n",
      "\n"
     ]
    },
    {
     "data": {
      "text/plain": [
       "48.356733083724976"
      ]
     },
     "execution_count": 137,
     "metadata": {},
     "output_type": "execute_result"
    }
   ],
   "source": [
    "ts = time.time()\n",
    "model_grid_class = XGBClassifier(**grid_opt_class)\n",
    "\n",
    "model_grid_class.fit(\n",
    "        X_train, \n",
    "        Y_train_classify, \n",
    "        eval_set=[(X_train, Y_train_classify), (X_valid, Y_valid_classify)], \n",
    "        verbose=True,         \n",
    "        eval_metric='aucpr',\n",
    "        early_stopping_rounds = 10)\n",
    "    \n",
    "time.time() - ts"
   ]
  },
  {
   "cell_type": "code",
   "execution_count": 138,
   "metadata": {},
   "outputs": [
    {
     "data": {
      "text/plain": [
       "0.5153671030165055"
      ]
     },
     "execution_count": 138,
     "metadata": {},
     "output_type": "execute_result"
    }
   ],
   "source": [
    "sum(list(Y_valid_classify))/len(list(Y_valid_classify))"
   ]
  },
  {
   "cell_type": "code",
   "execution_count": 139,
   "metadata": {},
   "outputs": [
    {
     "name": "stdout",
     "output_type": "stream",
     "text": [
      "              precision    recall  f1-score   support\n",
      "\n",
      "       False       0.65      0.70      0.67      3406\n",
      "        True       0.69      0.64      0.67      3622\n",
      "\n",
      "   micro avg       0.67      0.67      0.67      7028\n",
      "   macro avg       0.67      0.67      0.67      7028\n",
      "weighted avg       0.67      0.67      0.67      7028\n",
      "\n"
     ]
    }
   ],
   "source": [
    "from sklearn.metrics import classification_report\n",
    "print(classification_report(Y_valid_classify, model_grid_class.predict(X_valid)))"
   ]
  },
  {
   "cell_type": "code",
   "execution_count": 150,
   "metadata": {},
   "outputs": [
    {
     "data": {
      "text/plain": [
       "<matplotlib.axes._subplots.AxesSubplot at 0x1a323da8080>"
      ]
     },
     "execution_count": 150,
     "metadata": {},
     "output_type": "execute_result"
    },
    {
     "data": {
      "image/png": "[encoded data removed]",
      "text/plain": [
       "<Figure size 720x720 with 1 Axes>"
      ]
     },
     "metadata": {
      "needs_background": "light"
     },
     "output_type": "display_data"
    }
   ],
   "source": [
    "fig, ax = plt.subplots(1, 1, figsize=(10,10))\n",
    "plot_importance(booster=model_grid_class, ax=ax, max_num_features=20, title='Grid Search feature importance')"
   ]
  }
 ],
 "metadata": {
  "colab": {
   "collapsed_sections": [],
   "name": "Traiding_multiple_stocks_with_pso.ipynb",
   "provenance": [],
   "toc_visible": true,
   "version": "0.3.2"
  },
  "kernelspec": {
   "display_name": "Python 3",
   "language": "python",
   "name": "python3"
  },
  "language_info": {
   "codemirror_mode": {
    "name": "ipython",
    "version": 3
   },
   "file_extension": ".py",
   "mimetype": "text/x-python",
   "name": "python",
   "nbconvert_exporter": "python",
   "pygments_lexer": "ipython3",
   "version": "3.7.3"
  }
 },
 "nbformat": 4,
 "nbformat_minor": 1
}
