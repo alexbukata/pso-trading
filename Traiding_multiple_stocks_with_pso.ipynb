{
 "cells": [
  {
   "cell_type": "code",
   "execution_count": 1,
   "metadata": {
    "colab": {},
    "colab_type": "code",
    "id": "wuyWT2Xladgj"
   },
   "outputs": [],
   "source": [
    "import datetime as dtm\n",
    "import requests\n",
    "import pandas as pd\n",
    "import time\n",
    "import os\n",
    "import numpy as np\n",
    "import scipy as sp\n",
    "import pickle\n",
    "from xgboost import XGBRegressor, XGBClassifier\n",
    "from xgboost import plot_importance\n",
    "import matplotlib.pyplot as plt\n",
    "import random\n",
    "import src.data_retriever as intrinio\n",
    "import src.pso as pso\n",
    "from sklearn.model_selection import GridSearchCV, RandomizedSearchCV\n",
    "%matplotlib inline"
   ]
  },
  {
   "cell_type": "code",
   "execution_count": 2,
   "metadata": {
    "colab": {},
    "colab_type": "code",
    "id": "77i2DtOsadg4"
   },
   "outputs": [],
   "source": [
    "random.seed(42)\n",
    "datefrom = dtm.datetime(2010, 1, 1)\n",
    "dateto = dtm.datetime(2019, 3, 1)"
   ]
  },
  {
   "cell_type": "code",
   "execution_count": 3,
   "metadata": {
    "colab": {},
    "colab_type": "code",
    "id": "B0-dz9GOadhI"
   },
   "outputs": [],
   "source": [
    "#DOW 30\n",
    "stock_names = ['AAPL', 'CSCO', 'WMT', 'MCD', 'GS', 'AXP', 'BA', 'KO', 'V', 'WMT', 'UNH']\n",
    "# stock_names = ['AAPL']"
   ]
  },
  {
   "cell_type": "code",
   "execution_count": 4,
   "metadata": {
    "colab": {},
    "colab_type": "code",
    "id": "pAwUEYYvadhb"
   },
   "outputs": [],
   "source": [
    "stocks_filename = 'stocks_dow30_full.csv'\n",
    "if os.path.isfile(stocks_filename):\n",
    "    stocks = pd.read_csv(stocks_filename)\n",
    "    stocks['date'] = pd.to_datetime(stocks['date'], format=\"%Y-%m-%d\")\n",
    "else:\n",
    "    stocks = intrinio.get_stocks_data(stock_names, datefrom, dateto)\n",
    "    stocks.to_csv(stocks_filename, index_label='id', columns=stocks.columns)"
   ]
  },
  {
   "cell_type": "markdown",
   "metadata": {
    "colab_type": "text",
    "id": "lwmRx8dSadiS"
   },
   "source": [
    "### Подготовка к обучению"
   ]
  },
  {
   "cell_type": "code",
   "execution_count": 5,
   "metadata": {
    "colab": {},
    "colab_type": "code",
    "id": "LVrkhzN1adiW"
   },
   "outputs": [],
   "source": [
    "train_datefrom = dtm.datetime(2010, 1, 1)\n",
    "train_dateto = dtm.datetime(2017, 1, 1)\n",
    "\n",
    "valid_datefrom = train_dateto\n",
    "valid_dateto = dtm.datetime(2018, 1, 1)"
   ]
  },
  {
   "cell_type": "code",
   "execution_count": 6,
   "metadata": {
    "colab": {},
    "colab_type": "code",
    "id": "ZwPmGqH4adin"
   },
   "outputs": [],
   "source": [
    "data = stocks.drop(0).reset_index(drop=True)\n",
    "data['date'] = data['date'].map(lambda x: x.timestamp())"
   ]
  },
  {
   "cell_type": "code",
   "execution_count": 7,
   "metadata": {
    "colab": {
     "base_uri": "https://localhost:8080/",
     "height": 139
    },
    "colab_type": "code",
    "id": "DcL7Q_-Fadi2",
    "outputId": "c68a9e1c-1284-4638-fa7c-284f718f541f"
   },
   "outputs": [
    {
     "name": "stderr",
     "output_type": "stream",
     "text": [
      "C:\\ProgramData\\Anaconda3\\lib\\site-packages\\ipykernel_launcher.py:7: FutureWarning: Method .as_matrix will be removed in a future version. Use .values instead.\n",
      "  import sys\n",
      "C:\\ProgramData\\Anaconda3\\lib\\site-packages\\sklearn\\preprocessing\\label.py:235: DataConversionWarning: A column-vector y was passed when a 1d array was expected. Please change the shape of y to (n_samples, ), for example using ravel().\n",
      "  y = column_or_1d(y, warn=True)\n"
     ]
    }
   ],
   "source": [
    "from sklearn.preprocessing import MinMaxScaler, LabelEncoder\n",
    "\n",
    "#to_normalize = ['volume_prev1', 'ebitda']\n",
    "#data['date_norm'] = MinMaxScaler().fit_transform(data['date'].as_matrix().reshape(-1, 1))\n",
    "#data['volume_prev1'] = MinMaxScaler().fit_transform(data['volume_prev1'].as_matrix().reshape(-1, 1))\n",
    "#data['ebitda'] = MinMaxScaler().fit_transform(data['ebitda'].as_matrix().reshape(-1, 1))\n",
    "data['stock_name'] = LabelEncoder().fit_transform(data['stock_name'].as_matrix().reshape(-1, 1))"
   ]
  },
  {
   "cell_type": "code",
   "execution_count": 8,
   "metadata": {
    "colab": {
     "base_uri": "https://localhost:8080/",
     "height": 34
    },
    "colab_type": "code",
    "id": "UDkwqeaeadjH",
    "outputId": "a93573cb-c6a9-427d-82a8-8bdb8ec4519e"
   },
   "outputs": [
    {
     "name": "stdout",
     "output_type": "stream",
     "text": [
      "49336\n"
     ]
    }
   ],
   "source": [
    "train_data = data[data['date'] <= train_dateto.timestamp()]\n",
    "X_train = train_data.drop(['date','close','adj_close', 'volume'],axis=1)\n",
    "print(len(X_train))\n",
    "Y_train_regr = train_data['close']\n",
    "Y_train_classify = train_data['close'] > train_data['open']"
   ]
  },
  {
   "cell_type": "code",
   "execution_count": null,
   "metadata": {
    "colab": {
     "base_uri": "https://localhost:8080/",
     "height": 34
    },
    "colab_type": "code",
    "id": "N2umHbBuadjT",
    "outputId": "833fb4a4-558e-4f73-d7a6-26c8f67a461b"
   },
   "outputs": [
    {
     "name": "stdout",
     "output_type": "stream",
     "text": [
      "14893\n"
     ]
    }
   ],
   "source": [
    "valid_data = data[data['date'] > valid_datefrom.timestamp()]\n",
    "# valid_data = valid_data.query('(stock_name == 0)')\n",
    "X_valid = valid_data.drop(['date','close','adj_close', 'volume'],axis=1)\n",
    "print(len(X_valid))\n",
    "Y_valid_classify =valid_data['close'] > valid_data['open']"
   ]
  },
  {
   "cell_type": "code",
   "execution_count": null,
   "metadata": {
    "colab": {
     "base_uri": "https://localhost:8080/",
     "height": 799
    },
    "colab_type": "code",
    "id": "lbsbqs1radjo",
    "outputId": "a2358970-942e-4c8c-9fa9-d8608364e330"
   },
   "outputs": [
    {
     "name": "stdout",
     "output_type": "stream",
     "text": [
      "[0]\tvalidation_0-auc:0.615554\tvalidation_1-auc:0.607217\n",
      "Multiple eval metrics have been passed: 'validation_1-auc' will be used for early stopping.\n",
      "\n",
      "Will train until validation_1-auc hasn't improved in 10 rounds.\n",
      "[1]\tvalidation_0-auc:0.629031\tvalidation_1-auc:0.620845\n",
      "[2]\tvalidation_0-auc:0.643176\tvalidation_1-auc:0.633118\n",
      "[3]\tvalidation_0-auc:0.6628\tvalidation_1-auc:0.648596\n",
      "[4]\tvalidation_0-auc:0.665915\tvalidation_1-auc:0.651554\n",
      "[5]\tvalidation_0-auc:0.670284\tvalidation_1-auc:0.657805\n",
      "[6]\tvalidation_0-auc:0.677803\tvalidation_1-auc:0.661849\n",
      "[7]\tvalidation_0-auc:0.679087\tvalidation_1-auc:0.663228\n",
      "[8]\tvalidation_0-auc:0.68301\tvalidation_1-auc:0.668651\n",
      "[9]\tvalidation_0-auc:0.688727\tvalidation_1-auc:0.673472\n",
      "[10]\tvalidation_0-auc:0.694339\tvalidation_1-auc:0.677915\n",
      "[11]\tvalidation_0-auc:0.695836\tvalidation_1-auc:0.68041\n",
      "[12]\tvalidation_0-auc:0.697036\tvalidation_1-auc:0.682596\n",
      "[13]\tvalidation_0-auc:0.698267\tvalidation_1-auc:0.684212\n",
      "[14]\tvalidation_0-auc:0.700608\tvalidation_1-auc:0.686169\n",
      "[15]\tvalidation_0-auc:0.702458\tvalidation_1-auc:0.686927\n",
      "[16]\tvalidation_0-auc:0.7033\tvalidation_1-auc:0.688535\n",
      "[17]\tvalidation_0-auc:0.703946\tvalidation_1-auc:0.68949\n",
      "[18]\tvalidation_0-auc:0.706701\tvalidation_1-auc:0.691863\n",
      "[19]\tvalidation_0-auc:0.708537\tvalidation_1-auc:0.693078\n",
      "[20]\tvalidation_0-auc:0.709737\tvalidation_1-auc:0.694536\n",
      "[21]\tvalidation_0-auc:0.71107\tvalidation_1-auc:0.695748\n",
      "[22]\tvalidation_0-auc:0.711368\tvalidation_1-auc:0.69604\n",
      "[23]\tvalidation_0-auc:0.713652\tvalidation_1-auc:0.698012\n",
      "[24]\tvalidation_0-auc:0.715064\tvalidation_1-auc:0.699419\n",
      "[25]\tvalidation_0-auc:0.716947\tvalidation_1-auc:0.701052\n",
      "[26]\tvalidation_0-auc:0.718947\tvalidation_1-auc:0.701073\n",
      "[27]\tvalidation_0-auc:0.719369\tvalidation_1-auc:0.700662\n",
      "[28]\tvalidation_0-auc:0.71998\tvalidation_1-auc:0.701409\n",
      "[29]\tvalidation_0-auc:0.720433\tvalidation_1-auc:0.702117\n",
      "[30]\tvalidation_0-auc:0.721578\tvalidation_1-auc:0.70275\n",
      "[31]\tvalidation_0-auc:0.724157\tvalidation_1-auc:0.705772\n",
      "[32]\tvalidation_0-auc:0.725143\tvalidation_1-auc:0.705666\n",
      "[33]\tvalidation_0-auc:0.726878\tvalidation_1-auc:0.707644\n",
      "[34]\tvalidation_0-auc:0.727753\tvalidation_1-auc:0.708353\n",
      "[35]\tvalidation_0-auc:0.729416\tvalidation_1-auc:0.710004\n",
      "[36]\tvalidation_0-auc:0.73083\tvalidation_1-auc:0.71056\n",
      "[37]\tvalidation_0-auc:0.732244\tvalidation_1-auc:0.7118\n",
      "[38]\tvalidation_0-auc:0.732533\tvalidation_1-auc:0.712186\n",
      "[39]\tvalidation_0-auc:0.733595\tvalidation_1-auc:0.71281\n",
      "[40]\tvalidation_0-auc:0.734247\tvalidation_1-auc:0.713237\n",
      "[41]\tvalidation_0-auc:0.735043\tvalidation_1-auc:0.714356\n",
      "[42]\tvalidation_0-auc:0.735936\tvalidation_1-auc:0.714298\n",
      "[43]\tvalidation_0-auc:0.736817\tvalidation_1-auc:0.715297\n",
      "[44]\tvalidation_0-auc:0.737908\tvalidation_1-auc:0.716101\n",
      "[45]\tvalidation_0-auc:0.738958\tvalidation_1-auc:0.717381\n",
      "[46]\tvalidation_0-auc:0.74016\tvalidation_1-auc:0.717731\n",
      "[47]\tvalidation_0-auc:0.740396\tvalidation_1-auc:0.717817\n",
      "[48]\tvalidation_0-auc:0.741363\tvalidation_1-auc:0.718405\n",
      "[49]\tvalidation_0-auc:0.742723\tvalidation_1-auc:0.71971\n",
      "[50]\tvalidation_0-auc:0.743345\tvalidation_1-auc:0.720363\n",
      "[51]\tvalidation_0-auc:0.744483\tvalidation_1-auc:0.72139\n",
      "[52]\tvalidation_0-auc:0.744727\tvalidation_1-auc:0.721846\n",
      "[53]\tvalidation_0-auc:0.745764\tvalidation_1-auc:0.723345\n",
      "[54]\tvalidation_0-auc:0.746202\tvalidation_1-auc:0.723356\n",
      "[55]\tvalidation_0-auc:0.747154\tvalidation_1-auc:0.723627\n",
      "[56]\tvalidation_0-auc:0.74805\tvalidation_1-auc:0.724353\n",
      "[57]\tvalidation_0-auc:0.748845\tvalidation_1-auc:0.725224\n",
      "[58]\tvalidation_0-auc:0.749311\tvalidation_1-auc:0.726213\n",
      "[59]\tvalidation_0-auc:0.75019\tvalidation_1-auc:0.726556\n",
      "[60]\tvalidation_0-auc:0.750448\tvalidation_1-auc:0.726661\n",
      "[61]\tvalidation_0-auc:0.750504\tvalidation_1-auc:0.72643\n",
      "[62]\tvalidation_0-auc:0.751161\tvalidation_1-auc:0.727318\n",
      "[63]\tvalidation_0-auc:0.752279\tvalidation_1-auc:0.727624\n",
      "[64]\tvalidation_0-auc:0.752138\tvalidation_1-auc:0.727374\n",
      "[65]\tvalidation_0-auc:0.752005\tvalidation_1-auc:0.727153\n",
      "[66]\tvalidation_0-auc:0.752818\tvalidation_1-auc:0.728081\n",
      "[67]\tvalidation_0-auc:0.753527\tvalidation_1-auc:0.728478\n",
      "[68]\tvalidation_0-auc:0.754553\tvalidation_1-auc:0.729262\n",
      "[69]\tvalidation_0-auc:0.754734\tvalidation_1-auc:0.72931\n",
      "[70]\tvalidation_0-auc:0.755702\tvalidation_1-auc:0.730524\n",
      "[71]\tvalidation_0-auc:0.755906\tvalidation_1-auc:0.730758\n",
      "[72]\tvalidation_0-auc:0.756073\tvalidation_1-auc:0.730796\n",
      "[73]\tvalidation_0-auc:0.756702\tvalidation_1-auc:0.73074\n",
      "[74]\tvalidation_0-auc:0.75737\tvalidation_1-auc:0.731818\n",
      "[75]\tvalidation_0-auc:0.757941\tvalidation_1-auc:0.732206\n",
      "[76]\tvalidation_0-auc:0.758178\tvalidation_1-auc:0.732336\n",
      "[77]\tvalidation_0-auc:0.758763\tvalidation_1-auc:0.732492\n",
      "[78]\tvalidation_0-auc:0.759161\tvalidation_1-auc:0.733052\n",
      "[79]\tvalidation_0-auc:0.759167\tvalidation_1-auc:0.733302\n",
      "[80]\tvalidation_0-auc:0.759947\tvalidation_1-auc:0.73415\n",
      "[81]\tvalidation_0-auc:0.760184\tvalidation_1-auc:0.734243\n",
      "[82]\tvalidation_0-auc:0.760432\tvalidation_1-auc:0.734412\n",
      "[83]\tvalidation_0-auc:0.760808\tvalidation_1-auc:0.734561\n",
      "[84]\tvalidation_0-auc:0.761052\tvalidation_1-auc:0.734482\n",
      "[85]\tvalidation_0-auc:0.761791\tvalidation_1-auc:0.73506\n",
      "[86]\tvalidation_0-auc:0.762001\tvalidation_1-auc:0.735998\n",
      "[87]\tvalidation_0-auc:0.763005\tvalidation_1-auc:0.735801\n",
      "[88]\tvalidation_0-auc:0.763608\tvalidation_1-auc:0.735823\n",
      "[89]\tvalidation_0-auc:0.763795\tvalidation_1-auc:0.735809\n",
      "[90]\tvalidation_0-auc:0.7643\tvalidation_1-auc:0.736123\n",
      "[91]\tvalidation_0-auc:0.764531\tvalidation_1-auc:0.736212\n",
      "[92]\tvalidation_0-auc:0.765004\tvalidation_1-auc:0.736386\n",
      "[93]\tvalidation_0-auc:0.765329\tvalidation_1-auc:0.736435\n",
      "[94]\tvalidation_0-auc:0.765658\tvalidation_1-auc:0.736805\n",
      "[95]\tvalidation_0-auc:0.76604\tvalidation_1-auc:0.737198\n",
      "[96]\tvalidation_0-auc:0.766193\tvalidation_1-auc:0.736996\n",
      "[97]\tvalidation_0-auc:0.766967\tvalidation_1-auc:0.736891\n",
      "[98]\tvalidation_0-auc:0.767437\tvalidation_1-auc:0.737318\n",
      "[99]\tvalidation_0-auc:0.767806\tvalidation_1-auc:0.737655\n"
     ]
    },
    {
     "data": {
      "text/plain": [
       "34.06366515159607"
      ]
     },
     "execution_count": 10,
     "metadata": {},
     "output_type": "execute_result"
    }
   ],
   "source": [
    "ts = time.time()\n",
    "\n",
    "model_class = XGBClassifier(seed=42)\n",
    "\n",
    "model_class.fit(\n",
    "        X_train, \n",
    "        Y_train_classify, \n",
    "        eval_set=[(X_train, Y_train_classify), (X_valid, Y_valid_classify)], \n",
    "        verbose=True,         \n",
    "        eval_metric='auc',\n",
    "        early_stopping_rounds = 10)\n",
    "    \n",
    "time.time() - ts"
   ]
  },
  {
   "cell_type": "code",
   "execution_count": null,
   "metadata": {
    "colab": {
     "base_uri": "https://localhost:8080/",
     "height": 802
    },
    "colab_type": "code",
    "id": "mgucmoxkadj6",
    "outputId": "9ae1b830-0f2d-4d17-8ec2-65c5508cc04a",
    "scrolled": true
   },
   "outputs": [
    {
     "data": {
      "text/plain": [
       "<matplotlib.axes._subplots.AxesSubplot at 0x2807633c9e8>"
      ]
     },
     "execution_count": 11,
     "metadata": {},
     "output_type": "execute_result"
    },
    {
     "data": {
      "image/png": "[encoded data removed]",
      "text/plain": [
       "<Figure size 936x936 with 1 Axes>"
      ]
     },
     "metadata": {
      "needs_background": "light"
     },
     "output_type": "display_data"
    }
   ],
   "source": [
    "fig, ax = plt.subplots(1, 1, figsize=(13,13))\n",
    "plot_importance(booster=model_class, ax=ax)"
   ]
  },
  {
   "cell_type": "code",
   "execution_count": null,
   "metadata": {
    "colab": {},
    "colab_type": "code",
    "id": "iJcB6ANyadkF"
   },
   "outputs": [],
   "source": [
    "def fitness_class(params):\n",
    "    params['seed'] = 42\n",
    "    params['n_jobs'] = 4\n",
    "    model_class = XGBClassifier(**params)  \n",
    "\n",
    "    model_class.fit(\n",
    "        X_train, \n",
    "        Y_train_classify, \n",
    "        eval_set=[(X_train, Y_train_classify), (X_valid, Y_valid_classify)],   \n",
    "        verbose=False,\n",
    "        eval_metric='auc',\n",
    "        early_stopping_rounds = 10)\n",
    "    return -model_class.best_score\n",
    "\n",
    "patterns = [\n",
    "    (\"max_depth\", int, 1, 50),\n",
    "    (\"n_estimators\", int, 10, 10000),\n",
    "    (\"min_child_weight\", int, 10, 5000),\n",
    "    (\"colsample_bytree\", float, 0.0, 1.0),\n",
    "    (\"subsample\", float, 0.1, 1.0),\n",
    "    (\"eta\", float, 0.0, 1.0),\n",
    "]"
   ]
  },
  {
   "cell_type": "code",
   "execution_count": null,
   "metadata": {
    "colab": {
     "base_uri": "https://localhost:8080/",
     "height": 119
    },
    "colab_type": "code",
    "id": "o0541PCcadkj",
    "outputId": "d1c46e98-8bec-4470-9b54-e79d6e930259"
   },
   "outputs": [
    {
     "name": "stdout",
     "output_type": "stream",
     "text": [
      "n_estimators.dim_velocity = 0.0\n",
      "*[1]particle.values={'max_depth': 41, 'n_estimators': 1834, 'min_child_weight': 214, 'colsample_bytree': 0.7415504997598329, 'subsample': 0.3204026684231286, 'eta': 0.1395379285251439}\n",
      "n_estimators.dim_velocity = -2505.1051636621605\n",
      "*[1]particle.values={'max_depth': 21, 'n_estimators': 6439, 'min_child_weight': 664, 'colsample_bytree': 0.5965191201678559, 'subsample': 0.1382903605856734, 'eta': 0.10826598189493027}\n",
      "n_estimators.dim_velocity = -861.6709206635134\n",
      "*[1]particle.values={'max_depth': 19, 'n_estimators': 7427, 'min_child_weight': 3409, 'colsample_bytree': 0.0877192797434631, 'subsample': 0.2823403028548622, 'eta': 0.39738454386798144}\n",
      "n_estimators.dim_velocity = -2127.7796725191743\n",
      "*[1]particle.values={'max_depth': 36, 'n_estimators': 4755, 'min_child_weight': 1631, 'colsample_bytree': 0.4953190475703636, 'subsample': 0.34721016825974976, 'eta': 0.5495302529925641}\n",
      "n_estimators.dim_velocity = -361.70357174238495\n",
      "*[1]particle.values={'max_depth': 46, 'n_estimators': 2263, 'min_child_weight': 3040, 'colsample_bytree': 0.45288902793407987, 'subsample': 0.26345269410400707, 'eta': 0.7939231394931847}\n",
      "n_estimators.dim_velocity = 0.0\n",
      "*[2]particle.values={'max_depth': 41, 'n_estimators': 1834, 'min_child_weight': 214, 'colsample_bytree': 0.7415504997598329, 'subsample': 0.3204026684231286, 'eta': 0.1395379285251439}\n",
      "n_estimators.dim_velocity = -777.9666021219904\n",
      "*[2]particle.values={'max_depth': 35, 'n_estimators': 5661, 'min_child_weight': 493, 'colsample_bytree': 0.617676115187855, 'subsample': 0.1513536571902086, 'eta': 0.11973161626952644}\n",
      "n_estimators.dim_velocity = -1544.8696604704933\n",
      "*[2]particle.values={'max_depth': 28, 'n_estimators': 5882, 'min_child_weight': 1628, 'colsample_bytree': 0.17700993002605728, 'subsample': 0.2938637766384433, 'eta': 0.24262511076080073}\n",
      "n_estimators.dim_velocity = -639.1691560506137\n",
      "*[2]particle.values={'max_depth': 38, 'n_estimators': 4115, 'min_child_weight': 1562, 'colsample_bytree': 0.6173365299798467, 'subsample': 0.3421398850821505, 'eta': 0.2736106344112669}\n",
      "n_estimators.dim_velocity = -35.39288287387668\n",
      "*[2]particle.values={'max_depth': 46, 'n_estimators': 2227, 'min_child_weight': 1992, 'colsample_bytree': 0.5480475250364257, 'subsample': 0.27159051666933764, 'eta': 0.677718320833601}\n",
      "n_estimators.dim_velocity = 0.0\n",
      "*[3]particle.values={'max_depth': 41, 'n_estimators': 1834, 'min_child_weight': 214, 'colsample_bytree': 0.7415504997598329, 'subsample': 0.3204026684231286, 'eta': 0.1395379285251439}\n",
      "n_estimators.dim_velocity = -369.23525071488086\n",
      "*[3]particle.values={'max_depth': 39, 'n_estimators': 5291, 'min_child_weight': 409, 'colsample_bytree': 0.6772666167752142, 'subsample': 0.1753898702260348, 'eta': 0.12529292713361803}\n",
      "n_estimators.dim_velocity = -1420.1470553962192\n",
      "*[3]particle.values={'max_depth': 36, 'n_estimators': 4461, 'min_child_weight': 522, 'colsample_bytree': 0.23115781365558488, 'subsample': 0.3029414723928335, 'eta': 0.15861809335020455}\n",
      "n_estimators.dim_velocity = -650.9403190528217\n",
      "*[3]particle.values={'max_depth': 40, 'n_estimators': 3464, 'min_child_weight': 960, 'colsample_bytree': 0.6657550765051672, 'subsample': 0.33603353382409873, 'eta': 0.17408863562920074}\n",
      "n_estimators.dim_velocity = 52.651683089046145\n",
      "*[3]particle.values={'max_depth': 46, 'n_estimators': 2279, 'min_child_weight': 826, 'colsample_bytree': 0.5834848876981009, 'subsample': 0.2800812851316736, 'eta': 0.5354171507820509}\n",
      "n_estimators.dim_velocity = 0.0\n",
      "*[4]particle.values={'max_depth': 41, 'n_estimators': 1834, 'min_child_weight': 214, 'colsample_bytree': 0.7415504997598329, 'subsample': 0.3204026684231286, 'eta': 0.1395379285251439}\n",
      "n_estimators.dim_velocity = -1785.1847125636552\n",
      "*[4]particle.values={'max_depth': 40, 'n_estimators': 3505, 'min_child_weight': 331, 'colsample_bytree': 0.6969811701086062, 'subsample': 0.21906060468760202, 'eta': 0.12808263510713033}\n",
      "n_estimators.dim_velocity = -1207.6227289409771\n",
      "*[4]particle.values={'max_depth': 38, 'n_estimators': 3253, 'min_child_weight': 154, 'colsample_bytree': 0.47460024557597325, 'subsample': 0.3108552888609568, 'eta': 0.12941654788533544}\n",
      "n_estimators.dim_velocity = -361.7533432460287\n",
      "*[4]particle.values={'max_depth': 40, 'n_estimators': 3102, 'min_child_weight': 690, 'colsample_bytree': 0.7057361628353992, 'subsample': 0.33173056684779245, 'eta': 0.14297882804394632}\n",
      "n_estimators.dim_velocity = -0.5050055179544977\n",
      "*[4]particle.values={'max_depth': 43, 'n_estimators': 2278, 'min_child_weight': 395, 'colsample_bytree': 0.6637332638751029, 'subsample': 0.2900784373611824, 'eta': 0.32769564766487236}\n",
      "n_estimators.dim_velocity = 0.0\n",
      "*[5]particle.values={'max_depth': 41, 'n_estimators': 1834, 'min_child_weight': 214, 'colsample_bytree': 0.7415504997598329, 'subsample': 0.3204026684231286, 'eta': 0.1395379285251439}\n",
      "n_estimators.dim_velocity = -1135.1203961235622\n",
      "*[5]particle.values={'max_depth': 40, 'n_estimators': 2369, 'min_child_weight': 270, 'colsample_bytree': 0.7137823046904087, 'subsample': 0.27503477324586867, 'eta': 0.13134563987892367}\n",
      "n_estimators.dim_velocity = -814.3187598776219\n",
      "*[5]particle.values={'max_depth': 38, 'n_estimators': 2438, 'min_child_weight': 65, 'colsample_bytree': 0.6047185410185918, 'subsample': 0.3135886246473174, 'eta': 0.1252305868178527}\n",
      "n_estimators.dim_velocity = -202.4174630235926\n",
      "*[5]particle.values={'max_depth': 40, 'n_estimators': 2899, 'min_child_weight': 535, 'colsample_bytree': 0.7319867849646273, 'subsample': 0.3253482132679007, 'eta': 0.13321658238856046}\n",
      "n_estimators.dim_velocity = -90.36728219811629\n",
      "*[5]particle.values={'max_depth': 41, 'n_estimators': 2187, 'min_child_weight': 251, 'colsample_bytree': 0.7214483894332185, 'subsample': 0.3053705975170171, 'eta': 0.2630473240694513}\n",
      "n_estimators.dim_velocity = 0.0\n",
      "*[6]particle.values={'max_depth': 41, 'n_estimators': 1834, 'min_child_weight': 214, 'colsample_bytree': 0.7415504997598329, 'subsample': 0.3204026684231286, 'eta': 0.1395379285251439}\n",
      "n_estimators.dim_velocity = -553.2910398604591\n",
      "*[6]particle.values={'max_depth': 40, 'n_estimators': 1815, 'min_child_weight': 251, 'colsample_bytree': 0.7233802660123133, 'subsample': 0.3137598855735991, 'eta': 0.1349521430924381}\n",
      "n_estimators.dim_velocity = -309.43733335627155\n",
      "*[6]particle.values={'max_depth': 39, 'n_estimators': 2128, 'min_child_weight': 116, 'colsample_bytree': 0.6979892876113984, 'subsample': 0.31441515087991134, 'eta': 0.1300961035509119}\n",
      "n_estimators.dim_velocity = -265.841807163145\n",
      "*[6]particle.values={'max_depth': 40, 'n_estimators': 2633, 'min_child_weight': 447, 'colsample_bytree': 0.739870059054657, 'subsample': 0.3221020379447434, 'eta': 0.1326329703209889}\n",
      "n_estimators.dim_velocity = -141.16432764002735\n",
      "*[6]particle.values={'max_depth': 41, 'n_estimators': 2045, 'min_child_weight': 226, 'colsample_bytree': 0.7215255627362777, 'subsample': 0.30998655193808905, 'eta': 0.2320036711599227}\n",
      "n_estimators.dim_velocity = 0.0\n",
      "*[7]particle.values={'max_depth': 41, 'n_estimators': 1834, 'min_child_weight': 214, 'colsample_bytree': 0.7415504997598329, 'subsample': 0.3204026684231286, 'eta': 0.1395379285251439}\n",
      "n_estimators.dim_velocity = -161.78679386474207\n",
      "*[7]particle.values={'max_depth': 40, 'n_estimators': 1653, 'min_child_weight': 236, 'colsample_bytree': 0.7334916323890431, 'subsample': 0.32565905844045534, 'eta': 0.13748535953456}\n",
      "n_estimators.dim_velocity = 230.78303878787682\n",
      "*[7]particle.values={'max_depth': 40, 'n_estimators': 2358, 'min_child_weight': 145, 'colsample_bytree': 0.7285751486092004, 'subsample': 0.31636130851373406, 'eta': 0.1334875528969436}\n",
      "n_estimators.dim_velocity = -184.6411058533759\n",
      "*[7]particle.values={'max_depth': 40, 'n_estimators': 2448, 'min_child_weight': 355, 'colsample_bytree': 0.7428441612584106, 'subsample': 0.32228747221373066, 'eta': 0.13318919201827653}\n",
      "n_estimators.dim_velocity = -68.63971679613522\n",
      "*[7]particle.values={'max_depth': 41, 'n_estimators': 1976, 'min_child_weight': 215, 'colsample_bytree': 0.7282328157538801, 'subsample': 0.3144724886196428, 'eta': 0.1814773951700855}\n",
      "n_estimators.dim_velocity = 0.0\n",
      "*[8]particle.values={'max_depth': 41, 'n_estimators': 1834, 'min_child_weight': 214, 'colsample_bytree': 0.7415504997598329, 'subsample': 0.3204026684231286, 'eta': 0.1395379285251439}\n"
     ]
    },
    {
     "name": "stdout",
     "output_type": "stream",
     "text": [
      "n_estimators.dim_velocity = -41.52379463466403\n",
      "*[8]particle.values={'max_depth': 40, 'n_estimators': 1611, 'min_child_weight': 228, 'colsample_bytree': 0.7387015498627189, 'subsample': 0.3286210100337945, 'eta': 0.13897031147949515}\n",
      "n_estimators.dim_velocity = 203.12054767683833\n",
      "*[8]particle.values={'max_depth': 40, 'n_estimators': 2561, 'min_child_weight': 169, 'colsample_bytree': 0.6266370922595291, 'subsample': 0.3167615554317964, 'eta': 0.13409734207606178}\n",
      "n_estimators.dim_velocity = -317.40085258072787\n",
      "*[8]particle.values={'max_depth': 40, 'n_estimators': 2130, 'min_child_weight': 297, 'colsample_bytree': 0.7433831367484206, 'subsample': 0.32213526641090884, 'eta': 0.13473956241352955}\n",
      "n_estimators.dim_velocity = -49.2983985476128\n",
      "*[8]particle.values={'max_depth': 41, 'n_estimators': 1926, 'min_child_weight': 211, 'colsample_bytree': 0.7343885024475394, 'subsample': 0.3169865751072639, 'eta': 0.16575118968888472}\n",
      "n_estimators.dim_velocity = 0.0\n",
      "*[9]particle.values={'max_depth': 41, 'n_estimators': 1834, 'min_child_weight': 214, 'colsample_bytree': 0.7415504997598329, 'subsample': 0.3204026684231286, 'eta': 0.1395379285251439}\n",
      "n_estimators.dim_velocity = 99.03258448837762\n",
      "*[9]particle.values={'max_depth': 40, 'n_estimators': 1710, 'min_child_weight': 221, 'colsample_bytree': 0.7411929332838219, 'subsample': 0.3256074787033181, 'eta': 0.1394215810855865}\n",
      "n_estimators.dim_velocity = 87.56598150997863\n",
      "*[9]particle.values={'max_depth': 40, 'n_estimators': 2648, 'min_child_weight': 190, 'colsample_bytree': 0.5473979021567542, 'subsample': 0.3164499876244605, 'eta': 0.13624096586363543}\n",
      "n_estimators.dim_velocity = -141.38992794463326\n",
      "*[9]particle.values={'max_depth': 40, 'n_estimators': 1988, 'min_child_weight': 240, 'colsample_bytree': 0.7428896481974947, 'subsample': 0.32149132609637354, 'eta': 0.13544915341749608}\n",
      "n_estimators.dim_velocity = -20.358052557380333\n",
      "*[9]particle.values={'max_depth': 41, 'n_estimators': 1905, 'min_child_weight': 211, 'colsample_bytree': 0.7377692295453536, 'subsample': 0.318605005689403, 'eta': 0.1498982541500801}\n",
      "n_estimators.dim_velocity = 0.0\n",
      "*[10]particle.values={'max_depth': 41, 'n_estimators': 1834, 'min_child_weight': 214, 'colsample_bytree': 0.7415504997598329, 'subsample': 0.3204026684231286, 'eta': 0.1395379285251439}\n",
      "n_estimators.dim_velocity = 46.35029870556526\n",
      "*[10]particle.values={'max_depth': 40, 'n_estimators': 1756, 'min_child_weight': 216, 'colsample_bytree': 0.7420979691879555, 'subsample': 0.32349405960204136, 'eta': 0.1395790091849914}\n",
      "n_estimators.dim_velocity = -5.056427779958412\n",
      "*[10]particle.values={'max_depth': 40, 'n_estimators': 2642, 'min_child_weight': 186, 'colsample_bytree': 0.5596518526041349, 'subsample': 0.3156037596102342, 'eta': 0.1337901967191984}\n",
      "n_estimators.dim_velocity = -95.59389752077225\n",
      "*[10]particle.values={'max_depth': 40, 'n_estimators': 1892, 'min_child_weight': 216, 'colsample_bytree': 0.7426792955077097, 'subsample': 0.32092158430458073, 'eta': 0.1368509557191963}\n",
      "n_estimators.dim_velocity = -28.120333737142488\n",
      "*[10]particle.values={'max_depth': 41, 'n_estimators': 1876, 'min_child_weight': 212, 'colsample_bytree': 0.7388008130380518, 'subsample': 0.31916599908086496, 'eta': 0.14331415770565353}\n",
      "n_estimators.dim_velocity = 0.0\n",
      "*[11]particle.values={'max_depth': 41, 'n_estimators': 1834, 'min_child_weight': 214, 'colsample_bytree': 0.7415504997598329, 'subsample': 0.3204026684231286, 'eta': 0.1395379285251439}\n",
      "n_estimators.dim_velocity = 51.90259192467636\n",
      "*[11]particle.values={'max_depth': 40, 'n_estimators': 1807, 'min_child_weight': 213, 'colsample_bytree': 0.7421317519816895, 'subsample': 0.32151107482643954, 'eta': 0.1396165960466988}\n",
      "n_estimators.dim_velocity = -378.71539288508757\n",
      "*[11]particle.values={'max_depth': 39, 'n_estimators': 2263, 'min_child_weight': 188, 'colsample_bytree': 0.5530468852694732, 'subsample': 0.31401378179225387, 'eta': 0.13436836118016515}\n",
      "n_estimators.dim_velocity = -61.16701568259492\n",
      "*[11]particle.values={'max_depth': 40, 'n_estimators': 1830, 'min_child_weight': 207, 'colsample_bytree': 0.742473124096531, 'subsample': 0.3208811516848915, 'eta': 0.1386405315994239}\n",
      "n_estimators.dim_velocity = -18.72840835423129\n",
      "*[11]particle.values={'max_depth': 40, 'n_estimators': 1857, 'min_child_weight': 211, 'colsample_bytree': 0.7397446566346293, 'subsample': 0.31936695306925067, 'eta': 0.14217609837984863}\n"
     ]
    }
   ],
   "source": [
    "random.seed(42)\n",
    "ts = time.time()\n",
    "opt_class, fitness_class_res = pso.optimize(patterns, fitness_class)\n",
    "time.time() - ts"
   ]
  },
  {
   "cell_type": "code",
   "execution_count": null,
   "metadata": {
    "colab": {},
    "colab_type": "code",
    "id": "MkuZhwApadkt"
   },
   "outputs": [],
   "source": [
    "opt_class, fitness_class_res"
   ]
  },
  {
   "cell_type": "code",
   "execution_count": null,
   "metadata": {
    "colab": {},
    "colab_type": "code",
    "id": "ebRcw_Iycrz7"
   },
   "outputs": [],
   "source": [
    "# params_pso_class = {'colsample_bytree': 0.6160255388578953,\n",
    "#   'eta': 0.2695933770248609,\n",
    "#   'max_depth': 13,\n",
    "#   'min_child_weight': 229,\n",
    "#   'n_estimators': 4946,\n",
    "#   'subsample': 0.8236539165798413,\n",
    "#   'seed': 42}\n",
    "model_pso_class_opt = XGBClassifier(**opt_class)\n",
    "model_pso_class_opt.fit(\n",
    "        X_train, \n",
    "        Y_train_regr, \n",
    "        eval_set=[(X_train, Y_train_class), (X_valid, Y_valid_class)],   \n",
    "        verbose=False,\n",
    "        eval_metric='mae',\n",
    "        early_stopping_rounds = 10)"
   ]
  },
  {
   "cell_type": "code",
   "execution_count": null,
   "metadata": {
    "colab": {},
    "colab_type": "code",
    "id": "ZPi2TnZvhF6W"
   },
   "outputs": [],
   "source": [
    "fig, ax = plt.subplots(1, 1, figsize=(8,8))\n",
    "plot_importance(booster=model_pso_class_opt, ax=ax, max_num_features=20, title='Feature importance (regression)')"
   ]
  },
  {
   "cell_type": "code",
   "execution_count": null,
   "metadata": {
    "colab": {},
    "colab_type": "code",
    "id": "rQDi8o9Eadk_",
    "scrolled": true
   },
   "outputs": [],
   "source": [
    "random.seed(42)\n",
    "param_dist = {\"max_depth\": sp.stats.randint(1, 50),\n",
    "              \"n_estimators\": sp.stats.randint(10, 10000),\n",
    "              \"min_child_weight\": sp.stats.randint(10, 10000),\n",
    "              \"subsample\": sp.stats.uniform(0, 1),\n",
    "              \"colsample_bytree\": sp.stats.uniform(0, 1),\n",
    "              \"eta\":sp.stats.uniform(0, 1)}\n",
    "search_classif=RandomizedSearchCV(XGBClassifier(), param_distributions=param_dist, scoring=\"roc_auc\", n_jobs=3, verbose=10)\n",
    "search_classif.fit(X_train, Y_train_classify)"
   ]
  },
  {
   "cell_type": "code",
   "execution_count": null,
   "metadata": {
    "colab": {},
    "colab_type": "code",
    "id": "TJXnm2EzadlL"
   },
   "outputs": [],
   "source": [
    "search_classif.best_estimator_"
   ]
  },
  {
   "cell_type": "code",
   "execution_count": null,
   "metadata": {
    "colab": {},
    "colab_type": "code",
    "id": "cR7F8mTEhKi6"
   },
   "outputs": [],
   "source": [
    "search_classif.best_score_"
   ]
  },
  {
   "cell_type": "code",
   "execution_count": null,
   "metadata": {
    "colab": {},
    "colab_type": "code",
    "id": "NlVnppxQadlZ"
   },
   "outputs": [],
   "source": [
    "ts = time.time()\n",
    "model_class = XGBClassifier()\n",
    "model_class.set_params(**search_classif.best_estimator_.get_params())\n",
    "\n",
    "model_class.fit(\n",
    "        X_train, \n",
    "        Y_train_classify, \n",
    "        eval_set=[(X_train, Y_train_classify), (X_valid, Y_valid_classify)], \n",
    "        verbose=True,         \n",
    "        eval_metric='auc',\n",
    "        early_stopping_rounds = 10)\n",
    "    \n",
    "time.time() - ts"
   ]
  }
 ],
 "metadata": {
  "colab": {
   "collapsed_sections": [],
   "name": "Traiding_multiple_stocks_with_pso.ipynb",
   "provenance": [],
   "toc_visible": true,
   "version": "0.3.2"
  },
  "kernelspec": {
   "display_name": "Python 3",
   "language": "python",
   "name": "python3"
  },
  "language_info": {
   "codemirror_mode": {
    "name": "ipython",
    "version": 3
   },
   "file_extension": ".py",
   "mimetype": "text/x-python",
   "name": "python",
   "nbconvert_exporter": "python",
   "pygments_lexer": "ipython3",
   "version": "3.7.3"
  }
 },
 "nbformat": 4,
 "nbformat_minor": 1
}
