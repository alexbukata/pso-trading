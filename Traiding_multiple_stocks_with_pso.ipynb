{
 "cells": [
  {
   "cell_type": "code",
   "execution_count": 0,
   "metadata": {
    "colab": {},
    "colab_type": "code",
    "collapsed": true,
    "id": "wuyWT2Xladgj"
   },
   "outputs": [],
   "source": [
    "import datetime as dtm\n",
    "import requests\n",
    "import pandas as pd\n",
    "import time\n",
    "import os\n",
    "import numpy as np\n",
    "import scipy as sp\n",
    "import pickle\n",
    "from xgboost import XGBRegressor, XGBClassifier\n",
    "from xgboost import plot_importance\n",
    "import matplotlib.pyplot as plt\n",
    "import random\n",
    "import src.data_retriever as intrinio\n",
    "import src.pso as pso\n",
    "from sklearn.model_selection import GridSearchCV, RandomizedSearchCV\n",
    "%matplotlib inline"
   ]
  },
  {
   "cell_type": "code",
   "execution_count": 0,
   "metadata": {
    "colab": {},
    "colab_type": "code",
    "collapsed": true,
    "id": "77i2DtOsadg4"
   },
   "outputs": [],
   "source": [
    "random.seed(42)\n",
    "datefrom = dtm.datetime(2012, 1, 1)\n",
    "dateto = dtm.datetime(2019, 1, 1)"
   ]
  },
  {
   "cell_type": "code",
   "execution_count": 0,
   "metadata": {
    "colab": {},
    "colab_type": "code",
    "collapsed": true,
    "id": "B0-dz9GOadhI"
   },
   "outputs": [],
   "source": [
    "#DOW 30\n",
    "stock_names = ['AAPL', 'CSCO', 'WMT', 'MCD', 'GS', 'AXP', 'BA', 'KO', 'V', 'WMT', 'UNH']\n",
    "# stock_names = ['AAPL']"
   ]
  },
  {
   "cell_type": "code",
   "execution_count": 0,
   "metadata": {
    "colab": {},
    "colab_type": "code",
    "collapsed": true,
    "id": "pAwUEYYvadhb"
   },
   "outputs": [],
   "source": [
    "stocks_filename = 'stocks.csv'\n",
    "if os.path.isfile(stocks_filename):\n",
    "    stocks = pd.read_csv(stocks_filename)\n",
    "    stocks['date'] = pd.to_datetime(stocks['date'], format=\"%Y-%m-%d\")\n",
    "else:\n",
    "    stocks = intrinio.get_stocks_data(stock_names, datefrom, dateto)\n",
    "    stocks.to_csv(stocks_filename, index_label='id', columns=stocks.columns)"
   ]
  },
  {
   "cell_type": "markdown",
   "metadata": {
    "colab_type": "text",
    "id": "lwmRx8dSadiS"
   },
   "source": [
    "### Подготовка к обучению"
   ]
  },
  {
   "cell_type": "code",
   "execution_count": 0,
   "metadata": {
    "colab": {},
    "colab_type": "code",
    "collapsed": true,
    "id": "LVrkhzN1adiW"
   },
   "outputs": [],
   "source": [
    "train_datefrom = dtm.datetime(2017, 1, 1)\n",
    "train_dateto = dtm.datetime(2018, 6, 1)\n",
    "\n",
    "valid_datefrom = train_dateto\n",
    "valid_dateto = dtm.datetime(2019, 1, 1)"
   ]
  },
  {
   "cell_type": "code",
   "execution_count": 0,
   "metadata": {
    "colab": {},
    "colab_type": "code",
    "collapsed": true,
    "id": "ZwPmGqH4adin"
   },
   "outputs": [],
   "source": [
    "data = stocks.drop(0).reset_index(drop=True)\n",
    "data['date'] = data['date'].map(lambda x: x.timestamp())"
   ]
  },
  {
   "cell_type": "code",
   "execution_count": 15,
   "metadata": {
    "colab": {
     "base_uri": "https://localhost:8080/",
     "height": 139
    },
    "colab_type": "code",
    "id": "DcL7Q_-Fadi2",
    "outputId": "c68a9e1c-1284-4638-fa7c-284f718f541f"
   },
   "outputs": [
    {
     "name": "stderr",
     "output_type": "stream",
     "text": [
      "/usr/local/lib/python3.6/dist-packages/ipykernel_launcher.py:4: FutureWarning: Method .as_matrix will be removed in a future version. Use .values instead.\n",
      "  after removing the cwd from sys.path.\n",
      "/usr/local/lib/python3.6/dist-packages/ipykernel_launcher.py:7: FutureWarning: Method .as_matrix will be removed in a future version. Use .values instead.\n",
      "  import sys\n",
      "/usr/local/lib/python3.6/dist-packages/sklearn/preprocessing/label.py:235: DataConversionWarning: A column-vector y was passed when a 1d array was expected. Please change the shape of y to (n_samples, ), for example using ravel().\n",
      "  y = column_or_1d(y, warn=True)\n"
     ]
    }
   ],
   "source": [
    "from sklearn.preprocessing import MinMaxScaler, LabelEncoder\n",
    "\n",
    "#to_normalize = ['volume_prev1', 'ebitda']\n",
    "data['date_norm'] = MinMaxScaler().fit_transform(data['date'].as_matrix().reshape(-1, 1))\n",
    "#data['volume_prev1'] = MinMaxScaler().fit_transform(data['volume_prev1'].as_matrix().reshape(-1, 1))\n",
    "#data['ebitda'] = MinMaxScaler().fit_transform(data['ebitda'].as_matrix().reshape(-1, 1))\n",
    "data['stock_name'] = LabelEncoder().fit_transform(data['stock_name'].as_matrix().reshape(-1, 1))"
   ]
  },
  {
   "cell_type": "code",
   "execution_count": 16,
   "metadata": {
    "colab": {
     "base_uri": "https://localhost:8080/",
     "height": 34
    },
    "colab_type": "code",
    "id": "UDkwqeaeadjH",
    "outputId": "a93573cb-c6a9-427d-82a8-8bdb8ec4519e"
   },
   "outputs": [
    {
     "name": "stdout",
     "output_type": "stream",
     "text": [
      "17753\n"
     ]
    }
   ],
   "source": [
    "train_data = data[data['date'] <= train_dateto.timestamp()]\n",
    "X_train = train_data.drop(['date','close','adj_close', 'volume'],axis=1)\n",
    "print(len(X_train))\n",
    "Y_train_regr = train_data['close']\n",
    "Y_train_classify = train_data['close'] > train_data['open']"
   ]
  },
  {
   "cell_type": "code",
   "execution_count": 17,
   "metadata": {
    "colab": {
     "base_uri": "https://localhost:8080/",
     "height": 34
    },
    "colab_type": "code",
    "id": "N2umHbBuadjT",
    "outputId": "833fb4a4-558e-4f73-d7a6-26c8f67a461b"
   },
   "outputs": [
    {
     "name": "stdout",
     "output_type": "stream",
     "text": [
      "1605\n"
     ]
    }
   ],
   "source": [
    "valid_data = data[data['date'] > valid_datefrom.timestamp()]\n",
    "# valid_data = valid_data.query('(stock_name == 0)')\n",
    "X_valid = valid_data.drop(['date','close','adj_close', 'volume'],axis=1)\n",
    "print(len(X_valid))\n",
    "Y_valid_regr = valid_data['close']\n",
    "Y_valid_classify =valid_data['close'] > valid_data['open']"
   ]
  },
  {
   "cell_type": "code",
   "execution_count": 18,
   "metadata": {
    "colab": {
     "base_uri": "https://localhost:8080/",
     "height": 1853
    },
    "colab_type": "code",
    "id": "iO_f2OQdadjg",
    "outputId": "16a9ba71-4974-49d2-e6ba-a23ff2542237"
   },
   "outputs": [
    {
     "name": "stderr",
     "output_type": "stream",
     "text": [
      "/usr/local/lib/python3.6/dist-packages/xgboost/core.py:587: FutureWarning: Series.base is deprecated and will be removed in a future version\n",
      "  if getattr(data, 'base', None) is not None and \\\n",
      "/usr/local/lib/python3.6/dist-packages/xgboost/core.py:588: FutureWarning: Series.base is deprecated and will be removed in a future version\n",
      "  data.base is not None and isinstance(data, np.ndarray) \\\n"
     ]
    },
    {
     "name": "stdout",
     "output_type": "stream",
     "text": [
      "[0]\tvalidation_0-mae:102.902\tvalidation_1-mae:140.783\n",
      "Multiple eval metrics have been passed: 'validation_1-mae' will be used for early stopping.\n",
      "\n",
      "Will train until validation_1-mae hasn't improved in 20 rounds.\n",
      "[1]\tvalidation_0-mae:92.6242\tvalidation_1-mae:127.982\n",
      "[2]\tvalidation_0-mae:83.3728\tvalidation_1-mae:115.267\n",
      "[3]\tvalidation_0-mae:75.0458\tvalidation_1-mae:104.862\n",
      "[4]\tvalidation_0-mae:67.555\tvalidation_1-mae:94.7894\n",
      "[5]\tvalidation_0-mae:60.8237\tvalidation_1-mae:85.8189\n",
      "[6]\tvalidation_0-mae:54.7792\tvalidation_1-mae:77.5312\n",
      "[7]\tvalidation_0-mae:49.3465\tvalidation_1-mae:69.9059\n",
      "[8]\tvalidation_0-mae:44.4483\tvalidation_1-mae:62.9788\n",
      "[9]\tvalidation_0-mae:40.0786\tvalidation_1-mae:56.9012\n",
      "[10]\tvalidation_0-mae:36.1061\tvalidation_1-mae:51.1242\n",
      "[11]\tvalidation_0-mae:32.5835\tvalidation_1-mae:46.2238\n",
      "[12]\tvalidation_0-mae:29.3581\tvalidation_1-mae:41.5917\n",
      "[13]\tvalidation_0-mae:26.5155\tvalidation_1-mae:37.6883\n",
      "[14]\tvalidation_0-mae:23.942\tvalidation_1-mae:34.1256\n",
      "[15]\tvalidation_0-mae:21.5763\tvalidation_1-mae:30.7294\n",
      "[16]\tvalidation_0-mae:19.4395\tvalidation_1-mae:27.7455\n",
      "[17]\tvalidation_0-mae:17.5147\tvalidation_1-mae:24.9856\n",
      "[18]\tvalidation_0-mae:15.8009\tvalidation_1-mae:22.4474\n",
      "[19]\tvalidation_0-mae:14.2841\tvalidation_1-mae:20.2691\n",
      "[20]\tvalidation_0-mae:12.8622\tvalidation_1-mae:18.2621\n",
      "[21]\tvalidation_0-mae:11.6187\tvalidation_1-mae:16.4863\n",
      "[22]\tvalidation_0-mae:10.5143\tvalidation_1-mae:14.9239\n",
      "[23]\tvalidation_0-mae:9.46718\tvalidation_1-mae:13.4423\n",
      "[24]\tvalidation_0-mae:8.54252\tvalidation_1-mae:12.0975\n",
      "[25]\tvalidation_0-mae:7.69444\tvalidation_1-mae:10.8899\n",
      "[26]\tvalidation_0-mae:6.9357\tvalidation_1-mae:9.86661\n",
      "[27]\tvalidation_0-mae:6.2488\tvalidation_1-mae:8.8858\n",
      "[28]\tvalidation_0-mae:5.63953\tvalidation_1-mae:7.98642\n",
      "[29]\tvalidation_0-mae:5.08854\tvalidation_1-mae:7.23442\n",
      "[30]\tvalidation_0-mae:4.60573\tvalidation_1-mae:6.54664\n",
      "[31]\tvalidation_0-mae:4.17014\tvalidation_1-mae:5.92654\n",
      "[32]\tvalidation_0-mae:3.7732\tvalidation_1-mae:5.38309\n",
      "[33]\tvalidation_0-mae:3.41747\tvalidation_1-mae:4.90557\n",
      "[34]\tvalidation_0-mae:3.10446\tvalidation_1-mae:4.47823\n",
      "[35]\tvalidation_0-mae:2.82673\tvalidation_1-mae:4.12353\n",
      "[36]\tvalidation_0-mae:2.5842\tvalidation_1-mae:3.79027\n",
      "[37]\tvalidation_0-mae:2.36958\tvalidation_1-mae:3.50328\n",
      "[38]\tvalidation_0-mae:2.18394\tvalidation_1-mae:3.2611\n",
      "[39]\tvalidation_0-mae:2.02293\tvalidation_1-mae:3.04539\n",
      "[40]\tvalidation_0-mae:1.88509\tvalidation_1-mae:2.86466\n",
      "[41]\tvalidation_0-mae:1.7669\tvalidation_1-mae:2.71603\n",
      "[42]\tvalidation_0-mae:1.66618\tvalidation_1-mae:2.59199\n",
      "[43]\tvalidation_0-mae:1.57882\tvalidation_1-mae:2.48877\n",
      "[44]\tvalidation_0-mae:1.50443\tvalidation_1-mae:2.40261\n",
      "[45]\tvalidation_0-mae:1.44135\tvalidation_1-mae:2.31721\n",
      "[46]\tvalidation_0-mae:1.38914\tvalidation_1-mae:2.25832\n",
      "[47]\tvalidation_0-mae:1.34509\tvalidation_1-mae:2.20722\n",
      "[48]\tvalidation_0-mae:1.30575\tvalidation_1-mae:2.16011\n",
      "[49]\tvalidation_0-mae:1.27324\tvalidation_1-mae:2.11998\n",
      "[50]\tvalidation_0-mae:1.24531\tvalidation_1-mae:2.09083\n",
      "[51]\tvalidation_0-mae:1.22342\tvalidation_1-mae:2.06656\n",
      "[52]\tvalidation_0-mae:1.20487\tvalidation_1-mae:2.04382\n",
      "[53]\tvalidation_0-mae:1.18754\tvalidation_1-mae:2.0285\n",
      "[54]\tvalidation_0-mae:1.17297\tvalidation_1-mae:2.01111\n",
      "[55]\tvalidation_0-mae:1.16109\tvalidation_1-mae:1.99919\n",
      "[56]\tvalidation_0-mae:1.15062\tvalidation_1-mae:1.98796\n",
      "[57]\tvalidation_0-mae:1.14227\tvalidation_1-mae:1.97954\n",
      "[58]\tvalidation_0-mae:1.13465\tvalidation_1-mae:1.96751\n",
      "[59]\tvalidation_0-mae:1.12853\tvalidation_1-mae:1.96366\n",
      "[60]\tvalidation_0-mae:1.1233\tvalidation_1-mae:1.95883\n",
      "[61]\tvalidation_0-mae:1.11831\tvalidation_1-mae:1.95362\n",
      "[62]\tvalidation_0-mae:1.1143\tvalidation_1-mae:1.95101\n",
      "[63]\tvalidation_0-mae:1.11205\tvalidation_1-mae:1.9485\n",
      "[64]\tvalidation_0-mae:1.10899\tvalidation_1-mae:1.94417\n",
      "[65]\tvalidation_0-mae:1.10708\tvalidation_1-mae:1.94183\n",
      "[66]\tvalidation_0-mae:1.1056\tvalidation_1-mae:1.93821\n",
      "[67]\tvalidation_0-mae:1.10248\tvalidation_1-mae:1.93546\n",
      "[68]\tvalidation_0-mae:1.10114\tvalidation_1-mae:1.93366\n",
      "[69]\tvalidation_0-mae:1.09841\tvalidation_1-mae:1.93059\n",
      "[70]\tvalidation_0-mae:1.09658\tvalidation_1-mae:1.92874\n",
      "[71]\tvalidation_0-mae:1.09458\tvalidation_1-mae:1.92774\n",
      "[72]\tvalidation_0-mae:1.09201\tvalidation_1-mae:1.92422\n",
      "[73]\tvalidation_0-mae:1.08975\tvalidation_1-mae:1.92359\n",
      "[74]\tvalidation_0-mae:1.08796\tvalidation_1-mae:1.91976\n",
      "[75]\tvalidation_0-mae:1.08631\tvalidation_1-mae:1.91908\n",
      "[76]\tvalidation_0-mae:1.08407\tvalidation_1-mae:1.91717\n",
      "[77]\tvalidation_0-mae:1.08191\tvalidation_1-mae:1.91532\n",
      "[78]\tvalidation_0-mae:1.08067\tvalidation_1-mae:1.91107\n",
      "[79]\tvalidation_0-mae:1.07876\tvalidation_1-mae:1.91021\n",
      "[80]\tvalidation_0-mae:1.07809\tvalidation_1-mae:1.91037\n",
      "[81]\tvalidation_0-mae:1.07611\tvalidation_1-mae:1.90749\n",
      "[82]\tvalidation_0-mae:1.07252\tvalidation_1-mae:1.90523\n",
      "[83]\tvalidation_0-mae:1.07117\tvalidation_1-mae:1.9008\n",
      "[84]\tvalidation_0-mae:1.0694\tvalidation_1-mae:1.89858\n",
      "[85]\tvalidation_0-mae:1.06808\tvalidation_1-mae:1.89645\n",
      "[86]\tvalidation_0-mae:1.06688\tvalidation_1-mae:1.89444\n",
      "[87]\tvalidation_0-mae:1.06544\tvalidation_1-mae:1.89372\n",
      "[88]\tvalidation_0-mae:1.06368\tvalidation_1-mae:1.89292\n",
      "[89]\tvalidation_0-mae:1.06204\tvalidation_1-mae:1.8919\n",
      "[90]\tvalidation_0-mae:1.06025\tvalidation_1-mae:1.89009\n",
      "[91]\tvalidation_0-mae:1.05907\tvalidation_1-mae:1.88815\n",
      "[92]\tvalidation_0-mae:1.05817\tvalidation_1-mae:1.88784\n",
      "[93]\tvalidation_0-mae:1.05644\tvalidation_1-mae:1.89066\n",
      "[94]\tvalidation_0-mae:1.0548\tvalidation_1-mae:1.88832\n",
      "[95]\tvalidation_0-mae:1.05339\tvalidation_1-mae:1.88657\n",
      "[96]\tvalidation_0-mae:1.05206\tvalidation_1-mae:1.88603\n",
      "[97]\tvalidation_0-mae:1.05121\tvalidation_1-mae:1.88573\n",
      "[98]\tvalidation_0-mae:1.05006\tvalidation_1-mae:1.88288\n",
      "[99]\tvalidation_0-mae:1.04927\tvalidation_1-mae:1.88325\n"
     ]
    },
    {
     "data": {
      "text/plain": [
       "8.161950588226318"
      ]
     },
     "execution_count": 18,
     "metadata": {
      "tags": []
     },
     "output_type": "execute_result"
    }
   ],
   "source": [
    "ts = time.time()\n",
    "\n",
    "model_regr = XGBRegressor(seed=42)\n",
    "\n",
    "model_regr.fit(\n",
    "        X_train, \n",
    "        Y_train_regr, \n",
    "        eval_set=[(X_train, Y_train_regr), (X_valid, Y_valid_regr)], \n",
    "        eval_metric='mae',\n",
    "        verbose=True, \n",
    "        early_stopping_rounds = 20)\n",
    "    \n",
    "time.time() - ts"
   ]
  },
  {
   "cell_type": "code",
   "execution_count": 19,
   "metadata": {
    "colab": {
     "base_uri": "https://localhost:8080/",
     "height": 799
    },
    "colab_type": "code",
    "id": "lbsbqs1radjo",
    "outputId": "a2358970-942e-4c8c-9fa9-d8608364e330"
   },
   "outputs": [
    {
     "name": "stdout",
     "output_type": "stream",
     "text": [
      "[0]\tvalidation_0-auc:0.616313\tvalidation_1-auc:0.621568\n",
      "Multiple eval metrics have been passed: 'validation_1-auc' will be used for early stopping.\n",
      "\n",
      "Will train until validation_1-auc hasn't improved in 10 rounds.\n",
      "[1]\tvalidation_0-auc:0.634158\tvalidation_1-auc:0.627091\n",
      "[2]\tvalidation_0-auc:0.654501\tvalidation_1-auc:0.650938\n",
      "[3]\tvalidation_0-auc:0.657012\tvalidation_1-auc:0.643623\n",
      "[4]\tvalidation_0-auc:0.668548\tvalidation_1-auc:0.645451\n",
      "[5]\tvalidation_0-auc:0.669738\tvalidation_1-auc:0.652392\n",
      "[6]\tvalidation_0-auc:0.679078\tvalidation_1-auc:0.665142\n",
      "[7]\tvalidation_0-auc:0.684699\tvalidation_1-auc:0.668434\n",
      "[8]\tvalidation_0-auc:0.685338\tvalidation_1-auc:0.667848\n",
      "[9]\tvalidation_0-auc:0.691118\tvalidation_1-auc:0.673297\n",
      "[10]\tvalidation_0-auc:0.692053\tvalidation_1-auc:0.673127\n",
      "[11]\tvalidation_0-auc:0.693563\tvalidation_1-auc:0.67423\n",
      "[12]\tvalidation_0-auc:0.696201\tvalidation_1-auc:0.6766\n",
      "[13]\tvalidation_0-auc:0.698538\tvalidation_1-auc:0.679211\n",
      "[14]\tvalidation_0-auc:0.700377\tvalidation_1-auc:0.677852\n",
      "[15]\tvalidation_0-auc:0.701803\tvalidation_1-auc:0.678128\n",
      "[16]\tvalidation_0-auc:0.703769\tvalidation_1-auc:0.679524\n",
      "[17]\tvalidation_0-auc:0.705783\tvalidation_1-auc:0.679778\n",
      "[18]\tvalidation_0-auc:0.706609\tvalidation_1-auc:0.679942\n",
      "[19]\tvalidation_0-auc:0.708127\tvalidation_1-auc:0.682649\n",
      "[20]\tvalidation_0-auc:0.708916\tvalidation_1-auc:0.684732\n",
      "[21]\tvalidation_0-auc:0.71031\tvalidation_1-auc:0.685187\n",
      "[22]\tvalidation_0-auc:0.713135\tvalidation_1-auc:0.684794\n",
      "[23]\tvalidation_0-auc:0.716623\tvalidation_1-auc:0.68164\n",
      "[24]\tvalidation_0-auc:0.718716\tvalidation_1-auc:0.681553\n",
      "[25]\tvalidation_0-auc:0.719269\tvalidation_1-auc:0.682975\n",
      "[26]\tvalidation_0-auc:0.721159\tvalidation_1-auc:0.684857\n",
      "[27]\tvalidation_0-auc:0.721475\tvalidation_1-auc:0.685507\n",
      "[28]\tvalidation_0-auc:0.722502\tvalidation_1-auc:0.686483\n",
      "[29]\tvalidation_0-auc:0.723874\tvalidation_1-auc:0.685336\n",
      "[30]\tvalidation_0-auc:0.724135\tvalidation_1-auc:0.685994\n",
      "[31]\tvalidation_0-auc:0.725504\tvalidation_1-auc:0.685432\n",
      "[32]\tvalidation_0-auc:0.726551\tvalidation_1-auc:0.686367\n",
      "[33]\tvalidation_0-auc:0.727803\tvalidation_1-auc:0.675637\n",
      "[34]\tvalidation_0-auc:0.728342\tvalidation_1-auc:0.678677\n",
      "[35]\tvalidation_0-auc:0.729328\tvalidation_1-auc:0.680837\n",
      "[36]\tvalidation_0-auc:0.730963\tvalidation_1-auc:0.681154\n",
      "[37]\tvalidation_0-auc:0.73184\tvalidation_1-auc:0.683068\n",
      "[38]\tvalidation_0-auc:0.732224\tvalidation_1-auc:0.682162\n",
      "Stopping. Best iteration:\n",
      "[28]\tvalidation_0-auc:0.722502\tvalidation_1-auc:0.686483\n",
      "\n"
     ]
    },
    {
     "data": {
      "text/plain": [
       "3.429985523223877"
      ]
     },
     "execution_count": 19,
     "metadata": {
      "tags": []
     },
     "output_type": "execute_result"
    }
   ],
   "source": [
    "ts = time.time()\n",
    "\n",
    "model_class = XGBClassifier(seed=42)\n",
    "\n",
    "model_class.fit(\n",
    "        X_train, \n",
    "        Y_train_classify, \n",
    "        eval_set=[(X_train, Y_train_classify), (X_valid, Y_valid_classify)], \n",
    "        verbose=True,         \n",
    "        eval_metric='auc',\n",
    "        early_stopping_rounds = 10)\n",
    "    \n",
    "time.time() - ts"
   ]
  },
  {
   "cell_type": "code",
   "execution_count": 20,
   "metadata": {
    "colab": {
     "base_uri": "https://localhost:8080/",
     "height": 802
    },
    "colab_type": "code",
    "id": "Ffd3FwfNadjy",
    "outputId": "89429f25-0a3e-4efe-f595-43d24dcd4b14"
   },
   "outputs": [
    {
     "data": {
      "text/plain": [
       "<matplotlib.axes._subplots.AxesSubplot at 0x7f90395e7a58>"
      ]
     },
     "execution_count": 20,
     "metadata": {
      "tags": []
     },
     "output_type": "execute_result"
    },
    {
     "data": {
      "image/png": "[encoded data removed]",
      "text/plain": [
       "<Figure size 936x936 with 1 Axes>"
      ]
     },
     "metadata": {
      "tags": []
     },
     "output_type": "display_data"
    }
   ],
   "source": [
    "fig, ax = plt.subplots(1, 1, figsize=(13,13))\n",
    "plot_importance(booster=model_regr, ax=ax)"
   ]
  },
  {
   "cell_type": "code",
   "execution_count": 21,
   "metadata": {
    "colab": {
     "base_uri": "https://localhost:8080/",
     "height": 802
    },
    "colab_type": "code",
    "id": "mgucmoxkadj6",
    "outputId": "9ae1b830-0f2d-4d17-8ec2-65c5508cc04a",
    "scrolled": true
   },
   "outputs": [
    {
     "data": {
      "text/plain": [
       "<matplotlib.axes._subplots.AxesSubplot at 0x7f90395114a8>"
      ]
     },
     "execution_count": 21,
     "metadata": {
      "tags": []
     },
     "output_type": "execute_result"
    },
    {
     "data": {
      "image/png": "[encoded data removed]",
      "text/plain": [
       "<Figure size 936x936 with 1 Axes>"
      ]
     },
     "metadata": {
      "tags": []
     },
     "output_type": "display_data"
    }
   ],
   "source": [
    "fig, ax = plt.subplots(1, 1, figsize=(13,13))\n",
    "plot_importance(booster=model_class, ax=ax)"
   ]
  },
  {
   "cell_type": "code",
   "execution_count": 0,
   "metadata": {
    "colab": {},
    "colab_type": "code",
    "collapsed": true,
    "id": "iJcB6ANyadkF"
   },
   "outputs": [],
   "source": [
    "def fitness_regr(params):\n",
    "    params['seed'] = 42\n",
    "    params['n_jobs'] = 4\n",
    "    model_regr = XGBRegressor(**params)  \n",
    "\n",
    "    model_regr.fit(\n",
    "        X_train, \n",
    "        Y_train_regr, \n",
    "        eval_set=[(X_train, Y_train_regr), (X_valid, Y_valid_regr)],   \n",
    "        verbose=False,\n",
    "        eval_metric='mae',\n",
    "        early_stopping_rounds = 10)\n",
    "    return model_regr.best_score\n",
    "\n",
    "def fitness_class(params):\n",
    "    params['seed'] = 42\n",
    "    params['n_jobs'] = 4\n",
    "    model_class = XGBClassifier(**params)  \n",
    "\n",
    "    model_class.fit(\n",
    "        X_train, \n",
    "        Y_train_classify, \n",
    "        eval_set=[(X_train, Y_train_classify), (X_valid, Y_valid_classify)],   \n",
    "        verbose=False,\n",
    "        eval_metric='auc',\n",
    "        early_stopping_rounds = 10)\n",
    "    return -model_class.best_score\n",
    "\n",
    "patterns = [\n",
    "    (\"max_depth\", int, 1, 50),\n",
    "    (\"n_estimators\", int, 10, 10000),\n",
    "    (\"min_child_weight\", int, 10, 5000),\n",
    "    (\"colsample_bytree\", float, 0.0, 1.0),\n",
    "    (\"subsample\", float, 0.1, 1.0),\n",
    "    (\"eta\", float, 0.0, 1.0),\n",
    "]"
   ]
  },
  {
   "cell_type": "code",
   "execution_count": 23,
   "metadata": {
    "colab": {
     "base_uri": "https://localhost:8080/",
     "height": 9146
    },
    "colab_type": "code",
    "id": "VEgMb8ZUadkQ",
    "outputId": "276f1095-1a69-4a1a-99f8-f7964e28b2cc"
   },
   "outputs": [
    {
     "name": "stdout",
     "output_type": "stream",
     "text": [
      "n_estimators.dim_velocity = 0.0\n",
      "*[1]particle.values={'max_depth': 41, 'n_estimators': 1834, 'min_child_weight': 214, 'colsample_bytree': 0.7415504997598329, 'subsample': 0.3204026684231286, 'eta': 0.1395379285251439}\n",
      "n_estimators.dim_velocity = -2505.1051636621605\n",
      "*[1]particle.values={'max_depth': 21, 'n_estimators': 6439, 'min_child_weight': 664, 'colsample_bytree': 0.5965191201678559, 'subsample': 0.1382903605856734, 'eta': 0.10826598189493027}\n",
      "n_estimators.dim_velocity = -861.6709206635134\n",
      "*[1]particle.values={'max_depth': 19, 'n_estimators': 7427, 'min_child_weight': 3409, 'colsample_bytree': 0.0877192797434631, 'subsample': 0.2823403028548622, 'eta': 0.39738454386798144}\n",
      "n_estimators.dim_velocity = -2127.7796725191743\n",
      "*[1]particle.values={'max_depth': 36, 'n_estimators': 4755, 'min_child_weight': 1631, 'colsample_bytree': 0.4953190475703636, 'subsample': 0.34721016825974976, 'eta': 0.5495302529925641}\n",
      "n_estimators.dim_velocity = -361.70357174238495\n",
      "*[1]particle.values={'max_depth': 46, 'n_estimators': 2263, 'min_child_weight': 3040, 'colsample_bytree': 0.45288902793407987, 'subsample': 0.26345269410400707, 'eta': 0.7939231394931847}\n",
      "n_estimators.dim_velocity = 0.0\n",
      "*[2]particle.values={'max_depth': 41, 'n_estimators': 1834, 'min_child_weight': 214, 'colsample_bytree': 0.7415504997598329, 'subsample': 0.3204026684231286, 'eta': 0.1395379285251439}\n",
      "n_estimators.dim_velocity = 300.5903647778356\n",
      "*[2]particle.values={'max_depth': 31, 'n_estimators': 6739, 'min_child_weight': 514, 'colsample_bytree': 0.6160580604188466, 'subsample': 0.1482494955275256, 'eta': 0.11656419011324695}\n",
      "n_estimators.dim_velocity = -1544.8696604704933\n",
      "*[2]particle.values={'max_depth': 28, 'n_estimators': 5882, 'min_child_weight': 1628, 'colsample_bytree': 0.17700993002605728, 'subsample': 0.2938637766384433, 'eta': 0.24262511076080073}\n",
      "n_estimators.dim_velocity = -74.8728488349448\n",
      "*[2]particle.values={'max_depth': 38, 'n_estimators': 4680, 'min_child_weight': 1592, 'colsample_bytree': 0.5959161607842185, 'subsample': 0.34345452753835193, 'eta': 0.28287200161986387}\n",
      "n_estimators.dim_velocity = -35.39288287387668\n",
      "*[2]particle.values={'max_depth': 46, 'n_estimators': 2227, 'min_child_weight': 1992, 'colsample_bytree': 0.5480475250364257, 'subsample': 0.27159051666933764, 'eta': 0.677718320833601}\n",
      "n_estimators.dim_velocity = 0.0\n",
      "*[3]particle.values={'max_depth': 41, 'n_estimators': 1834, 'min_child_weight': 214, 'colsample_bytree': 0.7415504997598329, 'subsample': 0.3204026684231286, 'eta': 0.1395379285251439}\n",
      "n_estimators.dim_velocity = 158.96634104626847\n",
      "*[3]particle.values={'max_depth': 28, 'n_estimators': 6897, 'min_child_weight': 500, 'colsample_bytree': 0.664284834767332, 'subsample': 0.17102786320024685, 'eta': 0.11386515299844617}\n",
      "n_estimators.dim_velocity = -732.8966925792394\n",
      "*[3]particle.values={'max_depth': 35, 'n_estimators': 5149, 'min_child_weight': 1822, 'colsample_bytree': 0.21683194670436004, 'subsample': 0.2997280093158738, 'eta': 0.25371816935308383}\n",
      "n_estimators.dim_velocity = -486.9846540081292\n",
      "*[3]particle.values={'max_depth': 39, 'n_estimators': 4193, 'min_child_weight': 1024, 'colsample_bytree': 0.6217059424465582, 'subsample': 0.3390168118591482, 'eta': 0.2666450188783479}\n",
      "n_estimators.dim_velocity = 52.651683089046145\n",
      "*[3]particle.values={'max_depth': 46, 'n_estimators': 2279, 'min_child_weight': 826, 'colsample_bytree': 0.5834848876981009, 'subsample': 0.2800812851316736, 'eta': 0.5354171507820509}\n",
      "n_estimators.dim_velocity = 0.0\n",
      "*[4]particle.values={'max_depth': 41, 'n_estimators': 1834, 'min_child_weight': 214, 'colsample_bytree': 0.7415504997598329, 'subsample': 0.3204026684231286, 'eta': 0.1395379285251439}\n",
      "n_estimators.dim_velocity = -2100.769041799111\n",
      "*[4]particle.values={'max_depth': 20, 'n_estimators': 4796, 'min_child_weight': 482, 'colsample_bytree': 0.6533638966658663, 'subsample': 0.2030265475328576, 'eta': 0.10647666633013834}\n",
      "n_estimators.dim_velocity = -914.3945079749573\n",
      "*[4]particle.values={'max_depth': 28, 'n_estimators': 4234, 'min_child_weight': 2744, 'colsample_bytree': 0.4509467171782982, 'subsample': 0.3050755654894817, 'eta': 0.35580151687400813}\n",
      "n_estimators.dim_velocity = 870.1607947329949\n",
      "*[4]particle.values={'max_depth': 38, 'n_estimators': 5063, 'min_child_weight': 1040, 'colsample_bytree': 0.6355561705980968, 'subsample': 0.3364460205671651, 'eta': 0.48372411328913006}\n",
      "n_estimators.dim_velocity = 171.81967996097686\n",
      "*[4]particle.values={'max_depth': 44, 'n_estimators': 2450, 'min_child_weight': 677, 'colsample_bytree': 0.5502328848979832, 'subsample': 0.2724272036142513, 'eta': 0.36096413291784796}\n",
      "n_estimators.dim_velocity = 0.0\n",
      "*[5]particle.values={'max_depth': 41, 'n_estimators': 1834, 'min_child_weight': 214, 'colsample_bytree': 0.7415504997598329, 'subsample': 0.3204026684231286, 'eta': 0.1395379285251439}\n",
      "n_estimators.dim_velocity = -438.29488551809345\n",
      "*[5]particle.values={'max_depth': 17, 'n_estimators': 4357, 'min_child_weight': 416, 'colsample_bytree': 0.663330080854324, 'subsample': 0.22859380096924725, 'eta': 0.11067224212862183}\n",
      "n_estimators.dim_velocity = 524.5898195181512\n",
      "*[5]particle.values={'max_depth': 24, 'n_estimators': 4758, 'min_child_weight': 2370, 'colsample_bytree': 0.46625531657454544, 'subsample': 0.3071301731369906, 'eta': 0.41853635668800293}\n",
      "n_estimators.dim_velocity = 552.0345271269102\n",
      "*[5]particle.values={'max_depth': 38, 'n_estimators': 5615, 'min_child_weight': 966, 'colsample_bytree': 0.5981421562427505, 'subsample': 0.3344568081174553, 'eta': 0.5464057546175043}\n",
      "n_estimators.dim_velocity = 3.743454296964373\n",
      "*[5]particle.values={'max_depth': 42, 'n_estimators': 2453, 'min_child_weight': 1463, 'colsample_bytree': 0.5253351248628593, 'subsample': 0.2737183275842249, 'eta': 0.5686557910919694}\n",
      "n_estimators.dim_velocity = 0.0\n",
      "*[6]particle.values={'max_depth': 41, 'n_estimators': 1834, 'min_child_weight': 214, 'colsample_bytree': 0.7415504997598329, 'subsample': 0.3204026684231286, 'eta': 0.1395379285251439}\n",
      "n_estimators.dim_velocity = -1134.8168128367631\n",
      "*[6]particle.values={'max_depth': 21, 'n_estimators': 3222, 'min_child_weight': 393, 'colsample_bytree': 0.6791583297775735, 'subsample': 0.2806484737982532, 'eta': 0.12118932021603863}\n",
      "n_estimators.dim_velocity = -269.09887760810534\n",
      "*[6]particle.values={'max_depth': 29, 'n_estimators': 4488, 'min_child_weight': 1360, 'colsample_bytree': 0.5640785650317455, 'subsample': 0.3047260133011635, 'eta': 0.3859930910761663}\n",
      "n_estimators.dim_velocity = -238.35938876968453\n",
      "*[6]particle.values={'max_depth': 38, 'n_estimators': 5376, 'min_child_weight': 1093, 'colsample_bytree': 0.5342584253327655, 'subsample': 0.3374414899666828, 'eta': 0.5304224581299462}\n",
      "n_estimators.dim_velocity = -198.4407794340868\n",
      "*[6]particle.values={'max_depth': 43, 'n_estimators': 2254, 'min_child_weight': 1834, 'colsample_bytree': 0.5171994778190036, 'subsample': 0.2762515792033552, 'eta': 0.6239667106488951}\n",
      "n_estimators.dim_velocity = 0.0\n",
      "*[7]particle.values={'max_depth': 41, 'n_estimators': 1834, 'min_child_weight': 214, 'colsample_bytree': 0.7415504997598329, 'subsample': 0.3204026684231286, 'eta': 0.1395379285251439}\n",
      "n_estimators.dim_velocity = -647.3039445685653\n",
      "*[7]particle.values={'max_depth': 28, 'n_estimators': 2574, 'min_child_weight': 344, 'colsample_bytree': 0.708739660526507, 'subsample': 0.2979503647821006, 'eta': 0.1301512355649019}\n",
      "n_estimators.dim_velocity = 454.0085122843692\n",
      "*[7]particle.values={'max_depth': 33, 'n_estimators': 4942, 'min_child_weight': 1345, 'colsample_bytree': 0.6085870364140431, 'subsample': 0.304542650476735, 'eta': 0.33476891776475715}\n",
      "n_estimators.dim_velocity = -422.34685520379367\n",
      "*[7]particle.values={'max_depth': 37, 'n_estimators': 4953, 'min_child_weight': 930, 'colsample_bytree': 0.5926920064796207, 'subsample': 0.3424072389362609, 'eta': 0.563288094523684}\n",
      "n_estimators.dim_velocity = -102.5483621152312\n",
      "*[7]particle.values={'max_depth': 45, 'n_estimators': 2151, 'min_child_weight': 2270, 'colsample_bytree': 0.5187397393491212, 'subsample': 0.27221634745227985, 'eta': 0.5829424201438094}\n",
      "n_estimators.dim_velocity = 0.0\n",
      "*[8]particle.values={'max_depth': 41, 'n_estimators': 1834, 'min_child_weight': 214, 'colsample_bytree': 0.7415504997598329, 'subsample': 0.3204026684231286, 'eta': 0.1395379285251439}\n",
      "n_estimators.dim_velocity = -222.86002430052184\n",
      "*[8]particle.values={'max_depth': 34, 'n_estimators': 2351, 'min_child_weight': 311, 'colsample_bytree': 0.7264754836184755, 'subsample': 0.30573710855892017, 'eta': 0.1361552799617231}\n",
      "n_estimators.dim_velocity = 398.1491375223087\n",
      "*[8]particle.values={'max_depth': 35, 'n_estimators': 5340, 'min_child_weight': 1474, 'colsample_bytree': 0.3974390879513131, 'subsample': 0.3023827472555253, 'eta': 0.4028959499755298}\n",
      "n_estimators.dim_velocity = -730.5526397913493\n",
      "*[8]particle.values={'max_depth': 37, 'n_estimators': 4222, 'min_child_weight': 1153, 'colsample_bytree': 0.597242416714143, 'subsample': 0.34387280600066944, 'eta': 0.5143778532939282}\n",
      "n_estimators.dim_velocity = 66.10792605883405\n",
      "*[8]particle.values={'max_depth': 45, 'n_estimators': 2217, 'min_child_weight': 2019, 'colsample_bytree': 0.5771344979567198, 'subsample': 0.2800636679762918, 'eta': 0.6702442262055057}\n",
      "n_estimators.dim_velocity = 0.0\n",
      "*[9]particle.values={'max_depth': 41, 'n_estimators': 1834, 'min_child_weight': 214, 'colsample_bytree': 0.7415504997598329, 'subsample': 0.3204026684231286, 'eta': 0.1395379285251439}\n",
      "n_estimators.dim_velocity = -265.18895711642466\n",
      "*[9]particle.values={'max_depth': 35, 'n_estimators': 2085, 'min_child_weight': 275, 'colsample_bytree': 0.7297809309393203, 'subsample': 0.3120999151949259, 'eta': 0.1373924773049824}\n",
      "n_estimators.dim_velocity = 188.7013130576447\n",
      "*[9]particle.values={'max_depth': 34, 'n_estimators': 5528, 'min_child_weight': 1471, 'colsample_bytree': 0.21975393194575787, 'subsample': 0.2982550771152227, 'eta': 0.3287145565202979}\n",
      "n_estimators.dim_velocity = -518.3269624487581\n",
      "*[9]particle.values={'max_depth': 36, 'n_estimators': 3703, 'min_child_weight': 1023, 'colsample_bytree': 0.6166319861757794, 'subsample': 0.3335880120553477, 'eta': 0.5918083393346986}\n",
      "n_estimators.dim_velocity = 134.32671294584364\n",
      "*[9]particle.values={'max_depth': 42, 'n_estimators': 2351, 'min_child_weight': 1976, 'colsample_bytree': 0.5862246082348364, 'subsample': 0.28308650951114334, 'eta': 0.5190471969238238}\n",
      "======[9]global_min_fitness=-0.693665\n",
      "n_estimators.dim_velocity = 79.76593081573147\n",
      "*[10]particle.values={'max_depth': 40, 'n_estimators': 1913, 'min_child_weight': 235, 'colsample_bytree': 0.7372322725944556, 'subsample': 0.31928145467888547, 'eta': 0.13896061666574527}\n",
      "n_estimators.dim_velocity = -102.63870340716078\n",
      "*[10]particle.values={'max_depth': 36, 'n_estimators': 1982, 'min_child_weight': 247, 'colsample_bytree': 0.7340572327184868, 'subsample': 0.31567741828644835, 'eta': 0.13806079053051604}\n",
      "n_estimators.dim_velocity = -75.7663124763913\n",
      "*[10]particle.values={'max_depth': 36, 'n_estimators': 5452, 'min_child_weight': 2644, 'colsample_bytree': 0.26282527063630234, 'subsample': 0.2944573403129019, 'eta': 0.45058201283213417}\n",
      "n_estimators.dim_velocity = 431.8883514978562\n",
      "*[10]particle.values={'max_depth': 36, 'n_estimators': 4134, 'min_child_weight': 1046, 'colsample_bytree': 0.5616824114190011, 'subsample': 0.3274136230394549, 'eta': 0.5258442829529726}\n",
      "n_estimators.dim_velocity = -64.767824415913\n",
      "*[10]particle.values={'max_depth': 42, 'n_estimators': 2286, 'min_child_weight': 1598, 'colsample_bytree': 0.574614371267213, 'subsample': 0.284875201021569, 'eta': 0.3980431410193217}\n",
      "======[10]global_min_fitness=-0.696783\n",
      "n_estimators.dim_velocity = 23.929779244719438\n",
      "*[11]particle.values={'max_depth': 39, 'n_estimators': 1936, 'min_child_weight': 241, 'colsample_bytree': 0.7359368044448423, 'subsample': 0.31894509055561254, 'eta': 0.1387874231079257}\n",
      "n_estimators.dim_velocity = -16.664577692809964\n",
      "*[11]particle.values={'max_depth': 36, 'n_estimators': 1965, 'min_child_weight': 246, 'colsample_bytree': 0.7350701186420315, 'subsample': 0.3158726091902944, 'eta': 0.13806945714303517}\n",
      "n_estimators.dim_velocity = -1604.2418235363377\n",
      "*[11]particle.values={'max_depth': 32, 'n_estimators': 3847, 'min_child_weight': 2556, 'colsample_bytree': 0.24592979613414598, 'subsample': 0.28909511058289433, 'eta': 0.414264799289871}\n",
      "n_estimators.dim_velocity = -547.7451687044766\n",
      "*[11]particle.values={'max_depth': 37, 'n_estimators': 3586, 'min_child_weight': 967, 'colsample_bytree': 0.5780359230658023, 'subsample': 0.3288581665117644, 'eta': 0.46217058808943345}\n",
      "n_estimators.dim_velocity = -45.613536159019674\n",
      "*[11]particle.values={'max_depth': 42, 'n_estimators': 2240, 'min_child_weight': 2231, 'colsample_bytree': 0.5996738980818307, 'subsample': 0.28484335305920905, 'eta': 0.3823820848448305}\n",
      "n_estimators.dim_velocity = 3.8294519495590134\n",
      "*[12]particle.values={'max_depth': 39, 'n_estimators': 1939, 'min_child_weight': 240, 'colsample_bytree': 0.7358422555611018, 'subsample': 0.31899956658286044, 'eta': 0.13878959305063202}\n",
      "n_estimators.dim_velocity = 19.255118010559485\n",
      "*[12]particle.values={'max_depth': 36, 'n_estimators': 1984, 'min_child_weight': 256, 'colsample_bytree': 0.735249191959256, 'subsample': 0.3165218832851437, 'eta': 0.13798330570273348}\n",
      "n_estimators.dim_velocity = 194.73304901709275\n",
      "*[12]particle.values={'max_depth': 31, 'n_estimators': 4041, 'min_child_weight': 2558, 'colsample_bytree': 0.24178925835295212, 'subsample': 0.28971591212851855, 'eta': 0.4202494682335206}\n",
      "n_estimators.dim_velocity = 22.312372414824154\n",
      "*[12]particle.values={'max_depth': 36, 'n_estimators': 3608, 'min_child_weight': 1128, 'colsample_bytree': 0.5687443211170846, 'subsample': 0.3345243975827148, 'eta': 0.4272033479806439}\n",
      "n_estimators.dim_velocity = 45.57109496675611\n",
      "*[12]particle.values={'max_depth': 40, 'n_estimators': 2285, 'min_child_weight': 2134, 'colsample_bytree': 0.6093845345773339, 'subsample': 0.27079647635397036, 'eta': 0.541836290797244}\n",
      "======[12]global_min_fitness=-0.702704\n",
      "n_estimators.dim_velocity = 11.382418528406617\n",
      "*[13]particle.values={'max_depth': 37, 'n_estimators': 1950, 'min_child_weight': 242, 'colsample_bytree': 0.7356940401384391, 'subsample': 0.31779178615372594, 'eta': 0.1385715008583534}\n",
      "n_estimators.dim_velocity = 5.776535403167846\n",
      "*[13]particle.values={'max_depth': 36, 'n_estimators': 1989, 'min_child_weight': 259, 'colsample_bytree': 0.7353029139544233, 'subsample': 0.31671666551359845, 'eta': 0.13795746027064298}\n",
      "n_estimators.dim_velocity = 404.1917286248887\n",
      "*[13]particle.values={'max_depth': 24, 'n_estimators': 4445, 'min_child_weight': 2580, 'colsample_bytree': 0.47536152754335725, 'subsample': 0.2912193852103457, 'eta': 0.31807835298313636}\n",
      "n_estimators.dim_velocity = 618.6341825113773\n",
      "*[13]particle.values={'max_depth': 35, 'n_estimators': 4226, 'min_child_weight': 1037, 'colsample_bytree': 0.5972985878537365, 'subsample': 0.3310554661681822, 'eta': 0.40188830413604926}\n",
      "n_estimators.dim_velocity = 86.56090074495704\n",
      "*[13]particle.values={'max_depth': 43, 'n_estimators': 2371, 'min_child_weight': 2253, 'colsample_bytree': 0.5196861503583479, 'subsample': 0.27545110677832507, 'eta': 0.698255285349636}\n",
      "n_estimators.dim_velocity = 12.278933512091259\n",
      "*[14]particle.values={'max_depth': 36, 'n_estimators': 1962, 'min_child_weight': 246, 'colsample_bytree': 0.7356365282531072, 'subsample': 0.3175432887766646, 'eta': 0.1382934343809744}\n",
      "n_estimators.dim_velocity = -0.030109081612152755\n",
      "*[14]particle.values={'max_depth': 36, 'n_estimators': 1988, 'min_child_weight': 259, 'colsample_bytree': 0.7352969844549702, 'subsample': 0.31672685957304, 'eta': 0.13795619760692104}\n",
      "n_estimators.dim_velocity = 314.5577794951206\n",
      "*[14]particle.values={'max_depth': 23, 'n_estimators': 4759, 'min_child_weight': 2283, 'colsample_bytree': 0.53864037204177, 'subsample': 0.29690318105474195, 'eta': 0.4177867474707664}\n",
      "n_estimators.dim_velocity = 352.3100526487158\n",
      "*[14]particle.values={'max_depth': 35, 'n_estimators': 4578, 'min_child_weight': 1193, 'colsample_bytree': 0.6321307094824815, 'subsample': 0.331455257395916, 'eta': 0.39366594733738786}\n",
      "n_estimators.dim_velocity = -0.07235955897957069\n",
      "*[14]particle.values={'max_depth': 42, 'n_estimators': 2370, 'min_child_weight': 2454, 'colsample_bytree': 0.5301350709288469, 'subsample': 0.2835738747401922, 'eta': 0.8492787375922297}\n",
      "n_estimators.dim_velocity = 3.6836800536273775\n",
      "*[15]particle.values={'max_depth': 35, 'n_estimators': 1965, 'min_child_weight': 247, 'colsample_bytree': 0.7356192746875077, 'subsample': 0.3174687395635462, 'eta': 0.1382100144377607}\n",
      "n_estimators.dim_velocity = -0.9313325511936409\n",
      "*[15]particle.values={'max_depth': 36, 'n_estimators': 1987, 'min_child_weight': 258, 'colsample_bytree': 0.7352759778936928, 'subsample': 0.3166604707088781, 'eta': 0.13796180603445304}\n",
      "n_estimators.dim_velocity = 496.63647120294667\n",
      "*[15]particle.values={'max_depth': 24, 'n_estimators': 5255, 'min_child_weight': 3115, 'colsample_bytree': 0.5066304271339779, 'subsample': 0.30212930334274346, 'eta': 0.37551553000915094}\n",
      "n_estimators.dim_velocity = 508.7135461315253\n",
      "*[15]particle.values={'max_depth': 35, 'n_estimators': 5086, 'min_child_weight': 1095, 'colsample_bytree': 0.5770016556971855, 'subsample': 0.3336362154736528, 'eta': 0.5696323930707687}\n",
      "n_estimators.dim_velocity = -77.01310963681931\n",
      "*[15]particle.values={'max_depth': 42, 'n_estimators': 2292, 'min_child_weight': 2086, 'colsample_bytree': 0.5324357148343988, 'subsample': 0.27811051029502004, 'eta': 0.7134634027801304}\n",
      "n_estimators.dim_velocity = 8.29170075536723\n",
      "*[16]particle.values={'max_depth': 35, 'n_estimators': 1973, 'min_child_weight': 248, 'colsample_bytree': 0.7355903986363721, 'subsample': 0.31723330775829794, 'eta': 0.13815962824761086}\n",
      "n_estimators.dim_velocity = -0.6648548922029858\n",
      "*[16]particle.values={'max_depth': 36, 'n_estimators': 1986, 'min_child_weight': 257, 'colsample_bytree': 0.7352596772803989, 'subsample': 0.3166325735131057, 'eta': 0.13796500167727802}\n",
      "n_estimators.dim_velocity = 54.560921699128585\n",
      "*[16]particle.values={'max_depth': 24, 'n_estimators': 5309, 'min_child_weight': 3576, 'colsample_bytree': 0.308817534138376, 'subsample': 0.300777438652272, 'eta': 0.37527830308156773}\n",
      "n_estimators.dim_velocity = 829.5298701945794\n",
      "*[16]particle.values={'max_depth': 35, 'n_estimators': 5915, 'min_child_weight': 1139, 'colsample_bytree': 0.5483872112680352, 'subsample': 0.3400670754962163, 'eta': 0.4540786414412432}\n",
      "n_estimators.dim_velocity = 23.49144418528561\n",
      "*[16]particle.values={'max_depth': 44, 'n_estimators': 2315, 'min_child_weight': 2353, 'colsample_bytree': 0.4956447610983909, 'subsample': 0.2621472114608142, 'eta': 0.5350746867711811}\n",
      "======[16]global_min_fitness=-0.703872\n",
      "n_estimators.dim_velocity = 5.007061678803746\n",
      "*[17]particle.values={'max_depth': 35, 'n_estimators': 1978, 'min_child_weight': 250, 'colsample_bytree': 0.7355031009781207, 'subsample': 0.3169401265229866, 'eta': 0.13811064372294993}\n",
      "n_estimators.dim_velocity = -0.19945646766089573\n",
      "*[17]particle.values={'max_depth': 36, 'n_estimators': 1985, 'min_child_weight': 256, 'colsample_bytree': 0.7352547870964107, 'subsample': 0.316624204354374, 'eta': 0.1379659603701255}\n",
      "n_estimators.dim_velocity = -19.94865203425104\n",
      "*[17]particle.values={'max_depth': 26, 'n_estimators': 5289, 'min_child_weight': 2423, 'colsample_bytree': 0.24194547943401723, 'subsample': 0.29475495505381777, 'eta': 0.4556850892840365}\n",
      "n_estimators.dim_velocity = 117.9378213346364\n",
      "*[17]particle.values={'max_depth': 35, 'n_estimators': 6032, 'min_child_weight': 1455, 'colsample_bytree': 0.510754051793506, 'subsample': 0.3397280624686812, 'eta': 0.3511556578717461}\n",
      "n_estimators.dim_velocity = 90.23634120704612\n",
      "*[17]particle.values={'max_depth': 44, 'n_estimators': 2405, 'min_child_weight': 2431, 'colsample_bytree': 0.5693977635339346, 'subsample': 0.2718253537313284, 'eta': 0.4276002456252995}\n",
      "======[17]global_min_fitness=-0.704643\n",
      "n_estimators.dim_velocity = 0.7803637357499249\n",
      "*[18]particle.values={'max_depth': 35, 'n_estimators': 1978, 'min_child_weight': 252, 'colsample_bytree': 0.7354700093430152, 'subsample': 0.31683803051116194, 'eta': 0.13806685716926917}\n",
      "n_estimators.dim_velocity = -0.05983694029826871\n",
      "*[18]particle.values={'max_depth': 36, 'n_estimators': 1984, 'min_child_weight': 255, 'colsample_bytree': 0.7352533200412142, 'subsample': 0.31662169360675446, 'eta': 0.13796624797797977}\n",
      "n_estimators.dim_velocity = -325.87924225917243\n",
      "*[18]particle.values={'max_depth': 23, 'n_estimators': 4963, 'min_child_weight': 1441, 'colsample_bytree': 0.29058517747696155, 'subsample': 0.2947542022263409, 'eta': 0.42895204249765645}\n",
      "n_estimators.dim_velocity = -613.6179225417567\n",
      "*[18]particle.values={'max_depth': 35, 'n_estimators': 5418, 'min_child_weight': 1310, 'colsample_bytree': 0.5210122233356904, 'subsample': 0.3297752541327477, 'eta': 0.2490086664234318}\n",
      "n_estimators.dim_velocity = -62.538972355018515\n",
      "*[18]particle.values={'max_depth': 44, 'n_estimators': 2342, 'min_child_weight': 2106, 'colsample_bytree': 0.5545174827497648, 'subsample': 0.2806995359669528, 'eta': 0.46289043661442464}\n",
      "n_estimators.dim_velocity = -5.711849608092787\n",
      "*[19]particle.values={'max_depth': 35, 'n_estimators': 1972, 'min_child_weight': 252, 'colsample_bytree': 0.73540664050403, 'subsample': 0.31687477116645885, 'eta': 0.1381310023691572}\n",
      "n_estimators.dim_velocity = -4.685271364483458\n",
      "*[19]particle.values={'max_depth': 35, 'n_estimators': 1979, 'min_child_weight': 254, 'colsample_bytree': 0.735302599464215, 'subsample': 0.31673853853340334, 'eta': 0.13798824657418182}\n",
      "n_estimators.dim_velocity = -92.13000936400107\n",
      "*[19]particle.values={'max_depth': 25, 'n_estimators': 4870, 'min_child_weight': 640, 'colsample_bytree': 0.31954750780381835, 'subsample': 0.300636206729402, 'eta': 0.31582620221128166}\n",
      "n_estimators.dim_velocity = -571.9805484543685\n",
      "*[19]particle.values={'max_depth': 35, 'n_estimators': 4846, 'min_child_weight': 1038, 'colsample_bytree': 0.5128193220139404, 'subsample': 0.32631585556013964, 'eta': 0.3726204648494823}\n",
      "n_estimators.dim_velocity = -31.818735003518725\n",
      "*[19]particle.values={'max_depth': 41, 'n_estimators': 2310, 'min_child_weight': 1495, 'colsample_bytree': 0.5767430899573074, 'subsample': 0.2898602964777252, 'eta': 0.48542549034454574}\n",
      "n_estimators.dim_velocity = -1.713554882427836\n",
      "*[20]particle.values={'max_depth': 35, 'n_estimators': 1970, 'min_child_weight': 252, 'colsample_bytree': 0.7353876298523345, 'subsample': 0.3168857933630479, 'eta': 0.13815024592912362}\n",
      "n_estimators.dim_velocity = -3.6548882805658502\n",
      "*[20]particle.values={'max_depth': 35, 'n_estimators': 1975, 'min_child_weight': 254, 'colsample_bytree': 0.7352985802826558, 'subsample': 0.31684034342098216, 'eta': 0.13803187587952187}\n",
      "n_estimators.dim_velocity = -194.64039317170776\n",
      "*[20]particle.values={'max_depth': 29, 'n_estimators': 4675, 'min_child_weight': 336, 'colsample_bytree': 0.4567568493687286, 'subsample': 0.3098737472122846, 'eta': 0.20686616702766808}\n",
      "n_estimators.dim_velocity = -207.05082457388812\n",
      "*[20]particle.values={'max_depth': 35, 'n_estimators': 4638, 'min_child_weight': 943, 'colsample_bytree': 0.5184786643215089, 'subsample': 0.3308804341003153, 'eta': 0.43013951220436547}\n",
      "n_estimators.dim_velocity = -19.11750673839387\n",
      "*[20]particle.values={'max_depth': 39, 'n_estimators': 2290, 'min_child_weight': 1454, 'colsample_bytree': 0.6078677688870879, 'subsample': 0.2824879545476807, 'eta': 0.39977817382499736}\n",
      "n_estimators.dim_velocity = 0.24581068487939772\n",
      "*[21]particle.values={'max_depth': 35, 'n_estimators': 1970, 'min_child_weight': 252, 'colsample_bytree': 0.735387965374359, 'subsample': 0.3168843370725467, 'eta': 0.1381545665182105}\n",
      "n_estimators.dim_velocity = 0.13647155272834566\n",
      "*[21]particle.values={'max_depth': 35, 'n_estimators': 1975, 'min_child_weight': 254, 'colsample_bytree': 0.7352900217153936, 'subsample': 0.31678269165888634, 'eta': 0.13806894917551293}\n",
      "n_estimators.dim_velocity = -808.1050101865684\n",
      "*[21]particle.values={'max_depth': 31, 'n_estimators': 3866, 'min_child_weight': 207, 'colsample_bytree': 0.6107396082918564, 'subsample': 0.31377205548897563, 'eta': 0.16899520345541533}\n",
      "n_estimators.dim_velocity = 489.0086307749404\n",
      "*[21]particle.values={'max_depth': 35, 'n_estimators': 5127, 'min_child_weight': 1051, 'colsample_bytree': 0.5410688810346513, 'subsample': 0.3334409304075581, 'eta': 0.5390046998807949}\n",
      "n_estimators.dim_velocity = 8.594878522780853\n",
      "*[21]particle.values={'max_depth': 39, 'n_estimators': 2298, 'min_child_weight': 1570, 'colsample_bytree': 0.5347926783323557, 'subsample': 0.28993223301439947, 'eta': 0.3586077938482169}\n",
      "n_estimators.dim_velocity = 0.9470228675243582\n",
      "*[22]particle.values={'max_depth': 35, 'n_estimators': 1970, 'min_child_weight': 252, 'colsample_bytree': 0.7353913325052508, 'subsample': 0.3168805593885321, 'eta': 0.13814885187484005}\n",
      "n_estimators.dim_velocity = 1.966289295599219\n",
      "*[22]particle.values={'max_depth': 35, 'n_estimators': 1976, 'min_child_weight': 253, 'colsample_bytree': 0.7353091588623336, 'subsample': 0.3167552952907437, 'eta': 0.13807272362717504}\n",
      "n_estimators.dim_velocity = -1140.8210206785313\n",
      "*[22]particle.values={'max_depth': 32, 'n_estimators': 2725, 'min_child_weight': 173, 'colsample_bytree': 0.6617438163723828, 'subsample': 0.31509874620111583, 'eta': 0.1447537144916002}\n",
      "n_estimators.dim_velocity = -477.9537251240158\n",
      "*[22]particle.values={'max_depth': 34, 'n_estimators': 4649, 'min_child_weight': 968, 'colsample_bytree': 0.5905552004826342, 'subsample': 0.33331688040771107, 'eta': 0.5127261013238608}\n",
      "n_estimators.dim_velocity = 136.25107603683284\n",
      "*[22]particle.values={'max_depth': 38, 'n_estimators': 2434, 'min_child_weight': 1353, 'colsample_bytree': 0.5030991045423523, 'subsample': 0.29460383508606913, 'eta': 0.39733808537773535}\n",
      "======[22]global_min_fitness=-0.71008\n",
      "n_estimators.dim_velocity = 175.5527385152623\n",
      "*[23]particle.values={'max_depth': 33, 'n_estimators': 2145, 'min_child_weight': 236, 'colsample_bytree': 0.6998147551204614, 'subsample': 0.31616321478330944, 'eta': 0.13897152074226107}\n",
      "n_estimators.dim_velocity = 41.505174682869004\n",
      "*[23]particle.values={'max_depth': 34, 'n_estimators': 2017, 'min_child_weight': 220, 'colsample_bytree': 0.7072376748265518, 'subsample': 0.31597935405869376, 'eta': 0.13952736534050558}\n",
      "n_estimators.dim_velocity = -342.2463062035594\n",
      "*[23]particle.values={'max_depth': 32, 'n_estimators': 2382, 'min_child_weight': 162, 'colsample_bytree': 0.6770450787965407, 'subsample': 0.3154967534147579, 'eta': 0.13748126780245568}\n",
      "n_estimators.dim_velocity = 584.6169218431103\n",
      "*[23]particle.values={'max_depth': 33, 'n_estimators': 5233, 'min_child_weight': 730, 'colsample_bytree': 0.5622096285147798, 'subsample': 0.33529897180205404, 'eta': 0.4909142120497887}\n",
      "n_estimators.dim_velocity = 74.37802383248791\n",
      "*[23]particle.values={'max_depth': 36, 'n_estimators': 2508, 'min_child_weight': 1780, 'colsample_bytree': 0.4963245837797683, 'subsample': 0.29908572042337084, 'eta': 0.5718072544884022}\n",
      "n_estimators.dim_velocity = 2.995483587138264\n",
      "*[24]particle.values={'max_depth': 32, 'n_estimators': 2147, 'min_child_weight': 226, 'colsample_bytree': 0.6868100517951141, 'subsample': 0.31608658385735566, 'eta': 0.13854821440100945}\n",
      "n_estimators.dim_velocity = 107.37453200961528\n",
      "*[24]particle.values={'max_depth': 32, 'n_estimators': 2124, 'min_child_weight': 190, 'colsample_bytree': 0.7006846924407503, 'subsample': 0.31574476749451186, 'eta': 0.13893836135189963}\n",
      "n_estimators.dim_velocity = -43.54026428354621\n",
      "*[24]particle.values={'max_depth': 32, 'n_estimators': 2338, 'min_child_weight': 162, 'colsample_bytree': 0.6760108130310688, 'subsample': 0.3156073326169689, 'eta': 0.13825763372366387}\n",
      "n_estimators.dim_velocity = -739.0525630772609\n",
      "*[24]particle.values={'max_depth': 32, 'n_estimators': 4493, 'min_child_weight': 640, 'colsample_bytree': 0.5797481959456352, 'subsample': 0.33546229053319604, 'eta': 0.4769814422212162}\n",
      "n_estimators.dim_velocity = 34.019475933463795\n",
      "*[24]particle.values={'max_depth': 40, 'n_estimators': 2542, 'min_child_weight': 1513, 'colsample_bytree': 0.5114507545157749, 'subsample': 0.28448746008096304, 'eta': 0.6611278114999415}\n",
      "n_estimators.dim_velocity = 21.297101611382217\n",
      "*[25]particle.values={'max_depth': 32, 'n_estimators': 2168, 'min_child_weight': 197, 'colsample_bytree': 0.69227909590242, 'subsample': 0.31630342767084807, 'eta': 0.13814846029609784}\n",
      "n_estimators.dim_velocity = 33.42540119073861\n",
      "*[25]particle.values={'max_depth': 31, 'n_estimators': 2157, 'min_child_weight': 190, 'colsample_bytree': 0.7063615968514112, 'subsample': 0.31591009375609763, 'eta': 0.13830664229461676}\n",
      "n_estimators.dim_velocity = 55.15814725962747\n",
      "*[25]particle.values={'max_depth': 32, 'n_estimators': 2393, 'min_child_weight': 163, 'colsample_bytree': 0.6689386590002852, 'subsample': 0.31547839126928046, 'eta': 0.14109253558008664}\n",
      "n_estimators.dim_velocity = -1042.093337153818\n",
      "*[25]particle.values={'max_depth': 31, 'n_estimators': 3450, 'min_child_weight': 597, 'colsample_bytree': 0.6013462692481566, 'subsample': 0.3298434062634333, 'eta': 0.35875690535358606}\n",
      "n_estimators.dim_velocity = -0.883324126195042\n",
      "*[25]particle.values={'max_depth': 44, 'n_estimators': 2541, 'min_child_weight': 1682, 'colsample_bytree': 0.48004153746782985, 'subsample': 0.2889802033516088, 'eta': 0.6611802146636481}\n",
      "n_estimators.dim_velocity = 31.08645805733595\n",
      "*[26]particle.values={'max_depth': 32, 'n_estimators': 2199, 'min_child_weight': 210, 'colsample_bytree': 0.7079501380766392, 'subsample': 0.31605170849466696, 'eta': 0.1393474775619262}\n",
      "n_estimators.dim_velocity = 51.15320781468132\n",
      "*[26]particle.values={'max_depth': 32, 'n_estimators': 2208, 'min_child_weight': 196, 'colsample_bytree': 0.6988579941687678, 'subsample': 0.3160941787778016, 'eta': 0.13928758981843867}\n",
      "n_estimators.dim_velocity = 89.77487078206491\n",
      "*[26]particle.values={'max_depth': 32, 'n_estimators': 2482, 'min_child_weight': 166, 'colsample_bytree': 0.6643669081999544, 'subsample': 0.3154481285555522, 'eta': 0.14291633442149435}\n",
      "n_estimators.dim_velocity = -796.4320024103887\n",
      "*[26]particle.values={'max_depth': 31, 'n_estimators': 2653, 'min_child_weight': 470, 'colsample_bytree': 0.6337693787545171, 'subsample': 0.3211589028461767, 'eta': 0.27472816826890645}\n",
      "n_estimators.dim_velocity = 13.591572730728682\n",
      "*[26]particle.values={'max_depth': 44, 'n_estimators': 2554, 'min_child_weight': 2167, 'colsample_bytree': 0.44295247692931466, 'subsample': 0.26872675260010553, 'eta': 0.6399226264989627}\n",
      "n_estimators.dim_velocity = -22.22099347349357\n",
      "*[27]particle.values={'max_depth': 32, 'n_estimators': 2176, 'min_child_weight': 214, 'colsample_bytree': 0.7188035467623051, 'subsample': 0.316071300220992, 'eta': 0.14017141829860683}\n",
      "n_estimators.dim_velocity = 125.54321663753271\n",
      "*[27]particle.values={'max_depth': 33, 'n_estimators': 2333, 'min_child_weight': 192, 'colsample_bytree': 0.6992853251417489, 'subsample': 0.3161906227317136, 'eta': 0.13908802586976926}\n",
      "n_estimators.dim_velocity = 97.01016585912103\n",
      "*[27]particle.values={'max_depth': 32, 'n_estimators': 2579, 'min_child_weight': 169, 'colsample_bytree': 0.6621573166727684, 'subsample': 0.3153294897221659, 'eta': 0.14434233905208546}\n",
      "n_estimators.dim_velocity = -241.6296026668144\n",
      "*[27]particle.values={'max_depth': 31, 'n_estimators': 2411, 'min_child_weight': 366, 'colsample_bytree': 0.6463922079278914, 'subsample': 0.31764246555927667, 'eta': 0.20165492522301381}\n",
      "n_estimators.dim_velocity = 13.351422674956964\n",
      "*[27]particle.values={'max_depth': 40, 'n_estimators': 2567, 'min_child_weight': 2360, 'colsample_bytree': 0.4371874779784935, 'subsample': 0.2613371241256151, 'eta': 0.584397555798189}\n",
      "n_estimators.dim_velocity = -62.74818129833384\n",
      "*[28]particle.values={'max_depth': 33, 'n_estimators': 2113, 'min_child_weight': 208, 'colsample_bytree': 0.7030416124395878, 'subsample': 0.3160864345371015, 'eta': 0.14055321084256447}\n",
      "n_estimators.dim_velocity = -156.61990093564873\n",
      "*[28]particle.values={'max_depth': 33, 'n_estimators': 2176, 'min_child_weight': 200, 'colsample_bytree': 0.7012519624195992, 'subsample': 0.31637675592281256, 'eta': 0.13915731765924141}\n",
      "n_estimators.dim_velocity = -75.98706064794473\n",
      "*[28]particle.values={'max_depth': 32, 'n_estimators': 2503, 'min_child_weight': 178, 'colsample_bytree': 0.6730694006037133, 'subsample': 0.31548081996018035, 'eta': 0.14382992059409333}\n",
      "n_estimators.dim_velocity = -41.19054335457672\n",
      "*[28]particle.values={'max_depth': 31, 'n_estimators': 2369, 'min_child_weight': 243, 'colsample_bytree': 0.6607818699394014, 'subsample': 0.3155726973544382, 'eta': 0.17397769084814926}\n",
      "n_estimators.dim_velocity = -8.247376959152263\n",
      "*[28]particle.values={'max_depth': 39, 'n_estimators': 2558, 'min_child_weight': 2101, 'colsample_bytree': 0.48108666355209057, 'subsample': 0.2624965953317987, 'eta': 0.6486736548006842}\n",
      "n_estimators.dim_velocity = 3.1353263376682463\n",
      "*[29]particle.values={'max_depth': 33, 'n_estimators': 2116, 'min_child_weight': 233, 'colsample_bytree': 0.7034476879707136, 'subsample': 0.31631789762300894, 'eta': 0.1562279899044396}\n",
      "n_estimators.dim_velocity = -49.858220238329324\n",
      "*[29]particle.values={'max_depth': 33, 'n_estimators': 2126, 'min_child_weight': 213, 'colsample_bytree': 0.7024414228007916, 'subsample': 0.31629639997533426, 'eta': 0.14890763169061308}\n",
      "n_estimators.dim_velocity = -10.3636411559662\n",
      "*[29]particle.values={'max_depth': 31, 'n_estimators': 2492, 'min_child_weight': 202, 'colsample_bytree': 0.67033869847292, 'subsample': 0.31550609489210485, 'eta': 0.14610374604717855}\n",
      "n_estimators.dim_velocity = 44.254875412305445\n",
      "*[29]particle.values={'max_depth': 31, 'n_estimators': 2413, 'min_child_weight': 191, 'colsample_bytree': 0.66575858386292, 'subsample': 0.3149409423433001, 'eta': 0.15835095997954193}\n",
      "n_estimators.dim_velocity = 16.785154719707748\n",
      "*[29]particle.values={'max_depth': 39, 'n_estimators': 2574, 'min_child_weight': 1533, 'colsample_bytree': 0.5043640785933706, 'subsample': 0.271192040601669, 'eta': 0.6356704721441979}\n",
      "n_estimators.dim_velocity = -13.157429013161803\n",
      "*[30]particle.values={'max_depth': 33, 'n_estimators': 2102, 'min_child_weight': 240, 'colsample_bytree': 0.7095864044462482, 'subsample': 0.31610546592153066, 'eta': 0.1523489278231077}\n",
      "n_estimators.dim_velocity = 137.6434721894165\n",
      "*[30]particle.values={'max_depth': 32, 'n_estimators': 2263, 'min_child_weight': 229, 'colsample_bytree': 0.7113371764453552, 'subsample': 0.3160372416890267, 'eta': 0.14931764202117484}\n",
      "n_estimators.dim_velocity = 20.43183049207963\n",
      "*[30]particle.values={'max_depth': 31, 'n_estimators': 2512, 'min_child_weight': 195, 'colsample_bytree': 0.6689295654026289, 'subsample': 0.31539415505396956, 'eta': 0.1463337451883022}\n",
      "n_estimators.dim_velocity = 13.276462623691634\n",
      "*[30]particle.values={'max_depth': 31, 'n_estimators': 2426, 'min_child_weight': 175, 'colsample_bytree': 0.6672515980399756, 'subsample': 0.3147514158399587, 'eta': 0.15366294071895972}\n",
      "n_estimators.dim_velocity = 5.848944450812855\n",
      "*[30]particle.values={'max_depth': 40, 'n_estimators': 2579, 'min_child_weight': 1372, 'colsample_bytree': 0.5507660232164163, 'subsample': 0.28118538992015774, 'eta': 0.5622672683821273}\n",
      "n_estimators.dim_velocity = 133.6073448258767\n",
      "*[31]particle.values={'max_depth': 32, 'n_estimators': 2235, 'min_child_weight': 235, 'colsample_bytree': 0.6979979090286502, 'subsample': 0.31578487070535344, 'eta': 0.14495856328629483}\n",
      "n_estimators.dim_velocity = -72.15133416021618\n",
      "*[31]particle.values={'max_depth': 32, 'n_estimators': 2190, 'min_child_weight': 232, 'colsample_bytree': 0.6992240137276076, 'subsample': 0.3159083677480527, 'eta': 0.14859102022637966}\n",
      "n_estimators.dim_velocity = 25.521698919560762\n",
      "*[31]particle.values={'max_depth': 31, 'n_estimators': 2537, 'min_child_weight': 177, 'colsample_bytree': 0.6658315109277236, 'subsample': 0.31505951226132217, 'eta': 0.14872465244635996}\n",
      "n_estimators.dim_velocity = 3.98293878710749\n",
      "*[31]particle.values={'max_depth': 31, 'n_estimators': 2429, 'min_child_weight': 170, 'colsample_bytree': 0.6676995022930923, 'subsample': 0.3146945578889563, 'eta': 0.15225653494078506}\n",
      "n_estimators.dim_velocity = 2.2412603789809094\n",
      "*[31]particle.values={'max_depth': 43, 'n_estimators': 2581, 'min_child_weight': 1318, 'colsample_bytree': 0.5557175904794764, 'subsample': 0.28897861971909605, 'eta': 0.6148784394993162}\n",
      "n_estimators.dim_velocity = 94.09320169693777\n",
      "*[32]particle.values={'max_depth': 31, 'n_estimators': 2329, 'min_child_weight': 231, 'colsample_bytree': 0.6853606310081888, 'subsample': 0.315867971155633, 'eta': 0.14175307815016994}\n",
      "n_estimators.dim_velocity = -26.833744233494606\n",
      "*[32]particle.values={'max_depth': 33, 'n_estimators': 2163, 'min_child_weight': 241, 'colsample_bytree': 0.6939682710457897, 'subsample': 0.3161200188011815, 'eta': 0.14516472149038384}\n",
      "n_estimators.dim_velocity = 45.905819389516424\n",
      "*[32]particle.values={'max_depth': 31, 'n_estimators': 2582, 'min_child_weight': 185, 'colsample_bytree': 0.6666701728702557, 'subsample': 0.31500732030464146, 'eta': 0.14560966172122045}\n",
      "n_estimators.dim_velocity = -2.3771551240618054\n",
      "*[32]particle.values={'max_depth': 31, 'n_estimators': 2426, 'min_child_weight': 194, 'colsample_bytree': 0.6711683440225836, 'subsample': 0.31513827986966436, 'eta': 0.15200343361671032}\n",
      "n_estimators.dim_velocity = -95.21433401531674\n",
      "*[32]particle.values={'max_depth': 44, 'n_estimators': 2485, 'min_child_weight': 868, 'colsample_bytree': 0.5802875271230831, 'subsample': 0.2827549802638446, 'eta': 0.6453291759891114}\n",
      "n_estimators.dim_velocity = 28.22796050908133\n",
      "*[33]particle.values={'max_depth': 30, 'n_estimators': 2357, 'min_child_weight': 229, 'colsample_bytree': 0.6815694476020504, 'subsample': 0.31589290129071684, 'eta': 0.14079143260933247}\n",
      "n_estimators.dim_velocity = -72.8294978106938\n",
      "*[33]particle.values={'max_depth': 34, 'n_estimators': 2090, 'min_child_weight': 243, 'colsample_bytree': 0.6985507324022429, 'subsample': 0.31632076485433985, 'eta': 0.14117324431731526}\n",
      "n_estimators.dim_velocity = 80.79658663801222\n",
      "*[33]particle.values={'max_depth': 31, 'n_estimators': 2662, 'min_child_weight': 186, 'colsample_bytree': 0.6658891071297393, 'subsample': 0.3150320618383459, 'eta': 0.14458696700702942}\n",
      "n_estimators.dim_velocity = -0.7131465372185416\n",
      "*[33]particle.values={'max_depth': 31, 'n_estimators': 2425, 'min_child_weight': 194, 'colsample_bytree': 0.6717500728276393, 'subsample': 0.3151043233827478, 'eta': 0.15234561258954363}\n",
      "n_estimators.dim_velocity = -24.17857168706945\n",
      "*[33]particle.values={'max_depth': 41, 'n_estimators': 2460, 'min_child_weight': 1500, 'colsample_bytree': 0.5579926736603499, 'subsample': 0.2703269017534744, 'eta': 0.6862995444948903}\n",
      "n_estimators.dim_velocity = 16.990067514079996\n",
      "*[34]particle.values={'max_depth': 30, 'n_estimators': 2373, 'min_child_weight': 220, 'colsample_bytree': 0.6776522629629856, 'subsample': 0.3155821779291419, 'eta': 0.14306133860424938}\n",
      "n_estimators.dim_velocity = 17.85870797083713\n",
      "*[34]particle.values={'max_depth': 33, 'n_estimators': 2107, 'min_child_weight': 242, 'colsample_bytree': 0.702113273268967, 'subsample': 0.3161777181764499, 'eta': 0.14153692505989518}\n",
      "n_estimators.dim_velocity = -148.81679072175928\n",
      "*[34]particle.values={'max_depth': 31, 'n_estimators': 2513, 'min_child_weight': 204, 'colsample_bytree': 0.6785868808327691, 'subsample': 0.3151996177309612, 'eta': 0.1434168563778337}\n",
      "n_estimators.dim_velocity = -114.99762888888867\n",
      "*[34]particle.values={'max_depth': 31, 'n_estimators': 2310, 'min_child_weight': 200, 'colsample_bytree': 0.6750238694239482, 'subsample': 0.3149334962508457, 'eta': 0.14786614189864075}\n",
      "n_estimators.dim_velocity = -10.560295803649034\n",
      "*[34]particle.values={'max_depth': 36, 'n_estimators': 2449, 'min_child_weight': 2157, 'colsample_bytree': 0.49145641227330106, 'subsample': 0.2635392953974095, 'eta': 0.6730215860680796}\n",
      "n_estimators.dim_velocity = -18.95797499220648\n",
      "*[35]particle.values={'max_depth': 31, 'n_estimators': 2354, 'min_child_weight': 227, 'colsample_bytree': 0.6908963099528316, 'subsample': 0.3156651894365327, 'eta': 0.14320568935878872}\n",
      "n_estimators.dim_velocity = -51.66264087682643\n",
      "*[35]particle.values={'max_depth': 33, 'n_estimators': 2055, 'min_child_weight': 244, 'colsample_bytree': 0.7086481529971987, 'subsample': 0.31632084663986937, 'eta': 0.1404772383163391}\n",
      "n_estimators.dim_velocity = 57.80483911200865\n",
      "*[35]particle.values={'max_depth': 31, 'n_estimators': 2570, 'min_child_weight': 201, 'colsample_bytree': 0.6757013010273345, 'subsample': 0.31521355493483766, 'eta': 0.1436787053833852}\n",
      "n_estimators.dim_velocity = 77.53314906263935\n",
      "*[35]particle.values={'max_depth': 31, 'n_estimators': 2387, 'min_child_weight': 190, 'colsample_bytree': 0.6731753677042916, 'subsample': 0.31483795013276844, 'eta': 0.1485528208924476}\n",
      "n_estimators.dim_velocity = 30.532015399910424\n",
      "*[35]particle.values={'max_depth': 37, 'n_estimators': 2479, 'min_child_weight': 2284, 'colsample_bytree': 0.4352130995942929, 'subsample': 0.25529545243694635, 'eta': 0.6722197248712329}\n",
      "n_estimators.dim_velocity = -4.730314049118848\n",
      "*[36]particle.values={'max_depth': 31, 'n_estimators': 2349, 'min_child_weight': 214, 'colsample_bytree': 0.6937199333108192, 'subsample': 0.31562580286221614, 'eta': 0.14504615594016987}\n",
      "n_estimators.dim_velocity = 38.84495235478826\n",
      "*[36]particle.values={'max_depth': 33, 'n_estimators': 2093, 'min_child_weight': 221, 'colsample_bytree': 0.7014808366994627, 'subsample': 0.3160076774844825, 'eta': 0.14214876799811169}\n",
      "n_estimators.dim_velocity = 55.041296366853615\n",
      "*[36]particle.values={'max_depth': 31, 'n_estimators': 2625, 'min_child_weight': 199, 'colsample_bytree': 0.6707992307353913, 'subsample': 0.31506644023712843, 'eta': 0.1444508199613474}\n",
      "n_estimators.dim_velocity = 27.382577308540473\n",
      "*[36]particle.values={'max_depth': 31, 'n_estimators': 2414, 'min_child_weight': 180, 'colsample_bytree': 0.6724829059934994, 'subsample': 0.3147692388838574, 'eta': 0.15019862605494302}\n",
      "n_estimators.dim_velocity = 122.2004910790892\n",
      "*[36]particle.values={'max_depth': 41, 'n_estimators': 2601, 'min_child_weight': 2026, 'colsample_bytree': 0.4084911993019085, 'subsample': 0.2587609949296513, 'eta': 0.6882217167458397}\n",
      "n_estimators.dim_velocity = 10.337995144512648\n",
      "*[37]particle.values={'max_depth': 31, 'n_estimators': 2359, 'min_child_weight': 213, 'colsample_bytree': 0.6813077932990665, 'subsample': 0.315498243260312, 'eta': 0.14411600191252205}\n",
      "n_estimators.dim_velocity = 195.99712873468445\n",
      "*[37]particle.values={'max_depth': 33, 'n_estimators': 2288, 'min_child_weight': 211, 'colsample_bytree': 0.7085661639593945, 'subsample': 0.31558049096947977, 'eta': 0.14252940490204452}\n",
      "n_estimators.dim_velocity = 47.44318342305048\n",
      "*[37]particle.values={'max_depth': 31, 'n_estimators': 2672, 'min_child_weight': 189, 'colsample_bytree': 0.6686303422821759, 'subsample': 0.3150325452173478, 'eta': 0.14473041438639495}\n",
      "n_estimators.dim_velocity = 45.174149354524374\n",
      "*[37]particle.values={'max_depth': 31, 'n_estimators': 2459, 'min_child_weight': 177, 'colsample_bytree': 0.6700325621337334, 'subsample': 0.3147484466773896, 'eta': 0.1510509552939335}\n",
      "n_estimators.dim_velocity = 51.64358330349796\n",
      "*[37]particle.values={'max_depth': 43, 'n_estimators': 2652, 'min_child_weight': 2151, 'colsample_bytree': 0.4874675210236546, 'subsample': 0.26668397974510194, 'eta': 0.6123682128734651}\n",
      "n_estimators.dim_velocity = 5.605848428535388\n",
      "*[38]particle.values={'max_depth': 31, 'n_estimators': 2364, 'min_child_weight': 211, 'colsample_bytree': 0.6780778233644456, 'subsample': 0.31544908733077176, 'eta': 0.14328092325668823}\n",
      "n_estimators.dim_velocity = 194.81755704384642\n",
      "*[38]particle.values={'max_depth': 33, 'n_estimators': 2482, 'min_child_weight': 208, 'colsample_bytree': 0.7148413493623704, 'subsample': 0.3154036011936678, 'eta': 0.14175457601285044}\n",
      "n_estimators.dim_velocity = 39.335846460342225\n",
      "*[38]particle.values={'max_depth': 31, 'n_estimators': 2711, 'min_child_weight': 183, 'colsample_bytree': 0.6646441000766969, 'subsample': 0.31504538015536215, 'eta': 0.1448210017378329}\n",
      "n_estimators.dim_velocity = 21.418680940767985\n",
      "*[38]particle.values={'max_depth': 31, 'n_estimators': 2480, 'min_child_weight': 177, 'colsample_bytree': 0.6667020801995174, 'subsample': 0.31488451516926863, 'eta': 0.14970298240958624}\n",
      "n_estimators.dim_velocity = 30.299282976302287\n",
      "*[38]particle.values={'max_depth': 43, 'n_estimators': 2682, 'min_child_weight': 2311, 'colsample_bytree': 0.5305136121411541, 'subsample': 0.28175047980506907, 'eta': 0.5284696380778764}\n",
      "n_estimators.dim_velocity = 62.83483166918599\n",
      "*[39]particle.values={'max_depth': 31, 'n_estimators': 2426, 'min_child_weight': 202, 'colsample_bytree': 0.6759760340774535, 'subsample': 0.31552737833492434, 'eta': 0.14275974453361326}\n",
      "n_estimators.dim_velocity = -151.05265984323756\n",
      "*[39]particle.values={'max_depth': 33, 'n_estimators': 2330, 'min_child_weight': 213, 'colsample_bytree': 0.6980619073602629, 'subsample': 0.3157887282007265, 'eta': 0.14058166852569942}\n",
      "n_estimators.dim_velocity = -59.15944174389061\n",
      "*[39]particle.values={'max_depth': 31, 'n_estimators': 2651, 'min_child_weight': 184, 'colsample_bytree': 0.6651398210514823, 'subsample': 0.31524580105376016, 'eta': 0.14431258129568184}\n",
      "n_estimators.dim_velocity = -7.628564954127509\n",
      "*[39]particle.values={'max_depth': 31, 'n_estimators': 2472, 'min_child_weight': 177, 'colsample_bytree': 0.6666183393125422, 'subsample': 0.31505093780869065, 'eta': 0.14803164849495173}\n",
      "n_estimators.dim_velocity = -51.588380874399455\n",
      "*[39]particle.values={'max_depth': 41, 'n_estimators': 2630, 'min_child_weight': 1679, 'colsample_bytree': 0.5942410902402347, 'subsample': 0.28415755879377536, 'eta': 0.348782861845798}\n",
      "n_estimators.dim_velocity = 18.850449500755797\n",
      "*[40]particle.values={'max_depth': 31, 'n_estimators': 2444, 'min_child_weight': 199, 'colsample_bytree': 0.675345497291356, 'subsample': 0.31555086563617013, 'eta': 0.14260339091669078}\n",
      "n_estimators.dim_velocity = -62.353741331189596\n",
      "*[40]particle.values={'max_depth': 32, 'n_estimators': 2267, 'min_child_weight': 205, 'colsample_bytree': 0.7070839558551113, 'subsample': 0.3156251030221247, 'eta': 0.14119957062698515}\n",
      "n_estimators.dim_velocity = -33.06077452393336\n",
      "*[40]particle.values={'max_depth': 31, 'n_estimators': 2617, 'min_child_weight': 178, 'colsample_bytree': 0.6646844828095438, 'subsample': 0.31519796514873866, 'eta': 0.1458093983740312}\n",
      "n_estimators.dim_velocity = -16.4217133476354\n",
      "*[40]particle.values={'max_depth': 31, 'n_estimators': 2455, 'min_child_weight': 177, 'colsample_bytree': 0.6666899093223443, 'subsample': 0.31499701486143444, 'eta': 0.14870786163385313}\n",
      "n_estimators.dim_velocity = -21.572582389907232\n",
      "*[40]particle.values={'max_depth': 41, 'n_estimators': 2608, 'min_child_weight': 1317, 'colsample_bytree': 0.560134074654012, 'subsample': 0.28665965032413016, 'eta': 0.42663730489973306}\n",
      "n_estimators.dim_velocity = 74.94250128482332\n",
      "*[41]particle.values={'max_depth': 31, 'n_estimators': 2518, 'min_child_weight': 194, 'colsample_bytree': 0.6716626040438268, 'subsample': 0.31540483169474814, 'eta': 0.14272721112114126}\n",
      "n_estimators.dim_velocity = -25.396758403806004\n",
      "*[41]particle.values={'max_depth': 31, 'n_estimators': 2241, 'min_child_weight': 215, 'colsample_bytree': 0.7030816321015719, 'subsample': 0.31589808663423324, 'eta': 0.14128913449224706}\n",
      "n_estimators.dim_velocity = -30.826937589402213\n",
      "*[41]particle.values={'max_depth': 31, 'n_estimators': 2586, 'min_child_weight': 182, 'colsample_bytree': 0.6671979474799955, 'subsample': 0.3152643904826272, 'eta': 0.1454030544906442}\n",
      "n_estimators.dim_velocity = 43.51484215691255\n",
      "*[41]particle.values={'max_depth': 31, 'n_estimators': 2498, 'min_child_weight': 179, 'colsample_bytree': 0.6669894009173883, 'subsample': 0.31495988233885996, 'eta': 0.1486049749680226}\n",
      "n_estimators.dim_velocity = -16.65235859686711\n",
      "*[41]particle.values={'max_depth': 42, 'n_estimators': 2591, 'min_child_weight': 1397, 'colsample_bytree': 0.5263504077927619, 'subsample': 0.2794021986125508, 'eta': 0.5965485723466214}\n",
      "n_estimators.dim_velocity = -29.64270467782864\n",
      "*[42]particle.values={'max_depth': 31, 'n_estimators': 2488, 'min_child_weight': 185, 'colsample_bytree': 0.6701054513436953, 'subsample': 0.31522893830506454, 'eta': 0.14531172454991487}\n",
      "n_estimators.dim_velocity = -19.622710212804435\n",
      "*[42]particle.values={'max_depth': 31, 'n_estimators': 2221, 'min_child_weight': 224, 'colsample_bytree': 0.7067391028116605, 'subsample': 0.3159791450536519, 'eta': 0.14203336715949935}\n",
      "n_estimators.dim_velocity = -35.791865561461876\n",
      "*[42]particle.values={'max_depth': 31, 'n_estimators': 2550, 'min_child_weight': 182, 'colsample_bytree': 0.6670630428113768, 'subsample': 0.3152072142096586, 'eta': 0.1450229045821136}\n",
      "n_estimators.dim_velocity = 8.102425626969653\n",
      "*[42]particle.values={'max_depth': 31, 'n_estimators': 2506, 'min_child_weight': 180, 'colsample_bytree': 0.66752540898311, 'subsample': 0.31490783915502846, 'eta': 0.14910346937590746}\n",
      "n_estimators.dim_velocity = 4.114598215210636\n",
      "*[42]particle.values={'max_depth': 42, 'n_estimators': 2595, 'min_child_weight': 1049, 'colsample_bytree': 0.48238111025713337, 'subsample': 0.26820384897022803, 'eta': 0.4314942269961513}\n",
      "n_estimators.dim_velocity = -8.892811403348592\n",
      "*[43]particle.values={'max_depth': 31, 'n_estimators': 2479, 'min_child_weight': 182, 'colsample_bytree': 0.6696383055336558, 'subsample': 0.3151761702881595, 'eta': 0.14608707857854694}\n",
      "n_estimators.dim_velocity = -58.21633935225089\n",
      "*[43]particle.values={'max_depth': 32, 'n_estimators': 2162, 'min_child_weight': 222, 'colsample_bytree': 0.699006877859252, 'subsample': 0.31595544942003867, 'eta': 0.14089257708605107}\n",
      "n_estimators.dim_velocity = 60.733850260670614\n",
      "*[43]particle.values={'max_depth': 31, 'n_estimators': 2610, 'min_child_weight': 181, 'colsample_bytree': 0.6669447074204038, 'subsample': 0.31517964246283464, 'eta': 0.14486324757071206}\n",
      "n_estimators.dim_velocity = 48.73776651345443\n",
      "*[43]particle.values={'max_depth': 31, 'n_estimators': 2554, 'min_child_weight': 180, 'colsample_bytree': 0.6674963172874973, 'subsample': 0.31495598500191513, 'eta': 0.15036394422107796}\n",
      "n_estimators.dim_velocity = 14.783977584590353\n",
      "*[43]particle.values={'max_depth': 39, 'n_estimators': 2609, 'min_child_weight': 739, 'colsample_bytree': 0.4627312308110897, 'subsample': 0.2586147459168178, 'eta': 0.3790398506945626}\n",
      "n_estimators.dim_velocity = 39.829539960478535\n",
      "*[44]particle.values={'max_depth': 31, 'n_estimators': 2518, 'min_child_weight': 182, 'colsample_bytree': 0.6688094666813131, 'subsample': 0.31516919745935956, 'eta': 0.14566453748155608}\n",
      "n_estimators.dim_velocity = 73.00136562252435\n",
      "*[44]particle.values={'max_depth': 32, 'n_estimators': 2235, 'min_child_weight': 227, 'colsample_bytree': 0.6967740509701532, 'subsample': 0.3157406297609807, 'eta': 0.14133455173397222}\n",
      "n_estimators.dim_velocity = 34.0930541416339\n",
      "*[44]particle.values={'max_depth': 31, 'n_estimators': 2644, 'min_child_weight': 178, 'colsample_bytree': 0.6651454783578148, 'subsample': 0.3151703431947203, 'eta': 0.14481694791826435}\n",
      "n_estimators.dim_velocity = -29.116021248649368\n",
      "*[44]particle.values={'max_depth': 31, 'n_estimators': 2524, 'min_child_weight': 179, 'colsample_bytree': 0.6674558365087513, 'subsample': 0.3149812209019218, 'eta': 0.15047157996541533}\n",
      "n_estimators.dim_velocity = -13.506078943328022\n",
      "*[44]particle.values={'max_depth': 40, 'n_estimators': 2595, 'min_child_weight': 1003, 'colsample_bytree': 0.4759049449732845, 'subsample': 0.27487701011011917, 'eta': 0.47555235038089816}\n",
      "n_estimators.dim_velocity = 5.431608159053274\n",
      "*[45]particle.values={'max_depth': 31, 'n_estimators': 2523, 'min_child_weight': 182, 'colsample_bytree': 0.6690414267315739, 'subsample': 0.3151706734238427, 'eta': 0.1454140260852683}\n",
      "n_estimators.dim_velocity = 27.81725659924716\n",
      "*[45]particle.values={'max_depth': 33, 'n_estimators': 2262, 'min_child_weight': 228, 'colsample_bytree': 0.707406543525216, 'subsample': 0.31584794985235876, 'eta': 0.14306398740084503}\n",
      "n_estimators.dim_velocity = 4.189581474402104\n",
      "*[45]particle.values={'max_depth': 31, 'n_estimators': 2648, 'min_child_weight': 177, 'colsample_bytree': 0.664966427151047, 'subsample': 0.31514732045364313, 'eta': 0.1448257132295479}\n",
      "n_estimators.dim_velocity = 11.620519755355993\n",
      "*[45]particle.values={'max_depth': 31, 'n_estimators': 2535, 'min_child_weight': 177, 'colsample_bytree': 0.6668315112762845, 'subsample': 0.31495725085906257, 'eta': 0.14956908097423796}\n",
      "n_estimators.dim_velocity = 18.171450304214407\n",
      "*[45]particle.values={'max_depth': 38, 'n_estimators': 2613, 'min_child_weight': 1307, 'colsample_bytree': 0.45664415186657115, 'subsample': 0.28590133989976824, 'eta': 0.476264843226055}\n",
      "n_estimators.dim_velocity = 44.084702795016554\n",
      "*[46]particle.values={'max_depth': 31, 'n_estimators': 2567, 'min_child_weight': 181, 'colsample_bytree': 0.6675398309006706, 'subsample': 0.3151741931244154, 'eta': 0.14527943632736243}\n",
      "n_estimators.dim_velocity = 11.636651202754024\n",
      "*[46]particle.values={'max_depth': 34, 'n_estimators': 2273, 'min_child_weight': 224, 'colsample_bytree': 0.7172073772525833, 'subsample': 0.31596322436103397, 'eta': 0.14296360442553122}\n",
      "n_estimators.dim_velocity = 14.59418680528777\n",
      "*[46]particle.values={'max_depth': 31, 'n_estimators': 2662, 'min_child_weight': 175, 'colsample_bytree': 0.6649103559952223, 'subsample': 0.3151197937156962, 'eta': 0.14482460072383085}\n",
      "n_estimators.dim_velocity = 63.528787955337286\n",
      "*[46]particle.values={'max_depth': 31, 'n_estimators': 2598, 'min_child_weight': 175, 'colsample_bytree': 0.6659758070150864, 'subsample': 0.31495352635125357, 'eta': 0.1477489182483852}\n",
      "n_estimators.dim_velocity = 26.341609044178355\n",
      "*[46]particle.values={'max_depth': 37, 'n_estimators': 2639, 'min_child_weight': 1158, 'colsample_bytree': 0.525958334681871, 'subsample': 0.28757934121412204, 'eta': 0.4195186202276468}\n",
      "n_estimators.dim_velocity = 13.580034839535577\n",
      "*[47]particle.values={'max_depth': 31, 'n_estimators': 2580, 'min_child_weight': 180, 'colsample_bytree': 0.6673211257310657, 'subsample': 0.3151750320730615, 'eta': 0.1451541352546413}\n",
      "n_estimators.dim_velocity = 33.55723006526743\n",
      "*[47]particle.values={'max_depth': 33, 'n_estimators': 2306, 'min_child_weight': 224, 'colsample_bytree': 0.7036305896718396, 'subsample': 0.3159770351238202, 'eta': 0.14361053895368495}\n",
      "n_estimators.dim_velocity = 12.197147909615865\n",
      "*[47]particle.values={'max_depth': 31, 'n_estimators': 2674, 'min_child_weight': 173, 'colsample_bytree': 0.6644816204196254, 'subsample': 0.31511120859390557, 'eta': 0.14480823955356117}\n",
      "n_estimators.dim_velocity = -44.76434891719127\n",
      "*[47]particle.values={'max_depth': 31, 'n_estimators': 2553, 'min_child_weight': 173, 'colsample_bytree': 0.6662482144903125, 'subsample': 0.31489852027017357, 'eta': 0.14811876061814178}\n",
      "n_estimators.dim_velocity = 2.5947562698839284\n",
      "*[47]particle.values={'max_depth': 39, 'n_estimators': 2641, 'min_child_weight': 743, 'colsample_bytree': 0.51449857197007, 'subsample': 0.2779371205900593, 'eta': 0.4857664608330844}\n",
      "n_estimators.dim_velocity = 16.29455113276876\n",
      "*[48]particle.values={'max_depth': 31, 'n_estimators': 2596, 'min_child_weight': 180, 'colsample_bytree': 0.6679613142937554, 'subsample': 0.31517509870816446, 'eta': 0.14498580972668448}\n",
      "n_estimators.dim_velocity = 24.918061942666164\n",
      "*[48]particle.values={'max_depth': 32, 'n_estimators': 2330, 'min_child_weight': 216, 'colsample_bytree': 0.6950452896900877, 'subsample': 0.31593923788615663, 'eta': 0.14162275789513973}\n",
      "n_estimators.dim_velocity = 23.927723602582446\n",
      "*[48]particle.values={'max_depth': 31, 'n_estimators': 2697, 'min_child_weight': 172, 'colsample_bytree': 0.6636076082203686, 'subsample': 0.3151029459876329, 'eta': 0.1447927429459501}\n",
      "n_estimators.dim_velocity = -70.3103683076663\n",
      "*[48]particle.values={'max_depth': 31, 'n_estimators': 2482, 'min_child_weight': 172, 'colsample_bytree': 0.6665955485590895, 'subsample': 0.31480849522893745, 'eta': 0.14850729472921612}\n",
      "n_estimators.dim_velocity = -4.994206615729753\n",
      "*[48]particle.values={'max_depth': 37, 'n_estimators': 2636, 'min_child_weight': 1915, 'colsample_bytree': 0.4967587886396656, 'subsample': 0.2838973719299459, 'eta': 0.6748562796285963}\n",
      "n_estimators.dim_velocity = 13.372521113944295\n",
      "*[49]particle.values={'max_depth': 31, 'n_estimators': 2609, 'min_child_weight': 177, 'colsample_bytree': 0.6679423302657371, 'subsample': 0.3151834866910336, 'eta': 0.1450112086214467}\n",
      "n_estimators.dim_velocity = -64.53395981848938\n",
      "*[49]particle.values={'max_depth': 32, 'n_estimators': 2265, 'min_child_weight': 214, 'colsample_bytree': 0.703044552390292, 'subsample': 0.3161661342949411, 'eta': 0.14200249057494993}\n",
      "n_estimators.dim_velocity = 10.744393004325273\n",
      "*[49]particle.values={'max_depth': 31, 'n_estimators': 2707, 'min_child_weight': 174, 'colsample_bytree': 0.6644584052588508, 'subsample': 0.3151373419304428, 'eta': 0.14488369257386188}\n",
      "n_estimators.dim_velocity = -20.877853824162404\n",
      "*[49]particle.values={'max_depth': 31, 'n_estimators': 2461, 'min_child_weight': 174, 'colsample_bytree': 0.6676063937899807, 'subsample': 0.3147956225672579, 'eta': 0.14990872924013998}\n",
      "n_estimators.dim_velocity = -10.676893764684358\n",
      "*[49]particle.values={'max_depth': 39, 'n_estimators': 2625, 'min_child_weight': 2136, 'colsample_bytree': 0.44845897511732535, 'subsample': 0.28450556801363497, 'eta': 0.7617748670160711}\n",
      "n_estimators.dim_velocity = 2.0526003870944987\n",
      "*[50]particle.values={'max_depth': 31, 'n_estimators': 2611, 'min_child_weight': 179, 'colsample_bytree': 0.6681755466434522, 'subsample': 0.3152072900719244, 'eta': 0.1451308220610114}\n",
      "n_estimators.dim_velocity = -127.95542324623418\n",
      "*[50]particle.values={'max_depth': 34, 'n_estimators': 2137, 'min_child_weight': 217, 'colsample_bytree': 0.7119372192450555, 'subsample': 0.31617531074927, 'eta': 0.14238103810000155}\n",
      "n_estimators.dim_velocity = -28.46730395306262\n",
      "*[50]particle.values={'max_depth': 31, 'n_estimators': 2678, 'min_child_weight': 176, 'colsample_bytree': 0.6647482510128758, 'subsample': 0.3151406709862744, 'eta': 0.14498658212132984}\n",
      "n_estimators.dim_velocity = -3.5816408857442026\n",
      "*[50]particle.values={'max_depth': 31, 'n_estimators': 2457, 'min_child_weight': 175, 'colsample_bytree': 0.6681239282658724, 'subsample': 0.31482513408254686, 'eta': 0.14928525534556394}\n",
      "n_estimators.dim_velocity = -53.10163382978128\n",
      "*[50]particle.values={'max_depth': 39, 'n_estimators': 2571, 'min_child_weight': 2139, 'colsample_bytree': 0.5358029348774425, 'subsample': 0.2944991993925312, 'eta': 0.7721928047065862}\n",
      "n_estimators.dim_velocity = -97.85875122035114\n",
      "*[51]particle.values={'max_depth': 31, 'n_estimators': 2513, 'min_child_weight': 181, 'colsample_bytree': 0.6685110369795683, 'subsample': 0.31510571571770407, 'eta': 0.14556171154606679}\n",
      "n_estimators.dim_velocity = 45.15085106627625\n",
      "*[51]particle.values={'max_depth': 34, 'n_estimators': 2182, 'min_child_weight': 225, 'colsample_bytree': 0.7111627059206095, 'subsample': 0.3161882457344488, 'eta': 0.14169641876427372}\n",
      "n_estimators.dim_velocity = -3.076374868737723\n",
      "*[51]particle.values={'max_depth': 31, 'n_estimators': 2674, 'min_child_weight': 175, 'colsample_bytree': 0.6641284926778481, 'subsample': 0.31509078538974983, 'eta': 0.14544957132982228}\n",
      "n_estimators.dim_velocity = -1.0744922657232607\n",
      "*[51]particle.values={'max_depth': 31, 'n_estimators': 2455, 'min_child_weight': 175, 'colsample_bytree': 0.6682791886086399, 'subsample': 0.31483398753713354, 'eta': 0.14909821317719113}\n",
      "n_estimators.dim_velocity = -20.06416628995556\n",
      "*[51]particle.values={'max_depth': 38, 'n_estimators': 2550, 'min_child_weight': 2259, 'colsample_bytree': 0.6140844681366442, 'subsample': 0.283113360784064, 'eta': 0.6092412663871588}\n",
      "n_estimators.dim_velocity = -52.81962271408486\n",
      "*[52]particle.values={'max_depth': 31, 'n_estimators': 2460, 'min_child_weight': 179, 'colsample_bytree': 0.6692929807529651, 'subsample': 0.3150254964485133, 'eta': 0.14633733428676549}\n",
      "n_estimators.dim_velocity = -33.41290623137205\n",
      "*[52]particle.values={'max_depth': 34, 'n_estimators': 2148, 'min_child_weight': 218, 'colsample_bytree': 0.7034160522560393, 'subsample': 0.3160579114477145, 'eta': 0.14267144776174423}\n",
      "n_estimators.dim_velocity = -42.255475425860816\n",
      "*[52]particle.values={'max_depth': 31, 'n_estimators': 2631, 'min_child_weight': 174, 'colsample_bytree': 0.6649860288788628, 'subsample': 0.31495818831127914, 'eta': 0.1462931750533501}\n",
      "n_estimators.dim_velocity = 0.2132858014289385\n",
      "*[52]particle.values={'max_depth': 31, 'n_estimators': 2455, 'min_child_weight': 175, 'colsample_bytree': 0.6682880706808236, 'subsample': 0.3148364777232034, 'eta': 0.1490555537843994}\n",
      "n_estimators.dim_velocity = 11.593814537420128\n",
      "*[52]particle.values={'max_depth': 41, 'n_estimators': 2561, 'min_child_weight': 1662, 'colsample_bytree': 0.5358021527472656, 'subsample': 0.2922257774628183, 'eta': 0.5485773324125021}\n",
      "n_estimators.dim_velocity = -16.643093413155075\n",
      "*[53]particle.values={'max_depth': 31, 'n_estimators': 2443, 'min_child_weight': 176, 'colsample_bytree': 0.6692926319639128, 'subsample': 0.31498944739345286, 'eta': 0.1464944026884824}\n",
      "n_estimators.dim_velocity = 46.171347835838134\n",
      "*[53]particle.values={'max_depth': 33, 'n_estimators': 2194, 'min_child_weight': 214, 'colsample_bytree': 0.7065026333550047, 'subsample': 0.3157973961418095, 'eta': 0.14536218705647716}\n",
      "n_estimators.dim_velocity = -76.91459473741152\n",
      "*[53]particle.values={'max_depth': 31, 'n_estimators': 2554, 'min_child_weight': 173, 'colsample_bytree': 0.6660190264338344, 'subsample': 0.3149512571367322, 'eta': 0.14661005361851354}\n",
      "n_estimators.dim_velocity = 0.09454893281067511\n",
      "*[53]particle.values={'max_depth': 31, 'n_estimators': 2455, 'min_child_weight': 175, 'colsample_bytree': 0.6682192938944431, 'subsample': 0.3148352410037042, 'eta': 0.14914548906183428}\n",
      "n_estimators.dim_velocity = 7.214153328210662\n",
      "*[53]particle.values={'max_depth': 43, 'n_estimators': 2568, 'min_child_weight': 1283, 'colsample_bytree': 0.4713748078150765, 'subsample': 0.2802816454217353, 'eta': 0.6100430152558427}\n"
     ]
    },
    {
     "data": {
      "text/plain": [
       "520.0286636352539"
      ]
     },
     "execution_count": 23,
     "metadata": {
      "tags": []
     },
     "output_type": "execute_result"
    }
   ],
   "source": [
    "ts = time.time()\n",
    "opt_class, fitness_class_res = pso.optimize(patterns, fitness_class)\n",
    "time.time() - ts"
   ]
  },
  {
   "cell_type": "code",
   "execution_count": 32,
   "metadata": {
    "colab": {
     "base_uri": "https://localhost:8080/",
     "height": 136
    },
    "colab_type": "code",
    "id": "czhZjuxuadkc",
    "outputId": "0275f5cf-92e1-400c-8742-7b34c721f866"
   },
   "outputs": [
    {
     "data": {
      "text/plain": [
       "({'colsample_bytree': 0.6617438163723828,\n",
       "  'eta': 0.1447537144916002,\n",
       "  'max_depth': 32,\n",
       "  'min_child_weight': 173,\n",
       "  'n_estimators': 2725,\n",
       "  'subsample': 0.31509874620111583},\n",
       " -0.71008)"
      ]
     },
     "execution_count": 32,
     "metadata": {
      "tags": []
     },
     "output_type": "execute_result"
    }
   ],
   "source": [
    "opt_class, fitness_class_res"
   ]
  },
  {
   "cell_type": "code",
   "execution_count": 33,
   "metadata": {
    "colab": {
     "base_uri": "https://localhost:8080/",
     "height": 1190
    },
    "colab_type": "code",
    "id": "nEKmgZyxcrzz",
    "outputId": "d850364f-6228-4797-8143-7e906539cb43"
   },
   "outputs": [
    {
     "name": "stderr",
     "output_type": "stream",
     "text": [
      "/usr/local/lib/python3.6/dist-packages/xgboost/core.py:587: FutureWarning: Series.base is deprecated and will be removed in a future version\n",
      "  if getattr(data, 'base', None) is not None and \\\n"
     ]
    },
    {
     "name": "stdout",
     "output_type": "stream",
     "text": [
      "[0]\tvalidation_0-auc:0.635531\tvalidation_1-auc:0.607003\n",
      "Multiple eval metrics have been passed: 'validation_1-auc' will be used for early stopping.\n",
      "\n",
      "Will train until validation_1-auc hasn't improved in 10 rounds.\n",
      "[1]\tvalidation_0-auc:0.670588\tvalidation_1-auc:0.639731\n",
      "[2]\tvalidation_0-auc:0.67723\tvalidation_1-auc:0.64372\n",
      "[3]\tvalidation_0-auc:0.689408\tvalidation_1-auc:0.663613\n",
      "[4]\tvalidation_0-auc:0.700835\tvalidation_1-auc:0.677352\n",
      "[5]\tvalidation_0-auc:0.705955\tvalidation_1-auc:0.674538\n",
      "[6]\tvalidation_0-auc:0.710546\tvalidation_1-auc:0.679287\n",
      "[7]\tvalidation_0-auc:0.715586\tvalidation_1-auc:0.682239\n",
      "[8]\tvalidation_0-auc:0.719137\tvalidation_1-auc:0.680012\n",
      "[9]\tvalidation_0-auc:0.722779\tvalidation_1-auc:0.678417\n",
      "[10]\tvalidation_0-auc:0.726301\tvalidation_1-auc:0.681185\n",
      "[11]\tvalidation_0-auc:0.730532\tvalidation_1-auc:0.687144\n",
      "[12]\tvalidation_0-auc:0.733153\tvalidation_1-auc:0.69302\n",
      "[13]\tvalidation_0-auc:0.736001\tvalidation_1-auc:0.69383\n",
      "[14]\tvalidation_0-auc:0.739027\tvalidation_1-auc:0.694521\n",
      "[15]\tvalidation_0-auc:0.741183\tvalidation_1-auc:0.699201\n",
      "[16]\tvalidation_0-auc:0.742924\tvalidation_1-auc:0.697817\n",
      "[17]\tvalidation_0-auc:0.744679\tvalidation_1-auc:0.698072\n",
      "[18]\tvalidation_0-auc:0.746305\tvalidation_1-auc:0.697995\n",
      "[19]\tvalidation_0-auc:0.748898\tvalidation_1-auc:0.700883\n",
      "[20]\tvalidation_0-auc:0.749842\tvalidation_1-auc:0.700652\n",
      "[21]\tvalidation_0-auc:0.751187\tvalidation_1-auc:0.70155\n",
      "[22]\tvalidation_0-auc:0.752452\tvalidation_1-auc:0.703879\n",
      "[23]\tvalidation_0-auc:0.753801\tvalidation_1-auc:0.703274\n",
      "[24]\tvalidation_0-auc:0.757059\tvalidation_1-auc:0.703599\n",
      "[25]\tvalidation_0-auc:0.757836\tvalidation_1-auc:0.705121\n",
      "[26]\tvalidation_0-auc:0.75917\tvalidation_1-auc:0.705061\n",
      "[27]\tvalidation_0-auc:0.761542\tvalidation_1-auc:0.704772\n",
      "[28]\tvalidation_0-auc:0.763329\tvalidation_1-auc:0.706237\n",
      "[29]\tvalidation_0-auc:0.765062\tvalidation_1-auc:0.706837\n",
      "[30]\tvalidation_0-auc:0.767156\tvalidation_1-auc:0.706064\n",
      "[31]\tvalidation_0-auc:0.76826\tvalidation_1-auc:0.706756\n",
      "[32]\tvalidation_0-auc:0.770888\tvalidation_1-auc:0.70811\n",
      "[33]\tvalidation_0-auc:0.772968\tvalidation_1-auc:0.709451\n",
      "[34]\tvalidation_0-auc:0.773634\tvalidation_1-auc:0.710685\n",
      "[35]\tvalidation_0-auc:0.774954\tvalidation_1-auc:0.711419\n",
      "[36]\tvalidation_0-auc:0.776383\tvalidation_1-auc:0.714851\n",
      "[37]\tvalidation_0-auc:0.777912\tvalidation_1-auc:0.713583\n",
      "[38]\tvalidation_0-auc:0.779122\tvalidation_1-auc:0.712662\n",
      "[39]\tvalidation_0-auc:0.780045\tvalidation_1-auc:0.713275\n",
      "[40]\tvalidation_0-auc:0.782276\tvalidation_1-auc:0.713304\n",
      "[41]\tvalidation_0-auc:0.783509\tvalidation_1-auc:0.714175\n",
      "[42]\tvalidation_0-auc:0.784939\tvalidation_1-auc:0.714338\n",
      "[43]\tvalidation_0-auc:0.785652\tvalidation_1-auc:0.715157\n",
      "[44]\tvalidation_0-auc:0.787457\tvalidation_1-auc:0.712959\n",
      "[45]\tvalidation_0-auc:0.788206\tvalidation_1-auc:0.712956\n",
      "[46]\tvalidation_0-auc:0.789864\tvalidation_1-auc:0.712923\n",
      "[47]\tvalidation_0-auc:0.790371\tvalidation_1-auc:0.714283\n",
      "[48]\tvalidation_0-auc:0.791498\tvalidation_1-auc:0.713776\n",
      "[49]\tvalidation_0-auc:0.792724\tvalidation_1-auc:0.713776\n",
      "[50]\tvalidation_0-auc:0.793485\tvalidation_1-auc:0.713779\n",
      "[51]\tvalidation_0-auc:0.793947\tvalidation_1-auc:0.713071\n",
      "[52]\tvalidation_0-auc:0.795385\tvalidation_1-auc:0.713041\n",
      "[53]\tvalidation_0-auc:0.796804\tvalidation_1-auc:0.713309\n",
      "Stopping. Best iteration:\n",
      "[43]\tvalidation_0-auc:0.785652\tvalidation_1-auc:0.715157\n",
      "\n"
     ]
    },
    {
     "data": {
      "text/plain": [
       "XGBRegressor(base_score=0.5, booster='gbtree', colsample_bylevel=1,\n",
       "       colsample_bytree=0.6617438163723828, eta=0.1447537144916002,\n",
       "       gamma=0, importance_type='gain', learning_rate=0.1,\n",
       "       max_delta_step=0, max_depth=32, min_child_weight=173, missing=None,\n",
       "       n_estimators=2725, n_jobs=1, nthread=None, objective='reg:linear',\n",
       "       random_state=0, reg_alpha=0, reg_lambda=1, scale_pos_weight=1,\n",
       "       seed=None, silent=True, subsample=0.31509874620111583)"
      ]
     },
     "execution_count": 33,
     "metadata": {
      "tags": []
     },
     "output_type": "execute_result"
    }
   ],
   "source": [
    "# params_pso_class = {'colsample_bytree': 0.6617438163723828,\n",
    "#   'eta': 0.1447537144916002,\n",
    "#   'max_depth': 32,\n",
    "#   'min_child_weight': 173,\n",
    "#   'n_estimators': 2725,\n",
    "#   'subsample': 0.31509874620111583,\n",
    "#   'seed': 42}\n",
    "model_pso_class_opt = XGBRegressor(**opt_class)\n",
    "model_pso_class_opt.fit(\n",
    "        X_train, \n",
    "        Y_train_classify, \n",
    "        eval_set=[(X_train, Y_train_classify), (X_valid, Y_valid_classify)],   \n",
    "        verbose=True,\n",
    "        eval_metric='auc',\n",
    "        early_stopping_rounds = 10)"
   ]
  },
  {
   "cell_type": "code",
   "execution_count": 34,
   "metadata": {
    "colab": {
     "base_uri": "https://localhost:8080/",
     "height": 530
    },
    "colab_type": "code",
    "id": "huSLZOvuhDrN",
    "outputId": "d2e7a417-331c-4ced-8e91-56e33255bc00"
   },
   "outputs": [
    {
     "data": {
      "text/plain": [
       "<matplotlib.axes._subplots.AxesSubplot at 0x7f9035147828>"
      ]
     },
     "execution_count": 34,
     "metadata": {
      "tags": []
     },
     "output_type": "execute_result"
    },
    {
     "data": {
      "image/png": "[encoded data removed]",
      "text/plain": [
       "<Figure size 576x576 with 1 Axes>"
      ]
     },
     "metadata": {
      "tags": []
     },
     "output_type": "display_data"
    }
   ],
   "source": [
    "fig, ax = plt.subplots(1, 1, figsize=(8,8))\n",
    "plot_importance(booster=model_pso_class_opt, ax=ax, max_num_features=20, title='Feature importance (classification)')"
   ]
  },
  {
   "cell_type": "code",
   "execution_count": 0,
   "metadata": {
    "colab": {
     "base_uri": "https://localhost:8080/",
     "height": 119
    },
    "colab_type": "code",
    "id": "o0541PCcadkj",
    "outputId": "d1c46e98-8bec-4470-9b54-e79d6e930259"
   },
   "outputs": [
    {
     "name": "stderr",
     "output_type": "stream",
     "text": [
      "/usr/local/lib/python3.6/dist-packages/xgboost/core.py:587: FutureWarning: Series.base is deprecated and will be removed in a future version\n",
      "  if getattr(data, 'base', None) is not None and \\\n",
      "/usr/local/lib/python3.6/dist-packages/xgboost/core.py:588: FutureWarning: Series.base is deprecated and will be removed in a future version\n",
      "  data.base is not None and isinstance(data, np.ndarray) \\\n"
     ]
    },
    {
     "name": "stdout",
     "output_type": "stream",
     "text": [
      "n_estimators.dim_velocity = 0.0\n",
      "*[1]particle.values={'max_depth': 41, 'n_estimators': 1834, 'min_child_weight': 214, 'colsample_bytree': 0.7415504997598329, 'subsample': 0.3204026684231286, 'eta': 0.1395379285251439}\n"
     ]
    }
   ],
   "source": [
    "random.seed(42)\n",
    "ts = time.time()\n",
    "opt_regr, fitness_regr_res = pso.optimize(patterns, fitness_regr)\n",
    "time.time() - ts"
   ]
  },
  {
   "cell_type": "code",
   "execution_count": 0,
   "metadata": {
    "colab": {},
    "colab_type": "code",
    "collapsed": true,
    "id": "MkuZhwApadkt"
   },
   "outputs": [],
   "source": [
    "opt_regr, fitness_regr_res"
   ]
  },
  {
   "cell_type": "code",
   "execution_count": 0,
   "metadata": {
    "colab": {},
    "colab_type": "code",
    "collapsed": true,
    "id": "ebRcw_Iycrz7"
   },
   "outputs": [],
   "source": [
    "# params_pso_regr = {'colsample_bytree': 0.6160255388578953,\n",
    "#   'eta': 0.2695933770248609,\n",
    "#   'max_depth': 13,\n",
    "#   'min_child_weight': 229,\n",
    "#   'n_estimators': 4946,\n",
    "#   'subsample': 0.8236539165798413,\n",
    "#   'seed': 42}\n",
    "model_pso_regr_opt = XGBRegressor(**opt_regr)\n",
    "model_pso_regr_opt.fit(\n",
    "        X_train, \n",
    "        Y_train_regr, \n",
    "        eval_set=[(X_train, Y_train_regr), (X_valid, Y_valid_regr)],   \n",
    "        verbose=False,\n",
    "        eval_metric='mae',\n",
    "        early_stopping_rounds = 10)"
   ]
  },
  {
   "cell_type": "code",
   "execution_count": 0,
   "metadata": {
    "colab": {},
    "colab_type": "code",
    "collapsed": true,
    "id": "ZPi2TnZvhF6W"
   },
   "outputs": [],
   "source": [
    "fig, ax = plt.subplots(1, 1, figsize=(8,8))\n",
    "plot_importance(booster=model_pso_regr_opt, ax=ax, max_num_features=20, title='Feature importance (regression)')"
   ]
  },
  {
   "cell_type": "code",
   "execution_count": 0,
   "metadata": {
    "colab": {},
    "colab_type": "code",
    "collapsed": true,
    "id": "rQDi8o9Eadk_",
    "scrolled": true
   },
   "outputs": [],
   "source": [
    "random.seed(42)\n",
    "param_dist = {\"max_depth\": sp.stats.randint(1, 50),\n",
    "              \"n_estimators\": sp.stats.randint(10, 10000),\n",
    "              \"min_child_weight\": sp.stats.randint(10, 10000),\n",
    "              \"subsample\": sp.stats.uniform(0, 1),\n",
    "              \"colsample_bytree\": sp.stats.uniform(0, 1),\n",
    "              \"eta\":sp.stats.uniform(0, 1)}\n",
    "search_classif=RandomizedSearchCV(XGBClassifier(), param_distributions=param_dist, scoring=\"roc_auc\", n_jobs=4, verbose=10)\n",
    "search_classif.fit(X_train, Y_train_classify)"
   ]
  },
  {
   "cell_type": "code",
   "execution_count": 0,
   "metadata": {
    "colab": {},
    "colab_type": "code",
    "collapsed": true,
    "id": "TJXnm2EzadlL"
   },
   "outputs": [],
   "source": [
    "search_classif.best_estimator_"
   ]
  },
  {
   "cell_type": "code",
   "execution_count": 0,
   "metadata": {
    "colab": {},
    "colab_type": "code",
    "collapsed": true,
    "id": "cR7F8mTEhKi6"
   },
   "outputs": [],
   "source": [
    "search_classif.best_score_"
   ]
  },
  {
   "cell_type": "code",
   "execution_count": 0,
   "metadata": {
    "colab": {},
    "colab_type": "code",
    "collapsed": true,
    "id": "NlVnppxQadlZ"
   },
   "outputs": [],
   "source": [
    "ts = time.time()\n",
    "model_class = XGBClassifier()\n",
    "model_class.set_params(**search_classif.best_estimator_.get_params())\n",
    "\n",
    "model_class.fit(\n",
    "        X_train, \n",
    "        Y_train_classify, \n",
    "        eval_set=[(X_train, Y_train_classify), (X_valid, Y_valid_classify)], \n",
    "        verbose=True,         \n",
    "        eval_metric='auc',\n",
    "        early_stopping_rounds = 10)\n",
    "    \n",
    "time.time() - ts"
   ]
  },
  {
   "cell_type": "code",
   "execution_count": 0,
   "metadata": {
    "colab": {},
    "colab_type": "code",
    "collapsed": true,
    "id": "hD6ldEw5adln"
   },
   "outputs": [],
   "source": [
    "random.seed(42)\n",
    "param_dist = {\"max_depth\": sp.stats.randint(1, 50),\n",
    "              \"n_estimators\": sp.stats.randint(10, 10000),\n",
    "              \"min_child_weight\": sp.stats.randint(10, 10000),\n",
    "              \"subsample\": sp.stats.uniform(0, 1),\n",
    "              \"colsample_bytree\": sp.stats.uniform(0, 1),\n",
    "              \"eta\":sp.stats.uniform(0, 1)}\n",
    "search_regr=RandomizedSearchCV(XGBRegressor(), param_distributions=param_dist, scoring=\"neg_mean_absolute_error\", n_jobs=4, verbose=10)\n",
    "search_regr.fit(X_train, Y_train_regr)"
   ]
  },
  {
   "cell_type": "code",
   "execution_count": 0,
   "metadata": {
    "colab": {},
    "colab_type": "code",
    "collapsed": true,
    "id": "FZo1j7uohNFB"
   },
   "outputs": [],
   "source": [
    "search_regr.best_estimator_"
   ]
  },
  {
   "cell_type": "code",
   "execution_count": 0,
   "metadata": {
    "colab": {},
    "colab_type": "code",
    "collapsed": true,
    "id": "0jqbuX-nuLZP"
   },
   "outputs": [],
   "source": [
    "search_regr.best_score_"
   ]
  },
  {
   "cell_type": "code",
   "execution_count": 0,
   "metadata": {
    "colab": {},
    "colab_type": "code",
    "collapsed": true,
    "id": "Z5OC-lsSadlv",
    "scrolled": false
   },
   "outputs": [],
   "source": [
    "ts = time.time()\n",
    "model_regr = XGBRegressor()\n",
    "model_regr.set_params(**search_regr.best_estimator_.get_params())\n",
    "\n",
    "model_regr.fit(\n",
    "        X_train, \n",
    "        Y_train_regr, \n",
    "        eval_set=[(X_train, Y_train_regr), (X_valid, Y_valid_regr)], \n",
    "        verbose=True,         \n",
    "        eval_metric='mae',\n",
    "        early_stopping_rounds = 10)\n",
    "print(model_regr.best_score)\n",
    "    \n",
    "time.time() - ts"
   ]
  }
 ],
 "metadata": {
  "colab": {
   "collapsed_sections": [],
   "name": "Traiding_multiple_stocks_with_pso.ipynb",
   "provenance": [],
   "toc_visible": true,
   "version": "0.3.2"
  },
  "kernelspec": {
   "display_name": "Python 3",
   "language": "python",
   "name": "python3"
  },
  "language_info": {
   "codemirror_mode": {
    "name": "ipython",
    "version": 3
   },
   "file_extension": ".py",
   "mimetype": "text/x-python",
   "name": "python",
   "nbconvert_exporter": "python",
   "pygments_lexer": "ipython3",
   "version": "3.6.1"
  }
 },
 "nbformat": 4,
 "nbformat_minor": 1
}
