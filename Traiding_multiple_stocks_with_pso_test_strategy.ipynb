{
 "cells": [
  {
   "cell_type": "code",
   "execution_count": 1,
   "metadata": {
    "colab": {},
    "colab_type": "code",
    "id": "wuyWT2Xladgj"
   },
   "outputs": [],
   "source": [
    "import datetime as dtm\n",
    "import requests\n",
    "import pandas as pd\n",
    "import time\n",
    "import os\n",
    "import numpy as np\n",
    "import scipy as sp\n",
    "import pickle\n",
    "from xgboost import XGBRegressor, XGBClassifier\n",
    "from xgboost import plot_importance\n",
    "import matplotlib.pyplot as plt\n",
    "import src.data_retriever as intrinio\n",
    "import src.pso as pso\n",
    "import src.trading_bot as bot\n",
    "import random\n",
    "from sklearn.model_selection import GridSearchCV, RandomizedSearchCV\n",
    "from sklearn.preprocessing import MinMaxScaler, LabelEncoder\n",
    "%matplotlib inline"
   ]
  },
  {
   "cell_type": "code",
   "execution_count": 2,
   "metadata": {
    "colab": {},
    "colab_type": "code",
    "collapsed": true,
    "id": "77i2DtOsadg4"
   },
   "outputs": [],
   "source": [
    "random.seed(42)\n",
    "datefrom = dtm.datetime(2010, 1, 1)\n",
    "dateto = dtm.datetime(2019, 3, 1)"
   ]
  },
  {
   "cell_type": "code",
   "execution_count": 3,
   "metadata": {
    "colab": {},
    "colab_type": "code",
    "collapsed": true,
    "id": "B0-dz9GOadhI"
   },
   "outputs": [],
   "source": [
    "#DOW 30\n",
    "# stock_names = ['AAPL', 'CSCO', 'WMT', 'MCD', 'GS', 'AXP', 'BA', 'KO', 'V', 'WMT', 'UNH']\n",
    "stock_names = ['MMM', 'AXP', 'AAPL', 'BA', 'CAT', 'CVX', 'CSCO', 'KO', 'XOM', 'GS',\n",
    "               'HD', 'IBM', 'INTC', 'JNJ', 'JPM', 'MCD', 'MRK', 'MSFT', 'NKE', 'PFE', 'PG',\n",
    "               'TRV', 'UNH', 'UTX', 'VZ', 'V', 'WMT', 'DIS']\n",
    "# stock_names = ['AAPL']"
   ]
  },
  {
   "cell_type": "code",
   "execution_count": 4,
   "metadata": {},
   "outputs": [],
   "source": [
    "stocks_filename = 'stocks_dow30_full.csv'\n",
    "if os.path.isfile(stocks_filename):\n",
    "    stocks = pd.read_csv(stocks_filename)\n",
    "    stocks['date'] = pd.to_datetime(stocks['date'], format=\"%Y-%m-%d\")\n",
    "else:\n",
    "    stocks = intrinio.get_stocks_data(stock_names, datefrom, dateto)\n",
    "    stocks.to_csv(stocks_filename, index_label='id', columns=stocks.columns)"
   ]
  },
  {
   "cell_type": "markdown",
   "metadata": {
    "colab_type": "text",
    "id": "lwmRx8dSadiS"
   },
   "source": [
    "### Подготовка к тестированию"
   ]
  },
  {
   "cell_type": "code",
   "execution_count": 5,
   "metadata": {
    "colab": {},
    "colab_type": "code",
    "collapsed": true,
    "id": "LVrkhzN1adiW"
   },
   "outputs": [],
   "source": [
    "train_datefrom = datefrom\n",
    "train_dateto = dtm.datetime(2017, 1, 1)\n",
    "\n",
    "valid_datefrom = train_dateto\n",
    "valid_dateto = dtm.datetime(2018, 1, 1)\n",
    "\n",
    "test_datefrom = dtm.datetime(2018, 1, 1)\n",
    "test_dateto = dtm.datetime(2019, 1, 1)"
   ]
  },
  {
   "cell_type": "code",
   "execution_count": 6,
   "metadata": {
    "colab": {},
    "colab_type": "code",
    "id": "ZwPmGqH4adin"
   },
   "outputs": [],
   "source": [
    "data = stocks.drop(0).reset_index(drop=True)\n",
    "data['date'] = data['date'].map(lambda x: x.timestamp())\n",
    "#data.drop('date', axis=1)\n",
    "test_data = data[data['stock_name'] == 'PFE']\n",
    "#data = data[data['stock_name'] != 'KO']\n",
    "data = data.drop('stock_name', axis=1)\n",
    "test_data = test_data.drop('stock_name', axis=1)\n",
    "test_data = test_data[test_data['date'] > test_datefrom.timestamp()]"
   ]
  },
  {
   "cell_type": "code",
   "execution_count": 7,
   "metadata": {
    "colab": {
     "base_uri": "https://localhost:8080/",
     "height": 139
    },
    "colab_type": "code",
    "id": "DcL7Q_-Fadi2",
    "outputId": "c68a9e1c-1284-4638-fa7c-284f718f541f"
   },
   "outputs": [],
   "source": [
    "#to_normalize = ['volume_prev1', 'ebitda']\n",
    "#data['date_norm'] = MinMaxScaler().fit_transform(data['date'].as_matrix().reshape(-1, 1))\n",
    "#data['volume_prev1'] = MinMaxScaler().fit_transform(data['volume_prev1'].as_matrix().reshape(-1, 1))\n",
    "#data['ebitda'] = MinMaxScaler().fit_transform(data['ebitda'].as_matrix().reshape(-1, 1))\n",
    "\n",
    "#lbl_encoder=LabelEncoder()\n",
    "#data['stock_name'] = lbl_encoder.fit_transform(data['stock_name'].as_matrix().reshape(-1, 1))\n",
    "#test_data['stock_name'] = lbl_encoder.transform(test_data['stock_name'].as_matrix().reshape(-1, 1))\n",
    "# test_data = data[data['stock_name'] == 0]\n",
    "# data = data[data['stock_name'] != 0]"
   ]
  },
  {
   "cell_type": "code",
   "execution_count": 8,
   "metadata": {},
   "outputs": [],
   "source": [
    "#lbl_encoder.classes_"
   ]
  },
  {
   "cell_type": "code",
   "execution_count": 9,
   "metadata": {},
   "outputs": [],
   "source": [
    "#lbl_encoder.inverse_transform(np.array([1]))"
   ]
  },
  {
   "cell_type": "code",
   "execution_count": 10,
   "metadata": {},
   "outputs": [
    {
     "name": "stdout",
     "output_type": "stream",
     "text": [
      "49336\n"
     ]
    }
   ],
   "source": [
    "train_data = data[data['date'] <= train_dateto.timestamp()]\n",
    "X_train = train_data.drop(['date','close','adj_close', 'volume'],axis=1)\n",
    "print(len(X_train))\n",
    "Y_train_regr = train_data['close']\n",
    "Y_train_classify = train_data['close'] > train_data['open']"
   ]
  },
  {
   "cell_type": "code",
   "execution_count": 11,
   "metadata": {
    "colab": {
     "base_uri": "https://localhost:8080/",
     "height": 34
    },
    "colab_type": "code",
    "id": "N2umHbBuadjT",
    "outputId": "833fb4a4-558e-4f73-d7a6-26c8f67a461b"
   },
   "outputs": [
    {
     "name": "stdout",
     "output_type": "stream",
     "text": [
      "7028\n"
     ]
    }
   ],
   "source": [
    "valid_data = data[data['date'] > valid_datefrom.timestamp()]\n",
    "valid_data = valid_data[valid_data['date'] < valid_dateto.timestamp()]\n",
    "# valid_data = valid_data.query('(stock_name == 0)')\n",
    "X_valid = valid_data.drop(['date','close','adj_close', 'volume'],axis=1)\n",
    "print(len(X_valid))\n",
    "Y_valid_regr = valid_data['close']\n",
    "Y_valid_classify = valid_data['close'] > valid_data['open']"
   ]
  },
  {
   "cell_type": "code",
   "execution_count": 12,
   "metadata": {},
   "outputs": [
    {
     "data": {
      "text/plain": [
       "251"
      ]
     },
     "execution_count": 12,
     "metadata": {},
     "output_type": "execute_result"
    }
   ],
   "source": [
    "#test_data = data[data['date'] > test_datefrom.timestamp()]\n",
    "# test_data = test_data[test_data['date'] < test_dateto.timestamp()]\n",
    "# test_data = test_data[test_data['stock_name'] == lbl_encoder.transform(np.array(['AAPL']))[0]]\n",
    "# test_data = test_data[test_data['stock_name'] == lbl_encoder.transform(np.array(['UNH']))[0]]\n",
    "# test_data = test_data[test_data['stock_name'] == lbl_encoder.transform(np.array(['MMM']))[0]]\n",
    "len(test_data)"
   ]
  },
  {
   "cell_type": "code",
   "execution_count": 13,
   "metadata": {
    "colab": {
     "base_uri": "https://localhost:8080/",
     "height": 799
    },
    "colab_type": "code",
    "id": "lbsbqs1radjo",
    "outputId": "a2358970-942e-4c8c-9fa9-d8608364e330",
    "scrolled": true
   },
   "outputs": [
    {
     "name": "stdout",
     "output_type": "stream",
     "text": [
      "[0]\tvalidation_0-auc:0.635805\tvalidation_1-auc:0.6199\n",
      "Multiple eval metrics have been passed: 'validation_1-auc' will be used for early stopping.\n",
      "\n",
      "Will train until validation_1-auc hasn't improved in 10 rounds.\n",
      "[1]\tvalidation_0-auc:0.660028\tvalidation_1-auc:0.642332\n",
      "[2]\tvalidation_0-auc:0.674551\tvalidation_1-auc:0.656444\n",
      "[3]\tvalidation_0-auc:0.680007\tvalidation_1-auc:0.663101\n",
      "[4]\tvalidation_0-auc:0.684594\tvalidation_1-auc:0.667825\n",
      "[5]\tvalidation_0-auc:0.688123\tvalidation_1-auc:0.671434\n",
      "[6]\tvalidation_0-auc:0.689657\tvalidation_1-auc:0.674561\n",
      "[7]\tvalidation_0-auc:0.691287\tvalidation_1-auc:0.677008\n",
      "[8]\tvalidation_0-auc:0.69426\tvalidation_1-auc:0.680018\n",
      "[9]\tvalidation_0-auc:0.694084\tvalidation_1-auc:0.680174\n",
      "[10]\tvalidation_0-auc:0.696305\tvalidation_1-auc:0.680043\n",
      "[11]\tvalidation_0-auc:0.698887\tvalidation_1-auc:0.682349\n",
      "[12]\tvalidation_0-auc:0.701227\tvalidation_1-auc:0.684304\n",
      "[13]\tvalidation_0-auc:0.703799\tvalidation_1-auc:0.687924\n",
      "[14]\tvalidation_0-auc:0.704949\tvalidation_1-auc:0.687966\n",
      "[15]\tvalidation_0-auc:0.707463\tvalidation_1-auc:0.689843\n",
      "[16]\tvalidation_0-auc:0.709396\tvalidation_1-auc:0.691489\n",
      "[17]\tvalidation_0-auc:0.711142\tvalidation_1-auc:0.693364\n",
      "[18]\tvalidation_0-auc:0.712149\tvalidation_1-auc:0.694208\n",
      "[19]\tvalidation_0-auc:0.713209\tvalidation_1-auc:0.694892\n",
      "[20]\tvalidation_0-auc:0.715359\tvalidation_1-auc:0.69591\n",
      "[21]\tvalidation_0-auc:0.71622\tvalidation_1-auc:0.695899\n",
      "[22]\tvalidation_0-auc:0.718104\tvalidation_1-auc:0.697734\n",
      "[23]\tvalidation_0-auc:0.719386\tvalidation_1-auc:0.698804\n",
      "[24]\tvalidation_0-auc:0.719951\tvalidation_1-auc:0.699604\n",
      "[25]\tvalidation_0-auc:0.72086\tvalidation_1-auc:0.70078\n",
      "[26]\tvalidation_0-auc:0.721406\tvalidation_1-auc:0.700463\n",
      "[27]\tvalidation_0-auc:0.722641\tvalidation_1-auc:0.701499\n",
      "[28]\tvalidation_0-auc:0.723629\tvalidation_1-auc:0.701598\n",
      "[29]\tvalidation_0-auc:0.724072\tvalidation_1-auc:0.702772\n",
      "[30]\tvalidation_0-auc:0.726083\tvalidation_1-auc:0.703349\n",
      "[31]\tvalidation_0-auc:0.726914\tvalidation_1-auc:0.703244\n",
      "[32]\tvalidation_0-auc:0.727993\tvalidation_1-auc:0.702934\n",
      "[33]\tvalidation_0-auc:0.728277\tvalidation_1-auc:0.702836\n",
      "[34]\tvalidation_0-auc:0.729064\tvalidation_1-auc:0.703399\n",
      "[35]\tvalidation_0-auc:0.730349\tvalidation_1-auc:0.703399\n",
      "[36]\tvalidation_0-auc:0.731758\tvalidation_1-auc:0.704113\n",
      "[37]\tvalidation_0-auc:0.732785\tvalidation_1-auc:0.7062\n",
      "[38]\tvalidation_0-auc:0.733422\tvalidation_1-auc:0.706845\n",
      "[39]\tvalidation_0-auc:0.733625\tvalidation_1-auc:0.707134\n",
      "[40]\tvalidation_0-auc:0.734211\tvalidation_1-auc:0.706737\n",
      "[41]\tvalidation_0-auc:0.735029\tvalidation_1-auc:0.70744\n",
      "[42]\tvalidation_0-auc:0.735408\tvalidation_1-auc:0.707688\n",
      "[43]\tvalidation_0-auc:0.736139\tvalidation_1-auc:0.708034\n",
      "[44]\tvalidation_0-auc:0.73662\tvalidation_1-auc:0.707444\n",
      "[45]\tvalidation_0-auc:0.737152\tvalidation_1-auc:0.70801\n",
      "[46]\tvalidation_0-auc:0.737948\tvalidation_1-auc:0.708172\n",
      "[47]\tvalidation_0-auc:0.739046\tvalidation_1-auc:0.708312\n",
      "[48]\tvalidation_0-auc:0.739778\tvalidation_1-auc:0.70777\n",
      "[49]\tvalidation_0-auc:0.740249\tvalidation_1-auc:0.708169\n",
      "[50]\tvalidation_0-auc:0.740578\tvalidation_1-auc:0.70843\n",
      "[51]\tvalidation_0-auc:0.741064\tvalidation_1-auc:0.708584\n",
      "[52]\tvalidation_0-auc:0.741595\tvalidation_1-auc:0.709312\n",
      "[53]\tvalidation_0-auc:0.742195\tvalidation_1-auc:0.709965\n",
      "[54]\tvalidation_0-auc:0.74244\tvalidation_1-auc:0.710334\n",
      "[55]\tvalidation_0-auc:0.743146\tvalidation_1-auc:0.710281\n",
      "[56]\tvalidation_0-auc:0.743785\tvalidation_1-auc:0.710667\n",
      "[57]\tvalidation_0-auc:0.743983\tvalidation_1-auc:0.710723\n",
      "[58]\tvalidation_0-auc:0.744407\tvalidation_1-auc:0.710637\n",
      "[59]\tvalidation_0-auc:0.744782\tvalidation_1-auc:0.71072\n",
      "[60]\tvalidation_0-auc:0.745415\tvalidation_1-auc:0.71085\n",
      "[61]\tvalidation_0-auc:0.74572\tvalidation_1-auc:0.710483\n",
      "[62]\tvalidation_0-auc:0.746026\tvalidation_1-auc:0.710654\n",
      "[63]\tvalidation_0-auc:0.746664\tvalidation_1-auc:0.710236\n",
      "[64]\tvalidation_0-auc:0.747008\tvalidation_1-auc:0.710572\n",
      "[65]\tvalidation_0-auc:0.747768\tvalidation_1-auc:0.711237\n",
      "[66]\tvalidation_0-auc:0.747835\tvalidation_1-auc:0.711332\n",
      "[67]\tvalidation_0-auc:0.74844\tvalidation_1-auc:0.711175\n",
      "[68]\tvalidation_0-auc:0.748793\tvalidation_1-auc:0.711061\n",
      "[69]\tvalidation_0-auc:0.749287\tvalidation_1-auc:0.711324\n",
      "[70]\tvalidation_0-auc:0.750024\tvalidation_1-auc:0.712017\n",
      "[71]\tvalidation_0-auc:0.750276\tvalidation_1-auc:0.712126\n",
      "[72]\tvalidation_0-auc:0.750669\tvalidation_1-auc:0.711944\n",
      "[73]\tvalidation_0-auc:0.750888\tvalidation_1-auc:0.711618\n",
      "[74]\tvalidation_0-auc:0.751191\tvalidation_1-auc:0.711631\n",
      "[75]\tvalidation_0-auc:0.751427\tvalidation_1-auc:0.711743\n",
      "[76]\tvalidation_0-auc:0.751951\tvalidation_1-auc:0.712148\n",
      "[77]\tvalidation_0-auc:0.751843\tvalidation_1-auc:0.71252\n",
      "[78]\tvalidation_0-auc:0.752263\tvalidation_1-auc:0.713112\n",
      "[79]\tvalidation_0-auc:0.75263\tvalidation_1-auc:0.71308\n",
      "[80]\tvalidation_0-auc:0.7532\tvalidation_1-auc:0.713221\n",
      "[81]\tvalidation_0-auc:0.75348\tvalidation_1-auc:0.713314\n",
      "[82]\tvalidation_0-auc:0.753734\tvalidation_1-auc:0.712797\n",
      "[83]\tvalidation_0-auc:0.754189\tvalidation_1-auc:0.712797\n",
      "[84]\tvalidation_0-auc:0.754469\tvalidation_1-auc:0.712906\n",
      "[85]\tvalidation_0-auc:0.754762\tvalidation_1-auc:0.713304\n",
      "[86]\tvalidation_0-auc:0.755034\tvalidation_1-auc:0.713397\n",
      "[87]\tvalidation_0-auc:0.755336\tvalidation_1-auc:0.713132\n",
      "[88]\tvalidation_0-auc:0.755694\tvalidation_1-auc:0.712698\n",
      "[89]\tvalidation_0-auc:0.756049\tvalidation_1-auc:0.712928\n",
      "[90]\tvalidation_0-auc:0.75641\tvalidation_1-auc:0.712998\n",
      "[91]\tvalidation_0-auc:0.756702\tvalidation_1-auc:0.712949\n",
      "[92]\tvalidation_0-auc:0.757147\tvalidation_1-auc:0.712683\n",
      "[93]\tvalidation_0-auc:0.75749\tvalidation_1-auc:0.712372\n",
      "[94]\tvalidation_0-auc:0.757568\tvalidation_1-auc:0.712458\n",
      "[95]\tvalidation_0-auc:0.757903\tvalidation_1-auc:0.711477\n",
      "[96]\tvalidation_0-auc:0.758165\tvalidation_1-auc:0.711424\n",
      "Stopping. Best iteration:\n",
      "[86]\tvalidation_0-auc:0.755034\tvalidation_1-auc:0.713397\n",
      "\n"
     ]
    },
    {
     "data": {
      "text/plain": [
       "23.075300931930542"
      ]
     },
     "execution_count": 13,
     "metadata": {},
     "output_type": "execute_result"
    }
   ],
   "source": [
    "ts = time.time()\n",
    "class_params = {\n",
    "  'colsample_bytree': 0.6617438163723828,\n",
    "  'eta': 0.1447537144916002,\n",
    "  'max_depth': 32,\n",
    "  'min_child_weight': 173,\n",
    "  'n_estimators': 2725,\n",
    "  'subsample': 0.31509874620111583,\n",
    "  'seed': 42}\n",
    "model_class = XGBClassifier(**class_params)\n",
    "\n",
    "model_class.fit(\n",
    "        X_train, \n",
    "        Y_train_classify, \n",
    "        eval_set=[(X_train, Y_train_classify), (X_valid, Y_valid_classify)], \n",
    "        verbose=True,         \n",
    "        eval_metric='auc',\n",
    "        early_stopping_rounds = 10)\n",
    "    \n",
    "time.time() - ts"
   ]
  },
  {
   "cell_type": "code",
   "execution_count": 14,
   "metadata": {},
   "outputs": [
    {
     "data": {
      "text/plain": [
       "datetime.datetime(2018, 1, 1, 0, 0)"
      ]
     },
     "execution_count": 14,
     "metadata": {},
     "output_type": "execute_result"
    }
   ],
   "source": [
    "test_datefrom"
   ]
  },
  {
   "cell_type": "code",
   "execution_count": 15,
   "metadata": {},
   "outputs": [
    {
     "data": {
      "text/plain": [
       "datetime.datetime(2019, 1, 1, 0, 0)"
      ]
     },
     "execution_count": 15,
     "metadata": {},
     "output_type": "execute_result"
    }
   ],
   "source": [
    "test_dateto"
   ]
  },
  {
   "cell_type": "code",
   "execution_count": 19,
   "metadata": {},
   "outputs": [
    {
     "name": "stdout",
     "output_type": "stream",
     "text": [
      "sell: open: 36.38, cash=10992.178,  diff=5.999999999999517, interest=1.822\n",
      "sell: open: 36.45, cash=10964.3425,  diff=25.9999999999998, interest=1.8355000000000001\n",
      "sell: open: 36.71, cash=10954.503,  diff=7.9999999999998295, interest=1.8395000000000001\n",
      "sell: open: 36.82, cash=10948.66,  diff=3.9999999999999147, interest=1.843\n",
      "sell: open: 36.72, cash=10973.8375,  diff=-26.999999999999602, interest=1.8225000000000002\n",
      "sell: open: 36.44, cash=10975.017,  diff=-3.0000000000001137, interest=1.8204999999999998\n",
      "sell: open: 36.34, cash=10960.1935,  diff=12.999999999999545, interest=1.8235000000000001\n",
      "sell: open: 36.64, cash=10966.3655,  diff=-7.9999999999998295, interest=1.828\n",
      "sell: open: 36.63, cash=10973.5385,  diff=-9.000000000000341, interest=1.827\n",
      "buy: open: 36.57, cash=10974.710000000001, diff=3.0000000000001137, interest=1.8285\n",
      "buy: open: 36.82, cash=11008.869, diff=35.99999999999994, interest=1.841\n",
      "sell: open: 37.17, cash=11025.0195,  diff=-17.99999999999997, interest=1.8495000000000001\n",
      "sell: open: 37.19, cash=11048.1725,  diff=-25.0, interest=1.847\n",
      "sell: open: 36.89, cash=11042.326000000001,  diff=3.9999999999999147, interest=1.8465\n",
      "sell: open: 36.82, cash=11040.485,  diff=0.0, interest=1.841\n",
      "sell: open: 36.99, cash=11044.638500000001,  diff=-6.000000000000227, interest=1.8465\n",
      "sell: open: 36.97, cash=11016.777000000002,  diff=25.9999999999998, interest=1.8614999999999997\n",
      "buy: open: 37.3, cash=11185.912000000002, diff=171.00000000000009, interest=1.8649999999999998\n",
      "buy: open: 39.0, cash=11185.962000000003, diff=2.0000000000003126, interest=1.95\n",
      "sell: open: 38.21, cash=11225.072000000004,  diff=-41.00000000000037, interest=1.89\n",
      "sell: open: 37.92, cash=11311.220000000005,  diff=-88.00000000000026, interest=1.852\n",
      "buy: open: 36.61, cash=11331.389500000005, diff=21.999999999999886, interest=1.8305\n",
      "sell: open: 36.6, cash=11328.559000000005,  diff=0.999999999999801, interest=1.8305\n",
      "sell: open: 36.48, cash=11507.825500000004,  diff=-180.99999999999952, interest=1.7335\n",
      "sell: open: 34.16, cash=11394.061500000003,  diff=112.00000000000045, interest=1.764\n",
      "sell: open: 35.13, cash=11407.312500000004,  diff=-15.000000000000568, interest=1.7489999999999999\n",
      "sell: open: 35.0, cash=11542.631000000003,  diff=-136.99999999999974, interest=1.6815000000000002\n",
      "sell: open: 34.19, cash=11543.923000000003,  diff=-3.0000000000001137, interest=1.7079999999999997\n",
      "sell: open: 34.45, cash=11521.190000000002,  diff=20.999999999999375, interest=1.7329999999999999\n",
      "sell: open: 34.57, cash=11482.443000000003,  diff=36.999999999999744, interest=1.747\n",
      "sell: open: 34.7, cash=11431.683500000003,  diff=48.99999999999949, interest=1.7595\n",
      "sell: open: 35.37, cash=11395.898000000003,  diff=34.00000000000034, interest=1.7855\n",
      "buy: open: 35.76, cash=11444.110000000002, diff=50.0, interest=1.788\n",
      "sell: open: 36.02, cash=11443.309500000003,  diff=-1.0000000000005116, interest=1.8005\n",
      "sell: open: 35.97, cash=11462.521500000003,  diff=-21.000000000000085, interest=1.788\n",
      "sell: open: 35.87, cash=11473.734500000002,  diff=-12.999999999999545, interest=1.7870000000000001\n",
      "sell: open: 35.93, cash=11438.921500000002,  diff=32.99999999999983, interest=1.813\n",
      "buy: open: 36.29, cash=11517.107000000002, diff=80.00000000000043, interest=1.8145\n",
      "sell: open: 37.07, cash=11542.267000000002,  diff=-27.000000000000313, interest=1.8399999999999999\n",
      "sell: open: 37.03, cash=11612.451500000001,  diff=-71.99999999999989, interest=1.8155000000000001\n",
      "sell: open: 36.12, cash=11659.67,  diff=-48.99999999999949, interest=1.7815000000000003\n",
      "sell: open: 35.55, cash=11617.8725,  diff=40.00000000000057, interest=1.7975000000000003\n",
      "sell: open: 35.82, cash=11586.066499999999,  diff=29.999999999999716, interest=1.8059999999999998\n",
      "sell: open: 36.24, cash=11620.2725,  diff=-35.99999999999994, interest=1.7940000000000003\n",
      "sell: open: 35.6, cash=11585.475999999999,  diff=32.99999999999983, interest=1.7965\n",
      "sell: open: 35.99, cash=11532.651,  diff=50.9999999999998, interest=1.825\n",
      "sell: open: 36.61, cash=11514.8125,  diff=16.00000000000037, interest=1.8385000000000002\n",
      "sell: open: 36.92, cash=11543.982,  diff=-31.000000000000227, interest=1.8305\n",
      "sell: open: 36.8, cash=11547.1445,  diff=-4.999999999999716, interest=1.8375000000000001\n",
      "sell: open: 36.84, cash=11594.327000000001,  diff=-49.0000000000002, interest=1.8175000000000001\n",
      "sell: open: 36.35, cash=11569.498000000001,  diff=22.999999999999687, interest=1.829\n",
      "sell: open: 36.64, cash=11553.659000000001,  diff=14.000000000000057, interest=1.839\n",
      "sell: open: 36.8, cash=11598.8425,  diff=-46.999999999999886, interest=1.8165\n",
      "sell: open: 36.37, cash=11601.026,  diff=-3.9999999999999147, interest=1.8165\n",
      "sell: open: 36.49, cash=11621.2125,  diff=-21.999999999999886, interest=1.8135000000000003\n",
      "sell: open: 36.03, cash=11662.432499999999,  diff=-42.99999999999997, interest=1.78\n",
      "sell: open: 35.49, cash=11760.707999999999,  diff=-100.0, interest=1.7245000000000001\n",
      "sell: open: 34.93, cash=11747.955999999998,  diff=10.999999999999943, interest=1.752\n",
      "sell: open: 35.18, cash=11763.205499999998,  diff=-17.00000000000017, interest=1.7505\n",
      "sell: open: 35.18, cash=11749.440499999999,  diff=11.999999999999744, interest=1.765\n",
      "sell: open: 35.52, cash=11750.666,  diff=-3.0000000000001137, interest=1.7745\n",
      "sell: open: 35.42, cash=11785.9135,  diff=-37.000000000000455, interest=1.7524999999999997\n",
      "sell: open: 35.11, cash=11727.129500000001,  diff=57.00000000000003, interest=1.784\n",
      "buy: open: 35.32, cash=11806.363500000001, diff=81.00000000000023, interest=1.766\n",
      "sell: open: 35.67, cash=11798.577000000001,  diff=5.999999999999517, interest=1.7864999999999998\n",
      "sell: open: 35.56, cash=11835.818500000001,  diff=-39.00000000000006, interest=1.7585\n",
      "sell: open: 35.3, cash=11818.0455,  diff=16.00000000000037, interest=1.7730000000000001\n",
      "sell: open: 36.0, cash=11821.248,  diff=-4.999999999999716, interest=1.7975000000000003\n",
      "sell: open: 35.73, cash=11813.458499999999,  diff=6.000000000000227, interest=1.7895\n",
      "sell: open: 36.03, cash=11782.642499999998,  diff=28.999999999999915, interest=1.816\n",
      "sell: open: 36.41, cash=11789.826499999997,  diff=-8.99999999999963, interest=1.816\n",
      "sell: open: 36.5, cash=11784.999999999998,  diff=3.0000000000001137, interest=1.8265\n",
      "sell: open: 36.75, cash=11825.1835,  diff=-42.00000000000017, interest=1.8165\n",
      "sell: open: 36.38, cash=11812.358999999999,  diff=10.999999999999943, interest=1.8245\n",
      "sell: open: 36.39, cash=11796.5325,  diff=14.000000000000057, interest=1.8265\n",
      "sell: open: 36.5, cash=11781.701,  diff=13.000000000000256, interest=1.8315000000000003\n",
      "sell: open: 36.67, cash=11766.860999999999,  diff=12.999999999999545, interest=1.8399999999999999\n",
      "sell: open: 36.91, cash=11750.007999999998,  diff=15.000000000000568, interest=1.853\n",
      "sell: open: 36.92, cash=11772.173999999999,  diff=-24.0000000000002, interest=1.834\n",
      "sell: open: 36.8, cash=11765.331499999998,  diff=5.000000000000426, interest=1.8425\n",
      "sell: open: 36.78, cash=11741.481499999998,  diff=21.999999999999886, interest=1.85\n",
      "sell: open: 37.13, cash=11791.650999999998,  diff=-52.00000000000031, interest=1.8305\n",
      "sell: open: 35.58, cash=11807.880999999998,  diff=-17.99999999999997, interest=1.77\n",
      "sell: open: 35.17, cash=11834.136499999997,  diff=-28.000000000000114, interest=1.7445\n",
      "sell: open: 34.82, cash=11838.398499999998,  diff=-6.000000000000227, interest=1.738\n",
      "sell: open: 34.56, cash=11808.656499999997,  diff=28.000000000000114, interest=1.7420000000000002\n",
      "sell: open: 34.79, cash=11792.909999999998,  diff=14.000000000000057, interest=1.7465\n",
      "sell: open: 34.91, cash=11784.160999999998,  diff=7.000000000000028, interest=1.7489999999999999\n",
      "sell: open: 35.02, cash=11767.402499999998,  diff=14.999999999999858, interest=1.7585\n",
      "sell: open: 35.0, cash=11761.650499999998,  diff=3.9999999999999147, interest=1.752\n",
      "buy: open: 35.13, cash=11796.893999999998, diff=36.999999999999744, interest=1.7565000000000002\n",
      "sell: open: 35.51, cash=11760.100999999999,  diff=35.00000000000014, interest=1.793\n",
      "buy: open: 35.76, cash=11751.312999999998, diff=-7.000000000000028, interest=1.788\n",
      "buy: open: 35.73, cash=11744.526499999998, diff=-4.999999999999716, interest=1.7864999999999998\n",
      "buy: open: 35.63, cash=11750.744999999997, diff=7.9999999999998295, interest=1.7815000000000003\n",
      "buy: open: 35.61, cash=11751.964499999996, diff=3.0000000000001137, interest=1.7805\n",
      "buy: open: 35.71, cash=11759.178999999996, diff=8.99999999999963, interest=1.7855\n",
      "buy: open: 35.8, cash=11749.388999999997, diff=-7.9999999999998295, interest=1.7899999999999998\n",
      "buy: open: 35.68, cash=11776.604999999998, diff=28.999999999999915, interest=1.784\n",
      "buy: open: 35.96, cash=11767.806999999997, diff=-7.000000000000028, interest=1.798\n",
      "buy: open: 35.82, cash=11752.015999999998, diff=-14.000000000000057, interest=1.7910000000000001\n",
      "buy: open: 35.37, cash=11783.247499999998, diff=33.00000000000054, interest=1.7684999999999997\n",
      "buy: open: 35.95, cash=11791.449999999997, diff=9.999999999999432, interest=1.7975000000000003\n",
      "buy: open: 35.95, cash=11787.652499999997, diff=-2.0000000000003126, interest=1.7975000000000003\n",
      "buy: open: 36.26, cash=11784.839499999996, diff=-0.999999999999801, interest=1.813\n",
      "buy: open: 36.41, cash=11787.018999999997, diff=4.000000000000625, interest=1.8204999999999998\n",
      "buy: open: 36.51, cash=11778.193499999996, diff=-7.000000000000028, interest=1.8255000000000001\n",
      "buy: open: 36.395, cash=11774.873749999995, diff=-1.5000000000000568, interest=1.8197500000000002\n",
      "buy: open: 36.49, cash=11773.049249999995, diff=0.0, interest=1.8245\n",
      "buy: open: 36.53, cash=11785.222749999995, diff=14.000000000000057, interest=1.8265\n",
      "sell: open: 36.8, cash=11833.407749999995,  diff=-50.0, interest=1.8149999999999997\n",
      "buy: open: 36.39, cash=11822.588249999995, diff=-9.000000000000341, interest=1.8195000000000001\n",
      "buy: open: 36.37, cash=11805.769749999996, diff=-14.999999999999858, interest=1.8184999999999998\n",
      "buy: open: 36.22, cash=11797.958749999996, diff=-6.000000000000227, interest=1.811\n",
      "buy: open: 36.19, cash=11813.149249999997, diff=17.00000000000017, interest=1.8095\n",
      "buy: open: 36.13, cash=11814.342749999996, diff=2.999999999999403, interest=1.8065000000000002\n",
      "buy: open: 35.89, cash=11845.548249999996, diff=32.99999999999983, interest=1.7945\n",
      "buy: open: 36.29, cash=11860.733749999996, diff=17.00000000000017, interest=1.8145\n",
      "buy: open: 36.27, cash=11861.920249999996, diff=2.999999999999403, interest=1.8135000000000003\n",
      "buy: open: 36.49, cash=11862.095749999995, diff=1.999999999999602, interest=1.8245\n",
      "buy: open: 36.32, cash=11866.279749999996, diff=6.000000000000227, interest=1.816\n",
      "buy: open: 36.4, cash=11862.459749999996, diff=-1.999999999999602, interest=1.82\n",
      "buy: open: 36.3, cash=11851.644749999996, diff=-8.99999999999963, interest=1.8149999999999997\n",
      "buy: open: 36.11, cash=11874.839249999995, diff=25.0, interest=1.8055\n",
      "sell: open: 36.45, cash=11890.025249999995,  diff=-17.00000000000017, interest=1.814\n"
     ]
    },
    {
     "name": "stdout",
     "output_type": "stream",
     "text": [
      "buy: open: 36.0, cash=11921.225249999996, diff=32.99999999999983, interest=1.8\n",
      "buy: open: 36.39, cash=11915.405749999996, diff=-3.9999999999999147, interest=1.8195000000000001\n",
      "buy: open: 36.54, cash=11946.578749999997, diff=32.99999999999983, interest=1.827\n",
      "buy: open: 37.0, cash=11955.728749999997, diff=10.999999999999943, interest=1.85\n",
      "buy: open: 37.27, cash=11942.865249999995, diff=-11.000000000000654, interest=1.8635000000000002\n",
      "buy: open: 37.3, cash=11954.000249999996, diff=13.000000000000256, interest=1.8649999999999998\n",
      "buy: open: 37.25, cash=11948.137749999996, diff=-3.9999999999999147, interest=1.8625\n",
      "buy: open: 37.41, cash=11957.267249999997, diff=11.000000000000654, interest=1.8704999999999998\n",
      "buy: open: 37.5, cash=11958.392249999997, diff=3.0000000000001137, interest=1.875\n",
      "buy: open: 37.48, cash=11946.518249999997, diff=-9.999999999999432, interest=1.8739999999999999\n",
      "buy: open: 37.46, cash=11963.645249999998, diff=18.999999999999773, interest=1.873\n",
      "buy: open: 37.59, cash=11968.765749999997, diff=6.999999999999318, interest=1.8795000000000002\n",
      "buy: open: 37.45, cash=11957.893249999997, diff=-9.000000000000341, interest=1.8725000000000003\n",
      "buy: open: 37.2, cash=11969.033249999997, diff=12.999999999999545, interest=1.8600000000000003\n",
      "buy: open: 37.34, cash=11954.166249999997, diff=-13.000000000000256, interest=1.8670000000000002\n",
      "buy: open: 37.37, cash=11985.297749999998, diff=33.00000000000054, interest=1.8684999999999998\n",
      "buy: open: 37.67, cash=12015.414249999998, diff=32.00000000000003, interest=1.8835\n",
      "buy: open: 38.04, cash=12025.512249999998, diff=11.999999999999744, interest=1.9020000000000001\n",
      "buy: open: 38.1, cash=12054.607249999997, diff=30.999999999999517, interest=1.905\n",
      "buy: open: 38.36, cash=12075.689249999998, diff=23.000000000000398, interest=1.9180000000000001\n",
      "buy: open: 38.21, cash=12245.778749999998, diff=171.9999999999999, interest=1.9105\n",
      "buy: open: 39.63, cash=12307.797249999998, diff=64.00000000000006, interest=1.9815000000000003\n",
      "buy: open: 39.62, cash=12308.816249999998, diff=3.0000000000001137, interest=1.9809999999999999\n",
      "buy: open: 39.62, cash=12398.835249999998, diff=92.00000000000017, interest=1.9809999999999999\n",
      "buy: open: 40.3562, cash=12465.197439999998, diff=68.3799999999998, interest=2.01781\n",
      "buy: open: 40.85, cash=12462.154939999999, diff=-0.999999999999801, interest=2.0425\n",
      "buy: open: 40.71, cash=12530.119439999999, diff=69.99999999999957, interest=2.0355\n",
      "buy: open: 41.3, cash=12498.054439999998, diff=-29.999999999999716, interest=2.065\n",
      "buy: open: 40.81, cash=12508.013939999997, diff=11.999999999999744, interest=2.0405\n",
      "buy: open: 40.95, cash=12491.966439999997, diff=-14.000000000000057, interest=2.0475000000000003\n",
      "buy: open: 40.84, cash=12476.924439999997, diff=-13.000000000000256, interest=2.0420000000000003\n",
      "buy: open: 40.8, cash=12510.884439999996, diff=35.99999999999994, interest=2.04\n",
      "buy: open: 41.23, cash=12527.822939999996, diff=19.000000000000483, interest=2.0615\n",
      "buy: open: 41.48, cash=12586.748939999998, diff=61.000000000000654, interest=2.074\n",
      "buy: open: 42.2, cash=12597.638939999997, diff=12.999999999999545, interest=2.11\n",
      "buy: open: 42.33, cash=12578.522439999997, diff=-17.00000000000017, interest=2.1165\n",
      "buy: open: 42.15, cash=12568.414939999997, diff=-7.9999999999998295, interest=2.1075\n",
      "buy: open: 42.11, cash=12575.309439999997, diff=9.000000000000341, interest=2.1055\n",
      "buy: open: 42.43, cash=12570.187939999998, diff=-3.0000000000001137, interest=2.1215\n",
      "sell: open: 42.52, cash=12662.108939999998,  diff=-94.00000000000048, interest=2.079\n",
      "buy: open: 41.61, cash=12649.028439999998, diff=-10.999999999999943, interest=2.0805000000000002\n",
      "buy: open: 41.5, cash=12646.953439999997, diff=0.0, interest=2.075\n",
      "buy: open: 41.23, cash=12671.891939999998, diff=27.000000000000313, interest=2.0615\n",
      "buy: open: 41.29, cash=12692.827439999997, diff=23.000000000000398, interest=2.0645000000000002\n",
      "buy: open: 41.48, cash=12679.753439999997, diff=-10.999999999999943, interest=2.074\n",
      "buy: open: 41.29, cash=12733.688939999996, diff=56.00000000000023, interest=2.0645000000000002\n",
      "buy: open: 41.85, cash=12724.596439999996, diff=-7.000000000000028, interest=2.0925000000000002\n",
      "buy: open: 41.59, cash=12783.516939999996, diff=60.99999999999994, interest=2.0795\n",
      "buy: open: 42.38, cash=12749.397939999995, diff=-32.00000000000003, interest=2.119\n",
      "buy: open: 42.0, cash=12778.297939999995, diff=31.000000000000227, interest=2.1\n",
      "buy: open: 42.3, cash=12787.182939999995, diff=10.999999999999943, interest=2.115\n",
      "buy: open: 42.5, cash=12820.057939999995, diff=35.00000000000014, interest=2.125\n",
      "buy: open: 42.75, cash=12838.920439999994, diff=21.000000000000085, interest=2.1375\n",
      "buy: open: 43.02, cash=12835.769439999995, diff=-1.0000000000005116, interest=2.1510000000000002\n",
      "buy: open: 43.0, cash=12884.619439999995, diff=50.9999999999998, interest=2.15\n",
      "buy: open: 43.42, cash=12866.448439999995, diff=-16.00000000000037, interest=2.1710000000000003\n",
      "buy: open: 43.37, cash=12902.279939999995, diff=38.000000000000256, interest=2.1685\n",
      "buy: open: 43.78, cash=12928.090939999995, diff=28.000000000000114, interest=2.189\n",
      "buy: open: 43.94, cash=12924.893939999994, diff=-0.999999999999801, interest=2.197\n",
      "buy: open: 44.13, cash=12888.687439999994, diff=-34.00000000000034, interest=2.2065\n",
      "buy: open: 43.84, cash=12870.495439999993, diff=-16.00000000000037, interest=2.192\n",
      "buy: open: 43.79, cash=12879.305939999993, diff=10.999999999999943, interest=2.1895000000000002\n",
      "sell: open: 43.93, cash=12863.102439999993,  diff=14.000000000000057, interest=2.2035\n",
      "sell: open: 44.03, cash=12836.888939999993,  diff=24.0000000000002, interest=2.2135000000000002\n",
      "sell: open: 44.21, cash=12833.677939999994,  diff=0.999999999999801, interest=2.211\n",
      "sell: open: 44.28, cash=12778.437439999994,  diff=53.000000000000114, interest=2.2405\n",
      "sell: open: 44.53, cash=12759.202439999994,  diff=17.00000000000017, interest=2.235\n",
      "sell: open: 44.71, cash=12736.956939999995,  diff=19.999999999999574, interest=2.2455\n",
      "sell: open: 44.75, cash=12681.692939999995,  diff=53.000000000000114, interest=2.2640000000000002\n",
      "sell: open: 44.99, cash=12631.419439999996,  diff=47.99999999999969, interest=2.2735\n",
      "sell: open: 45.45, cash=12723.193939999997,  diff=-94.00000000000048, interest=2.2255000000000003\n",
      "sell: open: 44.36, cash=12876.053439999998,  diff=-154.99999999999972, interest=2.1405\n",
      "buy: open: 42.77, cash=12974.914939999997, diff=100.9999999999998, interest=2.1385\n",
      "sell: open: 43.65, cash=13025.758939999998,  diff=-53.000000000000114, interest=2.156\n",
      "buy: open: 43.35, cash=13081.591439999998, diff=57.99999999999983, interest=2.1675\n",
      "buy: open: 43.77, cash=13159.402939999998, diff=79.99999999999972, interest=2.1885\n",
      "sell: open: 44.34, cash=13191.20294,  diff=-34.00000000000034, interest=2.2\n",
      "buy: open: 44.05, cash=13234.00044, diff=45.000000000000284, interest=2.2025\n",
      "sell: open: 44.44, cash=13238.781939999999,  diff=-7.000000000000028, interest=2.2185\n",
      "buy: open: 43.89, cash=13257.58744, diff=21.000000000000085, interest=2.1945\n",
      "sell: open: 43.81, cash=13388.46344,  diff=-133.00000000000054, interest=2.124\n",
      "buy: open: 42.39, cash=13488.343939999999, diff=101.9999999999996, interest=2.1195\n",
      "sell: open: 43.05, cash=13531.213939999998,  diff=-44.999999999999574, interest=2.13\n",
      "buy: open: 42.95, cash=13557.066439999997, diff=27.999999999999403, interest=2.1475\n",
      "buy: open: 41.95, cash=13648.968939999997, diff=93.99999999999977, interest=2.0975\n",
      "sell: open: 43.01, cash=13641.815939999997,  diff=5.000000000000426, interest=2.153\n",
      "sell: open: 43.2, cash=13592.632439999998,  diff=46.999999999999886, interest=2.1835\n",
      "sell: open: 43.76, cash=13673.485939999997,  diff=-82.99999999999983, interest=2.1465\n",
      "sell: open: 42.83, cash=13602.309939999996,  diff=69.00000000000048, interest=2.176\n",
      "sell: open: 43.58, cash=13657.159439999996,  diff=-57.00000000000003, interest=2.1505\n",
      "buy: open: 43.38, cash=13756.990439999996, diff=101.9999999999996, interest=2.169\n",
      "sell: open: 43.86, cash=13755.797939999995,  diff=-0.999999999999801, interest=2.1925\n",
      "buy: open: 43.72, cash=13809.611939999995, diff=56.00000000000023, interest=2.186\n",
      "sell: open: 44.28, cash=13824.406439999995,  diff=-17.00000000000017, interest=2.2055000000000002\n",
      "sell: open: 44.33, cash=13903.230439999994,  diff=-80.99999999999952, interest=2.176\n",
      "sell: open: 43.76, cash=13986.084939999993,  diff=-85.00000000000014, interest=2.1455\n",
      "sell: open: 42.7, cash=13932.924439999993,  diff=50.9999999999998, interest=2.1605\n",
      "sell: open: 43.1, cash=13889.748939999994,  diff=40.99999999999966, interest=2.1755\n",
      "sell: open: 43.62, cash=13831.539939999993,  diff=56.00000000000023, interest=2.209\n",
      "sell: open: 44.01, cash=13877.363439999994,  diff=-47.99999999999969, interest=2.1765\n",
      "sell: open: 43.5, cash=13915.208439999993,  diff=-39.99999999999986, interest=2.1550000000000002\n",
      "buy: open: 42.95, cash=13932.060939999992, diff=18.999999999999773, interest=2.1475\n",
      "sell: open: 43.32, cash=13927.893939999993,  diff=2.0000000000003126, interest=2.1670000000000003\n",
      "buy: open: 43.2, cash=14012.733939999993, diff=86.99999999999974, interest=2.16\n",
      "buy: open: 44.29, cash=14071.519439999993, diff=60.99999999999994, interest=2.2145\n",
      "buy: open: 44.76, cash=14144.281439999993, diff=75.0, interest=2.238\n",
      "buy: open: 45.35, cash=14230.013939999993, diff=87.99999999999955, interest=2.2675\n",
      "buy: open: 46.37, cash=14189.695439999994, diff=-37.999999999999545, interest=2.3185000000000002\n",
      "sell: open: 46.23, cash=14296.438439999994,  diff=-108.99999999999963, interest=2.257\n",
      "sell: open: 44.58, cash=14254.189439999995,  diff=39.99999999999986, interest=2.249\n",
      "sell: open: 44.82, cash=14341.993439999995,  diff=-89.99999999999986, interest=2.196\n",
      "sell: open: 44.14, cash=14313.773439999995,  diff=25.9999999999998, interest=2.22\n",
      "sell: open: 44.08, cash=14318.572939999995,  diff=-7.000000000000028, interest=2.2005\n",
      "sell: open: 44.35, cash=14335.364939999996,  diff=-19.000000000000483, interest=2.208\n",
      "sell: open: 44.46, cash=14322.136439999997,  diff=10.999999999999943, interest=2.2285\n",
      "sell: open: 44.08, cash=14347.946439999996,  diff=-28.000000000000114, interest=2.19\n",
      "sell: open: 43.5, cash=14384.790939999995,  diff=-39.00000000000006, interest=2.1555\n",
      "sell: open: 43.47, cash=14489.670939999995,  diff=-107.00000000000003, interest=2.12\n",
      "sell: open: 42.83, cash=14573.572439999994,  diff=-85.99999999999994, interest=2.0985\n",
      "sell: open: 41.71, cash=14547.474939999995,  diff=24.0000000000002, interest=2.0975\n",
      "buy: open: 41.64, cash=14574.392939999994, diff=28.999999999999915, interest=2.082\n",
      "sell: open: 41.81, cash=14698.365439999994,  diff=-126.00000000000051, interest=2.0275\n",
      "buy: open: 40.66, cash=14849.332439999995, diff=153.0000000000001, interest=2.033\n",
      "buy: open: 41.81, cash=14951.241939999994, diff=103.99999999999991, interest=2.0905\n",
      "sell: open: 43.02, cash=14955.093939999995,  diff=-6.000000000000227, interest=2.148\n",
      "sell: open: 43.21, cash=14908.911439999996,  diff=43.99999999999977, interest=2.1825\n",
      "(14908.911439999996, 10948.66, 14955.093939999995)\n"
     ]
    }
   ],
   "source": [
    "def strategy(row):\n",
    "    strategy_input = pd.DataFrame([row])\n",
    "    strategy_input = strategy_input.drop(['date','close','adj_close', 'volume'], axis=1)\n",
    "    decision = 'buy' if model_class.predict(strategy_input) else 'sell'\n",
    "    return decision\n",
    "\n",
    "cash_res = bot.simulate_trading(strategy, test_data, initial_cash=11000, multipl=100, interest_percent=0.05)\n",
    "print(cash_res)"
   ]
  }
 ],
 "metadata": {
  "colab": {
   "collapsed_sections": [],
   "name": "Traiding_multiple_stocks_with_pso.ipynb",
   "provenance": [],
   "toc_visible": true,
   "version": "0.3.2"
  },
  "kernelspec": {
   "display_name": "Python 3",
   "language": "python",
   "name": "python3"
  },
  "language_info": {
   "codemirror_mode": {
    "name": "ipython",
    "version": 3
   },
   "file_extension": ".py",
   "mimetype": "text/x-python",
   "name": "python",
   "nbconvert_exporter": "python",
   "pygments_lexer": "ipython3",
   "version": "3.6.1"
  }
 },
 "nbformat": 4,
 "nbformat_minor": 1
}
